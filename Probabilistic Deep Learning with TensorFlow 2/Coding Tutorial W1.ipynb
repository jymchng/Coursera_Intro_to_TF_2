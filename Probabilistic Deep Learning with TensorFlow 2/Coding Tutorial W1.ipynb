{
 "cells": [
  {
   "cell_type": "code",
   "execution_count": 1,
   "metadata": {
    "ExecuteTime": {
     "end_time": "2021-03-30T02:48:32.502985Z",
     "start_time": "2021-03-30T02:48:26.237746Z"
    }
   },
   "outputs": [
    {
     "name": "stdout",
     "output_type": "stream",
     "text": [
      "TF version: 2.4.1\n",
      "TFP version: 0.12.1\n"
     ]
    }
   ],
   "source": [
    "import tensorflow as tf\n",
    "import tensorflow_probability as tfp\n",
    "tfd = tfp.distributions\n",
    "\n",
    "print(\"TF version:\", tf.__version__)\n",
    "print(\"TFP version:\", tfp.__version__)"
   ]
  },
  {
   "cell_type": "code",
   "execution_count": 2,
   "metadata": {
    "ExecuteTime": {
     "end_time": "2021-03-30T02:48:35.694385Z",
     "start_time": "2021-03-30T02:48:35.313404Z"
    }
   },
   "outputs": [],
   "source": [
    "# Additional imports and setting fixed random seed to have reproducibility\n",
    "\n",
    "import matplotlib.pyplot as plt\n",
    "import numpy as np\n",
    "tf.random.set_seed(123)"
   ]
  },
  {
   "cell_type": "markdown",
   "metadata": {},
   "source": [
    "# Tensorflow Distributions"
   ]
  },
  {
   "cell_type": "markdown",
   "metadata": {},
   "source": [
    "## Coding Tutorials\n",
    "#### 1. [Univariate Distributions](#univariate_distributions)\n",
    "#### 2. [Multivariate Distributions](#multivariate_distributions)\n",
    "#### 3. [The Independent Distribution](#the_independent_distribution)\n",
    "#### 4. [Sampling and log probs](#sampling_and_log_probs)\n",
    "#### 5. [Trainable Distributions](#trainable_distributions)"
   ]
  },
  {
   "cell_type": "markdown",
   "metadata": {},
   "source": [
    "***\n",
    "## Univariate distributions\n",
    "<a id='univariate_distributions'></a>"
   ]
  },
  {
   "cell_type": "code",
   "execution_count": 3,
   "metadata": {
    "ExecuteTime": {
     "end_time": "2021-03-30T02:49:35.633762Z",
     "start_time": "2021-03-30T02:49:34.932591Z"
    }
   },
   "outputs": [
    {
     "data": {
      "text/plain": [
       "<tfp.distributions.Normal 'Normal' batch_shape=[] event_shape=[] dtype=float32>"
      ]
     },
     "execution_count": 3,
     "metadata": {},
     "output_type": "execute_result"
    }
   ],
   "source": [
    "# Create a normal distribution from Tensorflow Distributions\n",
    "\n",
    "normal = tfd.Normal(loc=0,scale=1)\n",
    "normal"
   ]
  },
  {
   "cell_type": "code",
   "execution_count": 4,
   "metadata": {
    "ExecuteTime": {
     "end_time": "2021-03-30T02:49:43.512250Z",
     "start_time": "2021-03-30T02:49:43.494297Z"
    }
   },
   "outputs": [
    {
     "data": {
      "text/plain": [
       "<tf.Tensor: shape=(5,), dtype=float32, numpy=\n",
       "array([-0.8980837 , -1.8259144 , -0.44441807, -1.4882947 , -0.7855463 ],\n",
       "      dtype=float32)>"
      ]
     },
     "execution_count": 4,
     "metadata": {},
     "output_type": "execute_result"
    }
   ],
   "source": [
    "# Sample from the chosen distribution...\n",
    "\n",
    "normal.sample(5)"
   ]
  },
  {
   "cell_type": "code",
   "execution_count": 5,
   "metadata": {
    "ExecuteTime": {
     "end_time": "2021-03-30T02:50:08.050538Z",
     "start_time": "2021-03-30T02:50:08.039568Z"
    }
   },
   "outputs": [
    {
     "data": {
      "text/plain": [
       "<tf.Tensor: shape=(100,), dtype=float32, numpy=\n",
       "array([ 0.33875433,  0.3449861 , -0.6605785 , -0.2854994 ,  0.43852386,\n",
       "        0.8288566 , -0.53591555, -0.5353483 , -1.0324248 , -2.942705  ,\n",
       "        0.22994906, -0.54620427, -0.29739588,  0.0165684 ,  0.15928634,\n",
       "       -0.43964577,  1.2443346 , -0.8386439 , -0.42134959,  0.07302128,\n",
       "       -0.01232606, -0.45987487, -0.7030544 , -1.0494213 , -0.4068649 ,\n",
       "        0.70376766,  0.15045081, -0.11866443, -0.97155815, -1.8645742 ,\n",
       "       -0.9494801 , -1.5251714 , -0.16689245,  0.3013806 ,  2.4803462 ,\n",
       "       -0.29877564, -0.43377975, -0.7796397 ,  0.12170142,  0.00365537,\n",
       "        2.3723958 , -0.6633746 , -0.23748903,  0.49617675, -1.2733086 ,\n",
       "        0.82116693,  1.4974672 ,  1.9248661 ,  1.1244863 , -0.7253876 ,\n",
       "        1.1786381 ,  2.6358516 ,  1.7394918 , -0.76700944, -0.23252317,\n",
       "        0.39683342, -0.09006508, -0.26957023, -0.62394035,  1.3852935 ,\n",
       "        0.03589001, -0.37348393, -2.7601318 , -0.03919969,  1.3688127 ,\n",
       "       -1.3988788 , -0.80278945, -0.23407489, -1.7803962 , -0.09675159,\n",
       "       -1.604616  ,  0.78303427,  0.06333537,  0.11498857,  0.8331566 ,\n",
       "       -1.5389537 , -0.42328802,  0.9145659 ,  0.9061357 , -0.05354716,\n",
       "        0.60585684, -0.51745254, -1.7043357 , -0.02701364, -0.00710395,\n",
       "        1.1539234 , -1.7635069 , -2.0365014 , -0.5450172 ,  0.9298993 ,\n",
       "        0.91419375, -0.3413351 ,  0.5171254 , -0.34438533,  0.5493155 ,\n",
       "        0.01460932,  0.7466298 ,  0.6907573 ,  0.1272641 ,  0.18322931],\n",
       "      dtype=float32)>"
      ]
     },
     "execution_count": 5,
     "metadata": {},
     "output_type": "execute_result"
    }
   ],
   "source": [
    "# ... or sample multiple times\n",
    "\n",
    "normal.sample(100)"
   ]
  },
  {
   "cell_type": "code",
   "execution_count": 6,
   "metadata": {
    "ExecuteTime": {
     "end_time": "2021-03-30T02:50:20.527630Z",
     "start_time": "2021-03-30T02:50:20.514665Z"
    }
   },
   "outputs": [
    {
     "data": {
      "text/plain": [
       "<tf.Tensor: shape=(), dtype=float32, numpy=0.3989423>"
      ]
     },
     "execution_count": 6,
     "metadata": {},
     "output_type": "execute_result"
    }
   ],
   "source": [
    "# Obtain value of probability's density\n",
    "\n",
    "normal.prob(0)"
   ]
  },
  {
   "cell_type": "code",
   "execution_count": 7,
   "metadata": {
    "ExecuteTime": {
     "end_time": "2021-03-30T02:50:34.950121Z",
     "start_time": "2021-03-30T02:50:34.943138Z"
    }
   },
   "outputs": [
    {
     "data": {
      "text/plain": [
       "<tf.Tensor: shape=(), dtype=float32, numpy=-0.9189385>"
      ]
     },
     "execution_count": 7,
     "metadata": {},
     "output_type": "execute_result"
    }
   ],
   "source": [
    "# Obtain value of logprobability\n",
    "\n",
    "normal.log_prob(0)"
   ]
  },
  {
   "cell_type": "code",
   "execution_count": 8,
   "metadata": {
    "ExecuteTime": {
     "end_time": "2021-03-30T02:50:54.479551Z",
     "start_time": "2021-03-30T02:50:54.471573Z"
    }
   },
   "outputs": [
    {
     "data": {
      "text/plain": [
       "-0.9189385"
      ]
     },
     "execution_count": 8,
     "metadata": {},
     "output_type": "execute_result"
    }
   ],
   "source": [
    "# Verify that this really is the log of the probability\n",
    "\n",
    "np.log(normal.prob(0))"
   ]
  },
  {
   "cell_type": "code",
   "execution_count": 9,
   "metadata": {
    "ExecuteTime": {
     "end_time": "2021-03-30T02:51:00.982842Z",
     "start_time": "2021-03-30T02:51:00.541053Z"
    }
   },
   "outputs": [
    {
     "data": {
      "image/png": "[encoded data removed]",
      "text/plain": [
       "<Figure size 432x288 with 1 Axes>"
      ]
     },
     "metadata": {
      "needs_background": "light"
     },
     "output_type": "display_data"
    }
   ],
   "source": [
    "# Plot a histogram, approximating the density\n",
    "\n",
    "plt.hist(normal.sample(10000), bins=50, density=True)\n",
    "plt.show()"
   ]
  },
  {
   "cell_type": "code",
   "execution_count": 10,
   "metadata": {
    "ExecuteTime": {
     "end_time": "2021-03-30T02:51:34.849340Z",
     "start_time": "2021-03-30T02:51:34.844354Z"
    }
   },
   "outputs": [],
   "source": [
    "# Do the same for the exponential distribution\n",
    "\n",
    "exponential = tfd.Exponential(rate=1)"
   ]
  },
  {
   "cell_type": "code",
   "execution_count": 12,
   "metadata": {
    "ExecuteTime": {
     "end_time": "2021-03-30T02:52:09.126417Z",
     "start_time": "2021-03-30T02:52:08.872097Z"
    }
   },
   "outputs": [
    {
     "data": {
      "image/png": "[encoded data removed]",
      "text/plain": [
       "<Figure size 432x288 with 1 Axes>"
      ]
     },
     "metadata": {
      "needs_background": "light"
     },
     "output_type": "display_data"
    }
   ],
   "source": [
    "# Sample as before\n",
    "\n",
    "exponential.sample(100)\n",
    "plt.hist(exponential.sample(10000), bins=50, density=True)\n",
    "plt.show()"
   ]
  },
  {
   "cell_type": "code",
   "execution_count": 14,
   "metadata": {
    "ExecuteTime": {
     "end_time": "2021-03-30T02:52:54.138157Z",
     "start_time": "2021-03-30T02:52:54.119208Z"
    }
   },
   "outputs": [
    {
     "data": {
      "text/plain": [
       "<tf.Tensor: shape=(10,), dtype=int32, numpy=array([1, 0, 1, 1, 1, 1, 1, 1, 1, 1])>"
      ]
     },
     "execution_count": 14,
     "metadata": {},
     "output_type": "execute_result"
    }
   ],
   "source": [
    "# Create a Bernoulli distribution (discrete)\n",
    "\n",
    "bernoulli = tfd.Bernoulli(probs = 0.8)\n",
    "bernoulli.sample(10)"
   ]
  },
  {
   "cell_type": "markdown",
   "metadata": {},
   "source": [
    "#### A word of caution on discrete distributions"
   ]
  },
  {
   "cell_type": "code",
   "execution_count": 15,
   "metadata": {
    "ExecuteTime": {
     "end_time": "2021-03-30T03:08:35.154832Z",
     "start_time": "2021-03-30T03:08:35.141833Z"
    }
   },
   "outputs": [
    {
     "name": "stdout",
     "output_type": "stream",
     "text": [
      "prob result 0.19999998807907104 for k = 0 \n",
      "prob result 0.3999999761581421 for k = 0.5 \n",
      "prob result 0.800000011920929 for k = 1 \n",
      "prob result 0.04999999701976776 for k = -1 \n"
     ]
    }
   ],
   "source": [
    "# Calculate Bernoulli prob and see that 0.5 and -1 do not give the correct probability!\n",
    "\n",
    "for k in [0,0.5,1,-1]:\n",
    "    print('prob result {} for k = {} '.format(bernoulli.prob(k), k))"
   ]
  },
  {
   "cell_type": "code",
   "execution_count": 16,
   "metadata": {
    "ExecuteTime": {
     "end_time": "2021-03-30T03:10:46.088744Z",
     "start_time": "2021-03-30T03:10:46.083757Z"
    }
   },
   "outputs": [],
   "source": [
    "# Replicate the scores to see what is occurring under the hood\n",
    "\n",
    "def my_bernoulli(p_success, k):\n",
    "    return np.power(p_success,k)*np.power((1-p_success),(1-k))"
   ]
  },
  {
   "cell_type": "code",
   "execution_count": 17,
   "metadata": {
    "ExecuteTime": {
     "end_time": "2021-03-30T03:11:11.008207Z",
     "start_time": "2021-03-30T03:11:11.002221Z"
    }
   },
   "outputs": [
    {
     "name": "stdout",
     "output_type": "stream",
     "text": [
      "prob result 0.19999999999999996 for k = 0 \n",
      "prob result 0.3999999999999999 for k = 0.5 \n",
      "prob result 0.8 for k = 1 \n",
      "prob result 0.049999999999999975 for k = -1 \n"
     ]
    }
   ],
   "source": [
    "# Evaluate it as before\n",
    "\n",
    "for k in [0,0.5,1,-1]:\n",
    "    print('prob result {} for k = {} '.format(my_bernoulli(0.8, k), k))"
   ]
  },
  {
   "cell_type": "markdown",
   "metadata": {},
   "source": [
    "#### Work with batch distributions"
   ]
  },
  {
   "cell_type": "code",
   "execution_count": 18,
   "metadata": {
    "ExecuteTime": {
     "end_time": "2021-03-30T03:14:25.740785Z",
     "start_time": "2021-03-30T03:14:25.733805Z"
    }
   },
   "outputs": [
    {
     "data": {
      "text/plain": [
       "<tfp.distributions.Bernoulli 'Bernoulli' batch_shape=[5] event_shape=[] dtype=int32>"
      ]
     },
     "execution_count": 18,
     "metadata": {},
     "output_type": "execute_result"
    }
   ],
   "source": [
    "# Create a batched Bernoulli distribution\n",
    "\n",
    "bernoulli_batch = tfd.Bernoulli(probs=[0.1, 0.25, 0.5, 0.75, 0.9])\n",
    "bernoulli_batch"
   ]
  },
  {
   "cell_type": "code",
   "execution_count": 19,
   "metadata": {
    "ExecuteTime": {
     "end_time": "2021-03-30T03:15:08.388281Z",
     "start_time": "2021-03-30T03:15:08.374318Z"
    }
   },
   "outputs": [
    {
     "data": {
      "text/plain": [
       "<tf.Tensor: shape=(5, 5), dtype=int32, numpy=\n",
       "array([[0, 0, 1, 1, 1],\n",
       "       [0, 0, 0, 1, 1],\n",
       "       [0, 0, 1, 1, 1],\n",
       "       [1, 0, 1, 1, 1],\n",
       "       [0, 0, 1, 1, 1]])>"
      ]
     },
     "execution_count": 19,
     "metadata": {},
     "output_type": "execute_result"
    }
   ],
   "source": [
    "# Sample from it, noting the shape\n",
    "\n",
    "bernoulli_batch.sample(5)"
   ]
  },
  {
   "cell_type": "code",
   "execution_count": 20,
   "metadata": {
    "ExecuteTime": {
     "end_time": "2021-03-30T03:15:14.759977Z",
     "start_time": "2021-03-30T03:15:14.751999Z"
    }
   },
   "outputs": [
    {
     "data": {
      "text/plain": [
       "<tfp.distributions.Bernoulli 'Bernoulli' batch_shape=[1, 3, 2] event_shape=[] dtype=int32>"
      ]
     },
     "execution_count": 20,
     "metadata": {},
     "output_type": "execute_result"
    }
   ],
   "source": [
    "# Use a batch shape with higher rank\n",
    "\n",
    "probs = [[[0.5, 0.5], \n",
    "          [0.8, 0.3], \n",
    "          [0.25, 0.75]]]\n",
    "bernoulli_batch_2D = tfd.Bernoulli(probs=probs)\n",
    "bernoulli_batch_2D"
   ]
  },
  {
   "cell_type": "code",
   "execution_count": 21,
   "metadata": {
    "ExecuteTime": {
     "end_time": "2021-03-30T03:15:44.011342Z",
     "start_time": "2021-03-30T03:15:44.000370Z"
    }
   },
   "outputs": [
    {
     "data": {
      "text/plain": [
       "<tf.Tensor: shape=(5, 1, 3, 2), dtype=int32, numpy=\n",
       "array([[[[0, 1],\n",
       "         [0, 0],\n",
       "         [0, 1]]],\n",
       "\n",
       "\n",
       "       [[[0, 0],\n",
       "         [0, 0],\n",
       "         [0, 1]]],\n",
       "\n",
       "\n",
       "       [[[1, 0],\n",
       "         [0, 1],\n",
       "         [1, 0]]],\n",
       "\n",
       "\n",
       "       [[[0, 0],\n",
       "         [0, 1],\n",
       "         [0, 0]]],\n",
       "\n",
       "\n",
       "       [[[1, 1],\n",
       "         [0, 0],\n",
       "         [0, 1]]]])>"
      ]
     },
     "execution_count": 21,
     "metadata": {},
     "output_type": "execute_result"
    }
   ],
   "source": [
    "# Sample from this batch of distributions\n",
    "\n",
    "bernoulli_batch_2D.sample(5)"
   ]
  },
  {
   "cell_type": "code",
   "execution_count": 22,
   "metadata": {
    "ExecuteTime": {
     "end_time": "2021-03-30T03:15:48.768841Z",
     "start_time": "2021-03-30T03:15:48.753882Z"
    }
   },
   "outputs": [
    {
     "data": {
      "text/plain": [
       "<tf.Tensor: shape=(1, 3, 2), dtype=float32, numpy=\n",
       "array([[[0.5       , 0.5       ],\n",
       "        [0.19999999, 0.7       ],\n",
       "        [0.25      , 0.75      ]]], dtype=float32)>"
      ]
     },
     "execution_count": 22,
     "metadata": {},
     "output_type": "execute_result"
    }
   ],
   "source": [
    "# Determine probabilities from this batch distribution\n",
    "\n",
    "bernoulli_batch_2D.prob([[[1, 0], \n",
    "                         [0, 0], \n",
    "                         [1, 1]]])"
   ]
  },
  {
   "cell_type": "markdown",
   "metadata": {},
   "source": [
    "***\n",
    "<a id='multivariate_distributions'></a>\n",
    "## Multivariate Distributions\n"
   ]
  },
  {
   "cell_type": "markdown",
   "metadata": {},
   "source": [
    "#### Basic multivariate distributions"
   ]
  },
  {
   "cell_type": "code",
   "execution_count": 24,
   "metadata": {
    "ExecuteTime": {
     "end_time": "2021-03-30T03:17:21.453212Z",
     "start_time": "2021-03-30T03:17:21.439248Z"
    }
   },
   "outputs": [
    {
     "data": {
      "text/plain": [
       "<tfp.distributions.MultivariateNormalDiag 'MultivariateNormalDiag' batch_shape=[] event_shape=[2] dtype=float32>"
      ]
     },
     "execution_count": 24,
     "metadata": {},
     "output_type": "execute_result"
    }
   ],
   "source": [
    "# Define 2D multivariate Gaussian with diagonal covariance matrix\n",
    "\n",
    "normal_diag = tfd.MultivariateNormalDiag(loc = [0,1],\n",
    "                                        scale_diag = [1,2])\n",
    "\n",
    "normal_diag"
   ]
  },
  {
   "cell_type": "code",
   "execution_count": 25,
   "metadata": {
    "ExecuteTime": {
     "end_time": "2021-03-30T03:19:26.674762Z",
     "start_time": "2021-03-30T03:19:26.657849Z"
    }
   },
   "outputs": [
    {
     "data": {
      "text/plain": [
       "<tf.Tensor: shape=(10, 2), dtype=float32, numpy=\n",
       "array([[-0.48958328,  2.889566  ],\n",
       "       [-0.50546694,  0.9930791 ],\n",
       "       [ 1.300877  ,  1.770391  ],\n",
       "       [-2.9889584 ,  2.2526274 ],\n",
       "       [-0.8891398 ,  1.9469274 ],\n",
       "       [-1.5844265 , -1.2503903 ],\n",
       "       [-1.0179803 ,  1.302659  ],\n",
       "       [-0.09586073,  1.3923955 ],\n",
       "       [-0.3122441 ,  2.9065297 ],\n",
       "       [ 0.39839435,  0.40829754]], dtype=float32)>"
      ]
     },
     "execution_count": 25,
     "metadata": {},
     "output_type": "execute_result"
    }
   ],
   "source": [
    "# Sample from it\n",
    "\n",
    "normal_diag.sample(10)"
   ]
  },
  {
   "cell_type": "code",
   "execution_count": 26,
   "metadata": {
    "ExecuteTime": {
     "end_time": "2021-03-30T03:19:28.006843Z",
     "start_time": "2021-03-30T03:19:27.827304Z"
    }
   },
   "outputs": [
    {
     "data": {
      "image/png": "[encoded data removed]",
      "text/plain": [
       "<Figure size 432x288 with 1 Axes>"
      ]
     },
     "metadata": {
      "needs_background": "light"
     },
     "output_type": "display_data"
    }
   ],
   "source": [
    "# Make a plot\n",
    "\n",
    "plt_sample = normal_diag.sample(10000)\n",
    "plt.scatter(plt_sample[:, 0], plt_sample[:, 1], marker='.', alpha=0.05)\n",
    "plt.axis('equal')\n",
    "plt.show()"
   ]
  },
  {
   "cell_type": "markdown",
   "metadata": {},
   "source": [
    "#### Batches of multivariate distributions"
   ]
  },
  {
   "cell_type": "code",
   "execution_count": 27,
   "metadata": {
    "ExecuteTime": {
     "end_time": "2021-03-30T03:23:50.773022Z",
     "start_time": "2021-03-30T03:23:50.760055Z"
    }
   },
   "outputs": [
    {
     "data": {
      "text/plain": [
       "<tfp.distributions.MultivariateNormalDiag 'MultivariateNormalDiag' batch_shape=[3] event_shape=[2] dtype=float32>"
      ]
     },
     "execution_count": 27,
     "metadata": {},
     "output_type": "execute_result"
    }
   ],
   "source": [
    "# Create three \"batches\" of multivariate normals\n",
    "\n",
    "normal_diag_batch = tfd.MultivariateNormalDiag(loc = [[0,0], [0,0], [0,0]],\n",
    "                                        scale_diag = [[1,2], [2,1], [2,2]])\n",
    "\n",
    "normal_diag_batch"
   ]
  },
  {
   "cell_type": "code",
   "execution_count": 34,
   "metadata": {
    "ExecuteTime": {
     "end_time": "2021-03-30T03:25:22.082614Z",
     "start_time": "2021-03-30T03:25:22.070609Z"
    }
   },
   "outputs": [
    {
     "data": {
      "text/plain": [
       "TensorShape([5, 3, 2])"
      ]
     },
     "execution_count": 34,
     "metadata": {},
     "output_type": "execute_result"
    }
   ],
   "source": [
    "# Sample from it\n",
    "\n",
    "samples = normal_diag_batch.sample(5)\n",
    "samples.shape # Sample shape, batch shape, event shape."
   ]
  },
  {
   "cell_type": "code",
   "execution_count": 33,
   "metadata": {
    "ExecuteTime": {
     "end_time": "2021-03-30T03:25:10.135126Z",
     "start_time": "2021-03-30T03:25:10.118171Z"
    }
   },
   "outputs": [
    {
     "data": {
      "text/plain": [
       "<tf.Tensor: shape=(5, 3), dtype=float32, numpy=\n",
       "array([[-3.5764403, -5.20837  , -5.0379715],\n",
       "       [-3.8589525, -3.5881023, -9.07949  ],\n",
       "       [-2.9126272, -3.8017173, -3.2633932],\n",
       "       [-4.716266 , -2.5851068, -4.162257 ],\n",
       "       [-3.642995 , -5.021423 , -4.434016 ]], dtype=float32)>"
      ]
     },
     "execution_count": 33,
     "metadata": {},
     "output_type": "execute_result"
    }
   ],
   "source": [
    "# Compute log probs\n",
    "\n",
    "normal_diag_batch.log_prob(samples)"
   ]
  },
  {
   "cell_type": "code",
   "execution_count": 36,
   "metadata": {
    "ExecuteTime": {
     "end_time": "2021-03-30T03:26:46.127237Z",
     "start_time": "2021-03-30T03:26:46.107289Z"
    }
   },
   "outputs": [
    {
     "data": {
      "text/plain": [
       "TensorShape([10000, 3, 2])"
      ]
     },
     "execution_count": 36,
     "metadata": {},
     "output_type": "execute_result"
    }
   ],
   "source": [
    "# Create a sample for a plot -- notice the shape\n",
    "\n",
    "plt_sample_batch = normal_diag_batch.sample(10000)\n",
    "plt_sample_batch.shape"
   ]
  },
  {
   "cell_type": "code",
   "execution_count": 37,
   "metadata": {
    "ExecuteTime": {
     "end_time": "2021-03-30T03:26:47.739414Z",
     "start_time": "2021-03-30T03:26:47.292611Z"
    }
   },
   "outputs": [
    {
     "data": {
      "image/png": "[encoded data removed]",
      "text/plain": [
       "<Figure size 720x216 with 3 Axes>"
      ]
     },
     "metadata": {
      "needs_background": "light"
     },
     "output_type": "display_data"
    }
   ],
   "source": [
    "# Plot samples from the batched multivariate Gaussian\n",
    "\n",
    "fig, axs = (plt.subplots(1, 3, sharex=True, sharey=True, figsize=(10, 3)))\n",
    "titles = ['cov_diag=[1, 2]','cov_diag=[2, 1]', 'cov_diag=[2, 2]']\n",
    "\n",
    "for i, (ax, title) in enumerate(zip(axs,titles)):\n",
    "    samples = plt_sample_batch[:,i,:] #take the ith batch [samples x event_shape]\n",
    "    ax.scatter(samples[:, 0], samples[:, 1], marker='.', alpha=0.05)\n",
    "    ax.set_title(title)\n",
    "plt.show()"
   ]
  },
  {
   "cell_type": "markdown",
   "metadata": {},
   "source": [
    "\n",
    "\n",
    "***\n",
    "<a id='the_independent_distribution'></a>\n",
    "## The Independent Distribution"
   ]
  },
  {
   "cell_type": "code",
   "execution_count": 38,
   "metadata": {
    "ExecuteTime": {
     "end_time": "2021-03-30T03:28:46.667963Z",
     "start_time": "2021-03-30T03:28:46.662978Z"
    }
   },
   "outputs": [],
   "source": [
    "# Start by defining a batch of two univariate Gaussians, then\n",
    "# combine them into a bivariate Gaussian with independent components\n",
    "\n",
    "locs = [-1., 1]\n",
    "scales = [0.5, 1.]\n",
    "\n",
    "batch_of_normals = tfd.Normal(loc = locs,\n",
    "                             scale = scales)"
   ]
  },
  {
   "cell_type": "code",
   "execution_count": 39,
   "metadata": {
    "ExecuteTime": {
     "end_time": "2021-03-30T03:28:52.575710Z",
     "start_time": "2021-03-30T03:28:49.071071Z"
    }
   },
   "outputs": [
    {
     "name": "stderr",
     "output_type": "stream",
     "text": [
      "C:\\Users\\jymch\\anaconda3\\lib\\site-packages\\seaborn\\_decorators.py:43: FutureWarning: Pass the following variables as keyword args: x, y. From version 0.12, the only valid positional argument will be `data`, and passing other arguments without an explicit keyword will result in an error or misinterpretation.\n",
      "  FutureWarning\n",
      "C:\\Users\\jymch\\anaconda3\\lib\\site-packages\\seaborn\\_decorators.py:43: FutureWarning: Pass the following variables as keyword args: x, y. From version 0.12, the only valid positional argument will be `data`, and passing other arguments without an explicit keyword will result in an error or misinterpretation.\n",
      "  FutureWarning\n"
     ]
    },
    {
     "data": {
      "image/png": "[encoded data removed]",
      "text/plain": [
       "<Figure size 432x288 with 1 Axes>"
      ]
     },
     "metadata": {
      "needs_background": "light"
     },
     "output_type": "display_data"
    }
   ],
   "source": [
    "# Univariate density functions\n",
    "\n",
    "import seaborn as sns\n",
    "\n",
    "t = np.linspace(-4, 4, 10000)\n",
    "densities = batch_of_normals.prob(np.repeat(t[:, np.newaxis], 2, axis=1)) # each column is a vector of densities for one distn\n",
    "\n",
    "sns.lineplot(t, densities[:, 0], label='loc={}, scale={}'.format(locs[0], scales[0]))\n",
    "sns.lineplot(t, densities[:, 1], label='loc={}, scale={}'.format(locs[1], scales[1]))\n",
    "plt.ylabel('Probability density')\n",
    "plt.xlabel('Value')\n",
    "plt.legend()\n",
    "plt.show()"
   ]
  },
  {
   "cell_type": "code",
   "execution_count": 40,
   "metadata": {
    "ExecuteTime": {
     "end_time": "2021-03-30T03:30:48.060288Z",
     "start_time": "2021-03-30T03:30:48.054304Z"
    }
   },
   "outputs": [
    {
     "data": {
      "text/plain": [
       "<tfp.distributions.Normal 'Normal' batch_shape=[2] event_shape=[] dtype=float32>"
      ]
     },
     "execution_count": 40,
     "metadata": {},
     "output_type": "execute_result"
    }
   ],
   "source": [
    "# Check their batch_shape and event_shape\n",
    "\n",
    "batch_of_normals"
   ]
  },
  {
   "cell_type": "code",
   "execution_count": 41,
   "metadata": {
    "ExecuteTime": {
     "end_time": "2021-03-30T03:31:45.958938Z",
     "start_time": "2021-03-30T03:31:45.953951Z"
    }
   },
   "outputs": [],
   "source": [
    "# Use Independent to convert the batch shape to the event shape\n",
    "\n",
    "bivariate_normal_from_Independent = tfd.Independent(batch_of_normals,\n",
    "                                                   reinterpreted_batch_ndims = 1)"
   ]
  },
  {
   "cell_type": "code",
   "execution_count": 42,
   "metadata": {
    "ExecuteTime": {
     "end_time": "2021-03-30T03:31:51.198964Z",
     "start_time": "2021-03-30T03:31:51.192979Z"
    }
   },
   "outputs": [
    {
     "data": {
      "text/plain": [
       "<tfp.distributions.Independent 'IndependentNormal' batch_shape=[] event_shape=[2] dtype=float32>"
      ]
     },
     "execution_count": 42,
     "metadata": {},
     "output_type": "execute_result"
    }
   ],
   "source": [
    "# Note that dimension from batch_shape has shifted to event_shape\n",
    "\n",
    "bivariate_normal_from_Independent"
   ]
  },
  {
   "cell_type": "code",
   "execution_count": 43,
   "metadata": {
    "ExecuteTime": {
     "end_time": "2021-03-30T03:32:06.138810Z",
     "start_time": "2021-03-30T03:31:57.704590Z"
    }
   },
   "outputs": [
    {
     "name": "stderr",
     "output_type": "stream",
     "text": [
      "C:\\Users\\jymch\\anaconda3\\lib\\site-packages\\seaborn\\_decorators.py:43: FutureWarning: Pass the following variables as keyword args: x, y. From version 0.12, the only valid positional argument will be `data`, and passing other arguments without an explicit keyword will result in an error or misinterpretation.\n",
      "  FutureWarning\n"
     ]
    },
    {
     "data": {
      "text/plain": [
       "<seaborn.axisgrid.JointGrid at 0x1437f872488>"
      ]
     },
     "execution_count": 43,
     "metadata": {},
     "output_type": "execute_result"
    },
    {
     "data": {
      "image/png": "[encoded data removed]",
      "text/plain": [
       "<Figure size 432x432 with 3 Axes>"
      ]
     },
     "metadata": {
      "needs_background": "light"
     },
     "output_type": "display_data"
    }
   ],
   "source": [
    "# Create a plot showing joint density contours and marginal density functions\n",
    "\n",
    "samples = bivariate_normal_from_Independent.sample(10000)\n",
    "x1 = samples[:, 0]\n",
    "x2 = samples[:, 1]\n",
    "sns.jointplot(x1, x2, kind=\"kde\", space=0, color='b', xlim=[-4, 4], ylim=[-4, 4])"
   ]
  },
  {
   "cell_type": "code",
   "execution_count": 45,
   "metadata": {
    "ExecuteTime": {
     "end_time": "2021-03-30T03:33:54.864514Z",
     "start_time": "2021-03-30T03:33:54.856536Z"
    }
   },
   "outputs": [],
   "source": [
    "# Use MultivariateNormalDiag to create the equivalent distribution\n",
    "# Note that diagonal covariance matrix => no correlation => independence (for the multivariate normal distribution)\n",
    "\n",
    "bivariate_normal_from_Multivariate = tfd.MultivariateNormalDiag(loc=locs,\n",
    "                                                               scale_diag = scales)"
   ]
  },
  {
   "cell_type": "code",
   "execution_count": 46,
   "metadata": {
    "ExecuteTime": {
     "end_time": "2021-03-30T03:34:04.428453Z",
     "start_time": "2021-03-30T03:33:56.900590Z"
    }
   },
   "outputs": [
    {
     "name": "stderr",
     "output_type": "stream",
     "text": [
      "C:\\Users\\jymch\\anaconda3\\lib\\site-packages\\seaborn\\_decorators.py:43: FutureWarning: Pass the following variables as keyword args: x, y. From version 0.12, the only valid positional argument will be `data`, and passing other arguments without an explicit keyword will result in an error or misinterpretation.\n",
      "  FutureWarning\n"
     ]
    },
    {
     "data": {
      "text/plain": [
       "<seaborn.axisgrid.JointGrid at 0x1437f7e5d48>"
      ]
     },
     "execution_count": 46,
     "metadata": {},
     "output_type": "execute_result"
    },
    {
     "data": {
      "image/png": "[encoded data removed]",
      "text/plain": [
       "<Figure size 432x432 with 3 Axes>"
      ]
     },
     "metadata": {
      "needs_background": "light"
     },
     "output_type": "display_data"
    }
   ],
   "source": [
    "# Plot the joint density function of bivariate_normal_from_Independent\n",
    "# Refer back to bivariate_normal_from_Independent to show that the plot is the same\n",
    "# Summarise how Independent has been used\n",
    "\n",
    "samples = bivariate_normal_from_Multivariate.sample(10000)\n",
    "x1 = samples[:, 0]\n",
    "x2 = samples[:, 1]\n",
    "sns.jointplot(x1, x2, kind=\"kde\", space=0, color='b', xlim=[-4, 4], ylim=[-4, 4])"
   ]
  },
  {
   "cell_type": "markdown",
   "metadata": {},
   "source": [
    "#### Shifting batch dimensions to event dimensions using \n",
    "`reinterpreted_batch_ndims`"
   ]
  },
  {
   "cell_type": "code",
   "execution_count": 52,
   "metadata": {
    "ExecuteTime": {
     "end_time": "2021-03-30T03:38:34.906088Z",
     "start_time": "2021-03-30T03:38:34.898110Z"
    }
   },
   "outputs": [
    {
     "data": {
      "text/plain": [
       "<tfp.distributions.Normal 'Normal' batch_shape=[3, 2] event_shape=[] dtype=float32>"
      ]
     },
     "execution_count": 52,
     "metadata": {},
     "output_type": "execute_result"
    }
   ],
   "source": [
    "# Demonstrate use of reinterpreted_batch_ndims\n",
    "# By default all batch dims except the first are transferred to event dims\n",
    "\n",
    "loc_grid = [[-100., -100.],\n",
    "            [100., 100.],\n",
    "            [0., 0.]]\n",
    "scale_grid = [[1., 10.],\n",
    "              [1., 10.],\n",
    "              [1., 1.]]\n",
    "\n",
    "normals_batch_3by2_event_1 = tfd.Normal(loc=loc_grid, scale=scale_grid)\n",
    "normals_batch_3by2_event_1"
   ]
  },
  {
   "cell_type": "code",
   "execution_count": 51,
   "metadata": {
    "ExecuteTime": {
     "end_time": "2021-03-30T03:38:26.149636Z",
     "start_time": "2021-03-30T03:38:26.141659Z"
    }
   },
   "outputs": [
    {
     "data": {
      "text/plain": [
       "<tfp.distributions.Independent 'IndependentNormal' batch_shape=[3] event_shape=[2] dtype=float32>"
      ]
     },
     "execution_count": 51,
     "metadata": {},
     "output_type": "execute_result"
    }
   ],
   "source": [
    "# Highlight batch_shape\n",
    "\n",
    "normals_batch_3_event_2 = tfd.Independent(normals_batch_3by2_event_1)\n",
    "normals_batch_3_event_2\n",
    "\n",
    "# Notice"
   ]
  },
  {
   "cell_type": "code",
   "execution_count": 53,
   "metadata": {
    "ExecuteTime": {
     "end_time": "2021-03-30T04:41:24.633046Z",
     "start_time": "2021-03-30T04:41:24.627062Z"
    }
   },
   "outputs": [
    {
     "data": {
      "text/plain": [
       "<tfp.distributions.Independent 'IndependentNormal' batch_shape=[3] event_shape=[2] dtype=float32>"
      ]
     },
     "execution_count": 53,
     "metadata": {},
     "output_type": "execute_result"
    }
   ],
   "source": [
    "# We now have a batch of 3 bivariate normal distributions,\n",
    "# each parametrised by a column of our original parameter grid\n",
    "\n",
    "normals_batch_3_event_2"
   ]
  },
  {
   "cell_type": "code",
   "execution_count": 54,
   "metadata": {
    "ExecuteTime": {
     "end_time": "2021-03-30T04:41:28.352707Z",
     "start_time": "2021-03-30T04:41:28.343731Z"
    }
   },
   "outputs": [
    {
     "data": {
      "text/plain": [
       "<tf.Tensor: shape=(3,), dtype=float32, numpy=array([-4.1146406e+03, -4.1404624e+00, -2.8378770e+00], dtype=float32)>"
      ]
     },
     "execution_count": 54,
     "metadata": {},
     "output_type": "execute_result"
    }
   ],
   "source": [
    "# Evaluate log_prob\n",
    "\n",
    "normals_batch_3_event_2.log_prob(value = [[-10.,10],\n",
    "                                            [100.,100.],\n",
    "                                            [1.,1.]])"
   ]
  },
  {
   "cell_type": "code",
   "execution_count": 56,
   "metadata": {
    "ExecuteTime": {
     "end_time": "2021-03-30T04:50:00.528530Z",
     "start_time": "2021-03-30T04:50:00.522540Z"
    }
   },
   "outputs": [],
   "source": [
    "# Can reinterpret _all_ batch dimensions as event dimensions\n",
    "\n",
    "normals_batch_1_event_3by2 = tfd.Independent(normals_batch_3by2_event_1,\n",
    "                                            reinterpreted_batch_ndims = 2)"
   ]
  },
  {
   "cell_type": "code",
   "execution_count": 57,
   "metadata": {
    "ExecuteTime": {
     "end_time": "2021-03-30T04:50:55.108053Z",
     "start_time": "2021-03-30T04:50:55.099076Z"
    }
   },
   "outputs": [
    {
     "data": {
      "text/plain": [
       "<tf.Tensor: shape=(), dtype=float32, numpy=-4121.619>"
      ]
     },
     "execution_count": 57,
     "metadata": {},
     "output_type": "execute_result"
    }
   ],
   "source": [
    "# Take log_probs \n",
    "\n",
    "normals_batch_1_event_3by2.log_prob(value=[\n",
    "    [-10.,10.],\n",
    "    [100.,100.],\n",
    "    [1.,1.]\n",
    "])"
   ]
  },
  {
   "cell_type": "markdown",
   "metadata": {},
   "source": [
    "#### Using `Independent` to build a Naive Bayes classifier"
   ]
  },
  {
   "cell_type": "markdown",
   "metadata": {},
   "source": [
    "#### Introduction to `newsgroups` data set"
   ]
  },
  {
   "cell_type": "markdown",
   "metadata": {},
   "source": [
    "In this tutorial, just load the dataset, fetch train/test splits, probably choose a subset of the data.\n",
    "\n",
    "Construct the class conditional feature distribution (with Independent, using the Naive Bayes assumption) and sample from it.\n",
    "\n",
    "We can just use the ML estimates for parameters, in later tutorials we will learn them."
   ]
  },
  {
   "cell_type": "code",
   "execution_count": 59,
   "metadata": {
    "ExecuteTime": {
     "end_time": "2021-03-30T04:52:38.027364Z",
     "start_time": "2021-03-30T04:52:37.509746Z"
    }
   },
   "outputs": [],
   "source": [
    "# Convenience function for retrieving the 20 newsgroups data set\n",
    "\n",
    "# Usenet was a forerunner to modern internet forums\n",
    "# Users could post and read articles\n",
    "# Newsgroup corresponded to a topic\n",
    "# Example topics in this data set: IBM computer hardware, baseball\n",
    "# Our objective is to use an article's contents to predict its newsgroup,\n",
    "# a 20-class classification problem.\n",
    "\n",
    "# 18000 newsgroups, posts on 20 topics\n",
    "from sklearn.datasets import fetch_20newsgroups\n",
    "from sklearn.feature_extraction.text import CountVectorizer\n"
   ]
  },
  {
   "cell_type": "code",
   "execution_count": 66,
   "metadata": {
    "ExecuteTime": {
     "end_time": "2021-03-30T04:57:21.124958Z",
     "start_time": "2021-03-30T04:57:20.803794Z"
    }
   },
   "outputs": [],
   "source": [
    "# Get the train data\n",
    "\n",
    "newsgroups_data = fetch_20newsgroups(data_home = '20_Newsgroup_Data/', subset = 'train')"
   ]
  },
  {
   "cell_type": "code",
   "execution_count": 67,
   "metadata": {
    "ExecuteTime": {
     "end_time": "2021-03-30T04:57:22.976981Z",
     "start_time": "2021-03-30T04:57:22.972991Z"
    }
   },
   "outputs": [
    {
     "name": "stdout",
     "output_type": "stream",
     "text": [
      ".. _20newsgroups_dataset:\n",
      "\n",
      "The 20 newsgroups text dataset\n",
      "------------------------------\n",
      "\n",
      "The 20 newsgroups dataset comprises around 18000 newsgroups posts on\n",
      "20 topics split in two subsets: one for training (or development)\n",
      "and the other one for testing (or for performance evaluation). The split\n",
      "between the train and test set is based upon a messages posted before\n",
      "and after a specific date.\n",
      "\n",
      "This module contains two loaders. The first one,\n",
      ":func:`sklearn.datasets.fetch_20newsgroups`,\n",
      "returns a list of the raw texts that can be fed to text feature\n",
      "extractors such as :class:`sklearn.feature_extraction.text.CountVectorizer`\n",
      "with custom parameters so as to extract feature vectors.\n",
      "The second one, :func:`sklearn.datasets.fetch_20newsgroups_vectorized`,\n",
      "returns ready-to-use features, i.e., it is not necessary to use a feature\n",
      "extractor.\n",
      "\n",
      "**Data Set Characteristics:**\n",
      "\n",
      "    =================   ==========\n",
      "    Classes                     20\n",
      "    Samples total            18846\n",
      "    Dimensionality               1\n",
      "    Features                  text\n",
      "    =================   ==========\n",
      "\n",
      "Usage\n",
      "~~~~~\n",
      "\n",
      "The :func:`sklearn.datasets.fetch_20newsgroups` function is a data\n",
      "fetching / caching functions that downloads the data archive from\n",
      "the original `20 newsgroups website`_, extracts the archive contents\n",
      "in the ``~/scikit_learn_data/20news_home`` folder and calls the\n",
      ":func:`sklearn.datasets.load_files` on either the training or\n",
      "testing set folder, or both of them::\n",
      "\n",
      "  >>> from sklearn.datasets import fetch_20newsgroups\n",
      "  >>> newsgroups_train = fetch_20newsgroups(subset='train')\n",
      "\n",
      "  >>> from pprint import pprint\n",
      "  >>> pprint(list(newsgroups_train.target_names))\n",
      "  ['alt.atheism',\n",
      "   'comp.graphics',\n",
      "   'comp.os.ms-windows.misc',\n",
      "   'comp.sys.ibm.pc.hardware',\n",
      "   'comp.sys.mac.hardware',\n",
      "   'comp.windows.x',\n",
      "   'misc.forsale',\n",
      "   'rec.autos',\n",
      "   'rec.motorcycles',\n",
      "   'rec.sport.baseball',\n",
      "   'rec.sport.hockey',\n",
      "   'sci.crypt',\n",
      "   'sci.electronics',\n",
      "   'sci.med',\n",
      "   'sci.space',\n",
      "   'soc.religion.christian',\n",
      "   'talk.politics.guns',\n",
      "   'talk.politics.mideast',\n",
      "   'talk.politics.misc',\n",
      "   'talk.religion.misc']\n",
      "\n",
      "The real data lies in the ``filenames`` and ``target`` attributes. The target\n",
      "attribute is the integer index of the category::\n",
      "\n",
      "  >>> newsgroups_train.filenames.shape\n",
      "  (11314,)\n",
      "  >>> newsgroups_train.target.shape\n",
      "  (11314,)\n",
      "  >>> newsgroups_train.target[:10]\n",
      "  array([ 7,  4,  4,  1, 14, 16, 13,  3,  2,  4])\n",
      "\n",
      "It is possible to load only a sub-selection of the categories by passing the\n",
      "list of the categories to load to the\n",
      ":func:`sklearn.datasets.fetch_20newsgroups` function::\n",
      "\n",
      "  >>> cats = ['alt.atheism', 'sci.space']\n",
      "  >>> newsgroups_train = fetch_20newsgroups(subset='train', categories=cats)\n",
      "\n",
      "  >>> list(newsgroups_train.target_names)\n",
      "  ['alt.atheism', 'sci.space']\n",
      "  >>> newsgroups_train.filenames.shape\n",
      "  (1073,)\n",
      "  >>> newsgroups_train.target.shape\n",
      "  (1073,)\n",
      "  >>> newsgroups_train.target[:10]\n",
      "  array([0, 1, 1, 1, 0, 1, 1, 0, 0, 0])\n",
      "\n",
      "Converting text to vectors\n",
      "~~~~~~~~~~~~~~~~~~~~~~~~~~\n",
      "\n",
      "In order to feed predictive or clustering models with the text data,\n",
      "one first need to turn the text into vectors of numerical values suitable\n",
      "for statistical analysis. This can be achieved with the utilities of the\n",
      "``sklearn.feature_extraction.text`` as demonstrated in the following\n",
      "example that extract `TF-IDF`_ vectors of unigram tokens\n",
      "from a subset of 20news::\n",
      "\n",
      "  >>> from sklearn.feature_extraction.text import TfidfVectorizer\n",
      "  >>> categories = ['alt.atheism', 'talk.religion.misc',\n",
      "  ...               'comp.graphics', 'sci.space']\n",
      "  >>> newsgroups_train = fetch_20newsgroups(subset='train',\n",
      "  ...                                       categories=categories)\n",
      "  >>> vectorizer = TfidfVectorizer()\n",
      "  >>> vectors = vectorizer.fit_transform(newsgroups_train.data)\n",
      "  >>> vectors.shape\n",
      "  (2034, 34118)\n",
      "\n",
      "The extracted TF-IDF vectors are very sparse, with an average of 159 non-zero\n",
      "components by sample in a more than 30000-dimensional space\n",
      "(less than .5% non-zero features)::\n",
      "\n",
      "  >>> vectors.nnz / float(vectors.shape[0])\n",
      "  159.01327...\n",
      "\n",
      ":func:`sklearn.datasets.fetch_20newsgroups_vectorized` is a function which \n",
      "returns ready-to-use token counts features instead of file names.\n",
      "\n",
      ".. _`20 newsgroups website`: http://people.csail.mit.edu/jrennie/20Newsgroups/\n",
      ".. _`TF-IDF`: https://en.wikipedia.org/wiki/Tf-idf\n",
      "\n",
      "\n",
      "Filtering text for more realistic training\n",
      "~~~~~~~~~~~~~~~~~~~~~~~~~~~~~~~~~~~~~~~~~~\n",
      "\n",
      "It is easy for a classifier to overfit on particular things that appear in the\n",
      "20 Newsgroups data, such as newsgroup headers. Many classifiers achieve very\n",
      "high F-scores, but their results would not generalize to other documents that\n",
      "aren't from this window of time.\n",
      "\n",
      "For example, let's look at the results of a multinomial Naive Bayes classifier,\n",
      "which is fast to train and achieves a decent F-score::\n",
      "\n",
      "  >>> from sklearn.naive_bayes import MultinomialNB\n",
      "  >>> from sklearn import metrics\n",
      "  >>> newsgroups_test = fetch_20newsgroups(subset='test',\n",
      "  ...                                      categories=categories)\n",
      "  >>> vectors_test = vectorizer.transform(newsgroups_test.data)\n",
      "  >>> clf = MultinomialNB(alpha=.01)\n",
      "  >>> clf.fit(vectors, newsgroups_train.target)\n",
      "  MultinomialNB(alpha=0.01, class_prior=None, fit_prior=True)\n",
      "\n",
      "  >>> pred = clf.predict(vectors_test)\n",
      "  >>> metrics.f1_score(newsgroups_test.target, pred, average='macro')\n",
      "  0.88213...\n",
      "\n",
      "(The example :ref:`sphx_glr_auto_examples_text_plot_document_classification_20newsgroups.py` shuffles\n",
      "the training and test data, instead of segmenting by time, and in that case\n",
      "multinomial Naive Bayes gets a much higher F-score of 0.88. Are you suspicious\n",
      "yet of what's going on inside this classifier?)\n",
      "\n",
      "Let's take a look at what the most informative features are:\n",
      "\n",
      "  >>> import numpy as np\n",
      "  >>> def show_top10(classifier, vectorizer, categories):\n",
      "  ...     feature_names = np.asarray(vectorizer.get_feature_names())\n",
      "  ...     for i, category in enumerate(categories):\n",
      "  ...         top10 = np.argsort(classifier.coef_[i])[-10:]\n",
      "  ...         print(\"%s: %s\" % (category, \" \".join(feature_names[top10])))\n",
      "  ...\n",
      "  >>> show_top10(clf, vectorizer, newsgroups_train.target_names)\n",
      "  alt.atheism: edu it and in you that is of to the\n",
      "  comp.graphics: edu in graphics it is for and of to the\n",
      "  sci.space: edu it that is in and space to of the\n",
      "  talk.religion.misc: not it you in is that and to of the\n",
      "\n",
      "\n",
      "You can now see many things that these features have overfit to:\n",
      "\n",
      "- Almost every group is distinguished by whether headers such as\n",
      "  ``NNTP-Posting-Host:`` and ``Distribution:`` appear more or less often.\n",
      "- Another significant feature involves whether the sender is affiliated with\n",
      "  a university, as indicated either by their headers or their signature.\n",
      "- The word \"article\" is a significant feature, based on how often people quote\n",
      "  previous posts like this: \"In article [article ID], [name] <[e-mail address]>\n",
      "  wrote:\"\n",
      "- Other features match the names and e-mail addresses of particular people who\n",
      "  were posting at the time.\n",
      "\n",
      "With such an abundance of clues that distinguish newsgroups, the classifiers\n",
      "barely have to identify topics from text at all, and they all perform at the\n",
      "same high level.\n",
      "\n",
      "For this reason, the functions that load 20 Newsgroups data provide a\n",
      "parameter called **remove**, telling it what kinds of information to strip out\n",
      "of each file. **remove** should be a tuple containing any subset of\n",
      "``('headers', 'footers', 'quotes')``, telling it to remove headers, signature\n",
      "blocks, and quotation blocks respectively.\n",
      "\n",
      "  >>> newsgroups_test = fetch_20newsgroups(subset='test',\n",
      "  ...                                      remove=('headers', 'footers', 'quotes'),\n",
      "  ...                                      categories=categories)\n",
      "  >>> vectors_test = vectorizer.transform(newsgroups_test.data)\n",
      "  >>> pred = clf.predict(vectors_test)\n",
      "  >>> metrics.f1_score(pred, newsgroups_test.target, average='macro')\n",
      "  0.77310...\n",
      "\n",
      "This classifier lost over a lot of its F-score, just because we removed\n",
      "metadata that has little to do with topic classification.\n",
      "It loses even more if we also strip this metadata from the training data:\n",
      "\n",
      "  >>> newsgroups_train = fetch_20newsgroups(subset='train',\n",
      "  ...                                       remove=('headers', 'footers', 'quotes'),\n",
      "  ...                                       categories=categories)\n",
      "  >>> vectors = vectorizer.fit_transform(newsgroups_train.data)\n",
      "  >>> clf = MultinomialNB(alpha=.01)\n",
      "  >>> clf.fit(vectors, newsgroups_train.target)\n",
      "  MultinomialNB(alpha=0.01, class_prior=None, fit_prior=True)\n",
      "\n",
      "  >>> vectors_test = vectorizer.transform(newsgroups_test.data)\n",
      "  >>> pred = clf.predict(vectors_test)\n",
      "  >>> metrics.f1_score(newsgroups_test.target, pred, average='macro')\n",
      "  0.76995...\n",
      "\n",
      "Some other classifiers cope better with this harder version of the task. Try\n",
      "running :ref:`sphx_glr_auto_examples_model_selection_grid_search_text_feature_extraction.py` with and without\n",
      "the ``--filter`` option to compare the results.\n",
      "\n",
      ".. topic:: Recommendation\n",
      "\n",
      "  When evaluating text classifiers on the 20 Newsgroups data, you\n",
      "  should strip newsgroup-related metadata. In scikit-learn, you can do this by\n",
      "  setting ``remove=('headers', 'footers', 'quotes')``. The F-score will be\n",
      "  lower because it is more realistic.\n",
      "\n",
      ".. topic:: Examples\n",
      "\n",
      "   * :ref:`sphx_glr_auto_examples_model_selection_grid_search_text_feature_extraction.py`\n",
      "\n",
      "   * :ref:`sphx_glr_auto_examples_text_plot_document_classification_20newsgroups.py`\n",
      "\n"
     ]
    }
   ],
   "source": [
    "# More information about the data set\n",
    "\n",
    "print(newsgroups_data['DESCR'])"
   ]
  },
  {
   "cell_type": "code",
   "execution_count": 68,
   "metadata": {
    "ExecuteTime": {
     "end_time": "2021-03-30T04:57:26.093643Z",
     "start_time": "2021-03-30T04:57:26.088656Z"
    }
   },
   "outputs": [
    {
     "data": {
      "text/plain": [
       "\"From: lerxst@wam.umd.edu (where's my thing)\\nSubject: WHAT car is this!?\\nNntp-Posting-Host: rac3.wam.umd.edu\\nOrganization: University of Maryland, College Park\\nLines: 15\\n\\n I was wondering if anyone out there could enlighten me on this car I saw\\nthe other day. It was a 2-door sports car, looked to be from the late 60s/\\nearly 70s. It was called a Bricklin. The doors were really small. In addition,\\nthe front bumper was separate from the rest of the body. This is \\nall I know. If anyone can tellme a model name, engine specs, years\\nof production, where this car is made, history, or whatever info you\\nhave on this funky looking car, please e-mail.\\n\\nThanks,\\n- IL\\n   ---- brought to you by your neighborhood Lerxst ----\\n\\n\\n\\n\\n\""
      ]
     },
     "execution_count": 68,
     "metadata": {},
     "output_type": "execute_result"
    }
   ],
   "source": [
    "# Example article\n",
    "\n",
    "newsgroups_data['data'][0]"
   ]
  },
  {
   "cell_type": "code",
   "execution_count": 69,
   "metadata": {
    "ExecuteTime": {
     "end_time": "2021-03-30T04:57:32.454122Z",
     "start_time": "2021-03-30T04:57:32.450094Z"
    }
   },
   "outputs": [
    {
     "data": {
      "text/plain": [
       "7"
      ]
     },
     "execution_count": 69,
     "metadata": {},
     "output_type": "execute_result"
    }
   ],
   "source": [
    "# Associated label\n",
    "\n",
    "newsgroups_data['target'][0]"
   ]
  },
  {
   "cell_type": "code",
   "execution_count": 70,
   "metadata": {
    "ExecuteTime": {
     "end_time": "2021-03-30T04:57:32.927774Z",
     "start_time": "2021-03-30T04:57:32.922788Z"
    }
   },
   "outputs": [
    {
     "data": {
      "text/plain": [
       "'rec.autos'"
      ]
     },
     "execution_count": 70,
     "metadata": {},
     "output_type": "execute_result"
    }
   ],
   "source": [
    "# Name of label\n",
    "\n",
    "newsgroups_data['target_names'][7]"
   ]
  },
  {
   "cell_type": "code",
   "execution_count": 71,
   "metadata": {
    "ExecuteTime": {
     "end_time": "2021-03-30T04:57:37.737505Z",
     "start_time": "2021-03-30T04:57:34.546995Z"
    }
   },
   "outputs": [],
   "source": [
    "# Preprocessing boilerplate\n",
    "\n",
    "n_documents = len(newsgroups_data['data'])\n",
    "\n",
    "count_vectorizer = CountVectorizer(input='content', binary=True,\n",
    "                                   max_df=0.25, min_df=1.01/n_documents) # ignore common words, words that appear once\n",
    "binary_bag_of_words = count_vectorizer.fit_transform(newsgroups_data['data']) # input is a list of strings\n"
   ]
  },
  {
   "cell_type": "code",
   "execution_count": 72,
   "metadata": {
    "ExecuteTime": {
     "end_time": "2021-03-30T04:57:43.978170Z",
     "start_time": "2021-03-30T04:57:43.973181Z"
    }
   },
   "outputs": [
    {
     "data": {
      "text/plain": [
       "(11314, 56365)"
      ]
     },
     "execution_count": 72,
     "metadata": {},
     "output_type": "execute_result"
    }
   ],
   "source": [
    "# Check shape\n",
    "\n",
    "binary_bag_of_words.shape"
   ]
  },
  {
   "cell_type": "code",
   "execution_count": 84,
   "metadata": {
    "ExecuteTime": {
     "end_time": "2021-03-30T05:34:39.052826Z",
     "start_time": "2021-03-30T05:34:38.959075Z"
    }
   },
   "outputs": [
    {
     "data": {
      "text/plain": [
       "[array(['thing', 'anyone', 'really', 'number', 'computer', 'distribution',\n",
       "        'got', 'looks', 'jgreen', 'amber', 'joe', 'green', 'weitek',\n",
       "        'p9000', 'harris', 'systems', 'division', '14', 'world', 'ssd',\n",
       "        'csd', 'newsreader', 'tin', 'version', 'pl9', 'robert', 'kyanko',\n",
       "        'rob', 'rjck', 'uucp', 'wrote', 'abraxis', 'iastate', '734340159',\n",
       "        'class1', 'graphics', 'chip', 'far', 'low', 'level', 'stuff',\n",
       "        'goes', 'pretty', 'nice', 'quadrilateral', 'fill', 'command',\n",
       "        'requires', 'four', 'points', 'address', 'phone', 'information',\n",
       "        'corporation', 'scares', 'person', 'sense', 'humor', 'jonathan',\n",
       "        'winters'], dtype='<U80')]"
      ]
     },
     "execution_count": 84,
     "metadata": {},
     "output_type": "execute_result"
    }
   ],
   "source": [
    "# Check that the fit has been successful\n",
    "\n",
    "count_vectorizer.inverse_transform(binary_bag_of_words[3,:])"
   ]
  },
  {
   "cell_type": "code",
   "execution_count": 74,
   "metadata": {
    "ExecuteTime": {
     "end_time": "2021-03-30T05:06:04.214562Z",
     "start_time": "2021-03-30T05:06:04.188631Z"
    }
   },
   "outputs": [],
   "source": [
    "# Dict that will be useful later \n",
    "\n",
    "inv_vocabulary = {value:key for key, value in count_vectorizer.vocabulary_.items()}"
   ]
  },
  {
   "cell_type": "markdown",
   "metadata": {},
   "source": [
    "#### A Naive Bayes classifier for `newsgroup`"
   ]
  },
  {
   "cell_type": "markdown",
   "metadata": {},
   "source": [
    "Each feature vector $x$ is a list of indicators for whether a word appears in the article. $x_i$ is 1 if the $i$th word appears, and 0 otherwise. `inv_vocabulary` matches word indices $i$ to words.\n",
    "\n",
    "Each label $y$ is a value in $0, 1, \\ldots, 19$.\n",
    "\n",
    "The parts of a naive Bayes classifier for this problem can be summarised as:  \n",
    "\n",
    "\n",
    "- A probability distribution for the feature vector by class, $p(x|y = j)$ for each $j = 0, 1, \\ldots, 19$. These probability distributions are assumed to have independent components: we can factorize the joint probability as a product of marginal probabilities\n",
    "\\begin{equation}\n",
    "    p(x|y = j) = \\prod_{i=1}^d p(x_i|y = j)\n",
    "\\end{equation}\n",
    "These marginal probability distributions are Bernoulli distributions, each of which has a single parameter $\\theta_{ji} := p(x_i = 1|y = j)$. This parameter is the probability of observing word $i$ in an article of class $j$. \n",
    "\n",
    "- We will use the Laplace smoothed maximum likelihood estimate to compute these parameters. Laplace smoothing involves adding small counts to every feature for each class. Else, if a feature did not appear in the training set of a class, but then we observed it in our test data the log probability would be undefined.\n",
    "\n",
    "- A collection of class prior probabilities $p(y = j)$. These will be set by computing the class base rates in the training set.  \n",
    "\n",
    "\n",
    "- A function for computing the probability of class membership via Bayes' theorem:  \n",
    "\n",
    "\\begin{equation}\n",
    "    p(y = j|x) = \\frac{p(x|y = j)p(y = j)}{p(x)}\n",
    "\\end{equation}"
   ]
  },
  {
   "cell_type": "code",
   "execution_count": 85,
   "metadata": {
    "ExecuteTime": {
     "end_time": "2021-03-30T05:35:00.849285Z",
     "start_time": "2021-03-30T05:35:00.698687Z"
    }
   },
   "outputs": [],
   "source": [
    "# Compute the parameter estimates (adjusted fraction of documents in class that contain word)\n",
    "\n",
    "n_classes = newsgroups_data['target'].max() + 1\n",
    "y = newsgroups_data['target']\n",
    "n_words = binary_bag_of_words.shape[1]\n",
    "\n",
    "alpha = 1e-6 # parameters for Laplace smoothing\n",
    "\n",
    "theta = np.zeros([n_classes, n_words]) # stores parameter values - prob. word given class\n",
    "for c_k in range(n_classes): # 0, 1, ..., 19\n",
    "    class_mask = (y == c_k)\n",
    "    N = class_mask.sum() # number of articles in class\n",
    "    theta[c_k, :] = (binary_bag_of_words[class_mask, :].sum(axis=0) + alpha)/(N + alpha*2)"
   ]
  },
  {
   "cell_type": "code",
   "execution_count": 88,
   "metadata": {
    "ExecuteTime": {
     "end_time": "2021-03-30T05:35:23.286333Z",
     "start_time": "2021-03-30T05:35:23.279351Z"
    }
   },
   "outputs": [
    {
     "data": {
      "text/plain": [
       "(20, 56365)"
      ]
     },
     "execution_count": 88,
     "metadata": {},
     "output_type": "execute_result"
    }
   ],
   "source": [
    "theta.shape"
   ]
  },
  {
   "cell_type": "code",
   "execution_count": 86,
   "metadata": {
    "ExecuteTime": {
     "end_time": "2021-03-30T05:35:01.609763Z",
     "start_time": "2021-03-30T05:35:01.592769Z"
    }
   },
   "outputs": [
    {
     "name": "stdout",
     "output_type": "stream",
     "text": [
      "Most probable word in class alt.atheism is \"people\".\n",
      "Most probable word in class comp.graphics is \"graphics\".\n",
      "Most probable word in class comp.os.ms-windows.misc is \"windows\".\n",
      "Most probable word in class comp.sys.ibm.pc.hardware is \"thanks\".\n",
      "Most probable word in class comp.sys.mac.hardware is \"mac\".\n",
      "Most probable word in class comp.windows.x is \"window\".\n",
      "Most probable word in class misc.forsale is \"sale\".\n",
      "Most probable word in class rec.autos is \"car\".\n",
      "Most probable word in class rec.motorcycles is \"dod\".\n",
      "Most probable word in class rec.sport.baseball is \"he\".\n",
      "Most probable word in class rec.sport.hockey is \"ca\".\n",
      "Most probable word in class sci.crypt is \"clipper\".\n",
      "Most probable word in class sci.electronics is \"use\".\n",
      "Most probable word in class sci.med is \"reply\".\n",
      "Most probable word in class sci.space is \"space\".\n",
      "Most probable word in class soc.religion.christian is \"god\".\n",
      "Most probable word in class talk.politics.guns is \"people\".\n",
      "Most probable word in class talk.politics.mideast is \"people\".\n",
      "Most probable word in class talk.politics.misc is \"people\".\n",
      "Most probable word in class talk.religion.misc is \"he\".\n"
     ]
    }
   ],
   "source": [
    "# Check whether the most probable word in each class is reasonable\n",
    "\n",
    "most_probable_word_ix = theta.argmax(axis=1) # most probable word for each class\n",
    "\n",
    "for j, ix in enumerate(most_probable_word_ix):\n",
    "    print('Most probable word in class {} is \"{}\".'.format(newsgroups_data['target_names'][j],\n",
    "                                                           inv_vocabulary[ix]))"
   ]
  },
  {
   "cell_type": "code",
   "execution_count": 92,
   "metadata": {
    "ExecuteTime": {
     "end_time": "2021-03-30T05:37:23.848156Z",
     "start_time": "2021-03-30T05:37:23.833196Z"
    }
   },
   "outputs": [
    {
     "data": {
      "text/plain": [
       "<tfp.distributions.Independent 'IndependentBernoulli' batch_shape=[20] event_shape=[56365] dtype=int32>"
      ]
     },
     "execution_count": 92,
     "metadata": {},
     "output_type": "execute_result"
    }
   ],
   "source": [
    "# Define a distribution for each class\n",
    "\n",
    "batch_of_bernoullis = tfd.Bernoulli(probs=theta)\n",
    "p_x_given_y = tfd.Independent(batch_of_bernoullis,\n",
    "                             reinterpreted_batch_ndims = 1)\n",
    "p_x_given_y"
   ]
  },
  {
   "cell_type": "code",
   "execution_count": 94,
   "metadata": {
    "ExecuteTime": {
     "end_time": "2021-03-30T05:39:49.215866Z",
     "start_time": "2021-03-30T05:39:49.095215Z"
    }
   },
   "outputs": [
    {
     "data": {
      "text/plain": [
       "TensorShape([10, 20, 56365])"
      ]
     },
     "execution_count": 94,
     "metadata": {},
     "output_type": "execute_result"
    }
   ],
   "source": [
    "# Take a sample of words from each class\n",
    "\n",
    "n_samples = 10\n",
    "samples = p_x_given_y.sample(n_samples)\n",
    "samples.shape"
   ]
  },
  {
   "cell_type": "code",
   "execution_count": 95,
   "metadata": {
    "ExecuteTime": {
     "end_time": "2021-03-30T05:40:26.689234Z",
     "start_time": "2021-03-30T05:40:26.678264Z"
    }
   },
   "outputs": [
    {
     "data": {
      "text/plain": [
       "'soc.religion.christian'"
      ]
     },
     "execution_count": 95,
     "metadata": {},
     "output_type": "execute_result"
    }
   ],
   "source": [
    "# Choose a class\n",
    "\n",
    "chosen_class = 15\n",
    "newsgroups_data['target_names'][chosen_class]"
   ]
  },
  {
   "cell_type": "code",
   "execution_count": 98,
   "metadata": {
    "ExecuteTime": {
     "end_time": "2021-03-30T05:40:35.881045Z",
     "start_time": "2021-03-30T05:40:35.859104Z"
    }
   },
   "outputs": [
    {
     "data": {
      "text/plain": [
       "<tf.Tensor: shape=(10, 56365), dtype=int32, numpy=\n",
       "array([[0, 0, 0, ..., 0, 0, 0],\n",
       "       [0, 0, 0, ..., 0, 0, 0],\n",
       "       [0, 0, 0, ..., 0, 0, 0],\n",
       "       ...,\n",
       "       [0, 0, 0, ..., 0, 0, 0],\n",
       "       [0, 0, 0, ..., 0, 0, 0],\n",
       "       [0, 0, 0, ..., 0, 0, 0]])>"
      ]
     },
     "execution_count": 98,
     "metadata": {},
     "output_type": "execute_result"
    }
   ],
   "source": [
    "# Indicators for words that appear in the sample\n",
    "\n",
    "class_sample = samples[:, chosen_class, :]\n",
    "class_sample"
   ]
  },
  {
   "cell_type": "code",
   "execution_count": 99,
   "metadata": {
    "ExecuteTime": {
     "end_time": "2021-03-30T05:40:36.958585Z",
     "start_time": "2021-03-30T05:40:36.872814Z"
    }
   },
   "outputs": [
    {
     "data": {
      "text/plain": [
       "[array(['16', '1993', '20', '26', '29224', '34', '7415', '83', 'ac',\n",
       "        'accustomed', 'additionally', 'always', 'apr', 'around', 'assume',\n",
       "        'athos', 'attest', 'attributes', 'been', 'belief', 'believe',\n",
       "        'belittle', 'best', 'between', 'born', 'both', 'boy', 'brother',\n",
       "        'buy', 'ca', 'cases', 'charity', 'check', 'christians', 'church',\n",
       "        'claim', 'clarify', 'clh', 'come', 'comes', 'consider', 'creative',\n",
       "        'define', 'did', 'done', 'dumb', 'end', 'endemyr', 'enormous',\n",
       "        'establish', 'everyone', 'excuse', 'existent', 'expecting',\n",
       "        'experience', 'fame', 'family', 'fasting', 'faulty', 'federal',\n",
       "        'follow', 'formal', 'fuzzy', 'generation', 'giving', 'god', 'good',\n",
       "        'hard', 'her', 'his', 'however', 'human', 'imo', 'into', 'invited',\n",
       "        'jointly', 'jonathan', 'keeping', 'knowing', 'kulikauskas', 'lies',\n",
       "        'live', 'll', 'los', 'lost', 'make', 'mary', 'mdw33310', 'mean',\n",
       "        'middle', 'morally', 'most', 'mother', 'motives', 'nature', 'now',\n",
       "        'old', 'operator', 'opinion', 'opl', 'peace', 'people', 'perhaps',\n",
       "        'pick', 'place', 'please', 'point', 'position', 'possibly',\n",
       "        'pregnancy', 'presbyterian', 'president', 'probably', 'put',\n",
       "        'quest', 'reconcile', 'redemption', 'regarding', 'resurrection',\n",
       "        'romans', 'said', 'sas', 'school', 'science', 'sea', 'see',\n",
       "        'service', 'seven', 'sexual', 'shintoism', 'since', 'sins',\n",
       "        'snatch', 'society', 'sometimes', 'speaking', 'stephen',\n",
       "        'subjects', 'tellabs', 'temple', 'texts', 'their', 'then', 'these',\n",
       "        'third', 'time', 'top', 'traditional', 'trendy', 'truths', 'ucs',\n",
       "        'ultimately', 'unanimous', 'unisa', 'vatican', 've', 'very',\n",
       "        'waiting', 'want', 'were', 'why', 'woman', 'worship', 'wouldn',\n",
       "        'yes', 'z5'], dtype='<U80'),\n",
       " array(['1993', '30602', '58', 'abundantly', 'acceptable', 'accident',\n",
       "        'according', 'actions', 'after', 'am', 'angels', 'arlut', 'around',\n",
       "        'been', 'before', 'biblical', 'birth', 'both', 'brent', 'castro',\n",
       "        'catholic', 'cause', 'century', 'cgsvax', 'church', 'closing',\n",
       "        'comment', 'commit', 'creation', 'credibility', 'dead', 'death',\n",
       "        'deity', 'delusion', 'deserts', 'disciples', 'does', 'doesn',\n",
       "        'eastern', 'either', 'emotions', 'explanation', 'famous',\n",
       "        'fifteen', 'first', 'fit', 'foods', 'fundamentalism', 'general',\n",
       "        'gobs', 'hartwick', 'hell', 'hi', 'hope', 'humans', 'idea',\n",
       "        'incorrectly', 'issues', 'itself', 'jack', 'jasons', 'jehovah',\n",
       "        'judgment', 'keeping', 'knowing', 'large', 'law', 'leaning',\n",
       "        'less', 'listening', 'll', 'logic', 'mary', 'math', 'member',\n",
       "        'mentorg', 'michael', 'mielke', 'misconfigured', 'misunderstand',\n",
       "        'mmh', 'mother', 'name', 'newbie', 'nothingness', 'number',\n",
       "        'offending', 'offering', 'ogden', 'oldest', 'others', 'own',\n",
       "        'people', 'phil', 'place', 'please', 'problem', 'provide',\n",
       "        'punched', 'read', 'really', 'religious', 'remark', 'reserve',\n",
       "        'revelations', 'risc1', 'rob', 'rutgers', 'satanic', 'say', 'says',\n",
       "        'scientific', 'sdcc13', 'seven', 'sledd', 'smack', 'someone',\n",
       "        'spelled', 'stay', 'suffered', 'sweetheart', 'tbrent', 'telling',\n",
       "        'terms', 'therefore', 'these', 'though', 'thus', 'touch', 'tsd',\n",
       "        'udel', 'understanding', 'universe', 'unreasonable', 'us', 'use',\n",
       "        'used', 'useful', 'vision', 'weak', 'why', 'yet'], dtype='<U80'),\n",
       " array(['15', '1823', '1st', '25', '34', 'accept', 'age', 'always', 'am',\n",
       "        'anything', 'apart', 'apr', 'aquinas', 'arlut', 'asked',\n",
       "        'attacked', 'back', 'because', 'before', 'believing', 'bible',\n",
       "        'bishops', 'case', 'century', 'challenge', 'christ', 'christian',\n",
       "        'civil', 'clearly', 'correct', 'could', 'course', 'cs', 'damon',\n",
       "        'deadly', 'denounced', 'died', 'differently', 'discuss', 'drugs',\n",
       "        'east', 'easter', 'etc', 'even', 'every', 'faith', 'father',\n",
       "        'fear', 'fi', 'friends', 'gave', 'grace', 'hand', 'happen', 'he',\n",
       "        'head', 'hear', 'hearing', 'heart', 'institute', 'interested',\n",
       "        'involved', 'keep', 'law', 'leads', 'levitical', 'literally',\n",
       "        'logic', 'luxury', 'mail', 'manner', 'men', 'molas', 'months',\n",
       "        'most', 'much', 'must', 'non', 'note', 'nothing', 'noye',\n",
       "        'nusunix', 'obviously', 'old', 'ordinary', 'originally', 'packed',\n",
       "        'perceived', 'permanent', 'personalities', 'prayer', 'problem',\n",
       "        'put', 'queen', 'quite', 'rather', 'reaction', 'reading', 'really',\n",
       "        'regeneration', 'relationships', 'reply', 'rich', 'rise',\n",
       "        'roboticist', 'romans', 'run', 'sas', 'save', 'scriptura', 'seems',\n",
       "        'should', 'simple', 'someone', 'sometime', 'somewhere', 'son',\n",
       "        'sure', 'teacher', 'then', 'these', 'three', 'through', 'times',\n",
       "        'try', 'twelve', 'two', 'uga', 'understanding', 'us', 'very',\n",
       "        'yet'], dtype='<U80'),\n",
       " array(['106', '40', '45', 'against', 'also', 'am', 'appear', 'apr',\n",
       "        'argument', 'atheist', 'auto', 'baptized', 'because', 'being',\n",
       "        'belief', 'better', 'between', 'cheek', 'christian', 'computer',\n",
       "        'conceive', 'consecration', 'could', 'create', 'descendants',\n",
       "        'documentary', 'does', 'each', 'ecn', 'egypt', 'endeavor', 'ends',\n",
       "        'enormous', 'especially', 'etc', 'exploitation', 'fallen', 'flame',\n",
       "        'follow', 'following', 'forever', 'gcx1', 'general', 'given',\n",
       "        'gives', 'god', 'good', 'gotten', 'governments', 'group',\n",
       "        'happening', 'he', 'health', 'hear', 'heart', 'hide', 'his', 'ic',\n",
       "        'indefinitely', 'ip', 'irrevocable', 'jesus', 'jobs', 'judge',\n",
       "        'july', 'kind', 'lab', 'last', 'law', 'legitimate', 'let', 'life',\n",
       "        'lived', 'logic', 'lot', 'love', 'luke', 'majority', 'many', 'mi',\n",
       "        'mileage', 'minds', 'missing', 'moreover', 'moses', 'muirm',\n",
       "        'munns', 'need', 'nitpick', 'north', 'ones', 'origins', 'oser',\n",
       "        'our', 'perfectly', 'perspective', 'petri', 'place', 'president',\n",
       "        'priests', 'probably', 'professors', 'prophet', 'protestant',\n",
       "        'quick', 'quotable', 'randy', 'really', 'reason', 'received',\n",
       "        'recorded', 'remember', 'right', 'says', 'school', 'scripture',\n",
       "        'sexually', 'should', 'someone', 'statements', 'study', 'such',\n",
       "        'superceded', 'term', 'than', 'their', 'them', 'think', 'thomas',\n",
       "        'those', 'thus', 'time', 'too', 'treated', 'unconditional', 'unto',\n",
       "        'use', 'wanted', 'ways', 'well', 'were', 'whether', 'whom',\n",
       "        'willing', 'wordprocessor', 'written', 'years', 'yes'],\n",
       "       dtype='<U80'),\n",
       " array(['05', '11', '1917', '23', '26', '34', '35', 'accept', 'ancient',\n",
       "        'another', 'anyway', 'appears', 'author', 'away', 'based', 'basis',\n",
       "        'becuase', 'been', 'believe', 'bible', 'biblical', 'brother',\n",
       "        'build', 'catholic', 'charity', 'christian', 'christians', 'col',\n",
       "        'commanded', 'common', 'concept', 'contact', 'contained',\n",
       "        'correct', 'currently', 'darren', 'death', 'definitely',\n",
       "        'described', 'did', 'difference', 'discerning', 'doubts', 'drugs',\n",
       "        'eternality', 'even', 'event', 'every', 'everything', 'excellent',\n",
       "        'experiments', 'failures', 'faithful', 'fallen', 'filled',\n",
       "        'follow', 'full', 'given', 'going', 'gospel', 'her', 'however',\n",
       "        'indefinitely', 'insist', 'isn', 'john', 'kille', 'koberg',\n",
       "        'laboratories', 'lamb', 'last', 'leave', 'life', 'll', 'may',\n",
       "        'mother', 'much', 'natal', 'national', 'none', 'ogden', 'ohio',\n",
       "        'optimistic', 'ourselves', 'people', 'peoples', 'personal',\n",
       "        'personally', 'pius', 'post', 'pretty', 'previous', 'problem',\n",
       "        'purpose', 'quantities', 'queensland', 'question', 'quotation',\n",
       "        'reasons', 'receive', 'representatives', 'rigid', 'said', 'same',\n",
       "        'saw', 'second', 'seem', 'seems', 'sees', 'septuagint', 'show',\n",
       "        'similar', 'sisters', 'someones', 'st', 'style', 'substance',\n",
       "        'thing', 'things', 'thinking', 'those', 'though', 'thought',\n",
       "        'time', 'times', 'translated', 'truth', 'two', 'way', 'whereas',\n",
       "        'whether', 'why', 'wilson', 'wording', 'worse', 'worship', 'write',\n",
       "        'wrong', 'yes', 'yet'], dtype='<U80'),\n",
       " array(['00', '14', '18', '23', '47', 'admirable', 'after', 'again', 'ago',\n",
       "        'am', 'approval', 'arguments', 'around', 'asks', 'att', 'bad',\n",
       "        'ball', 'baptist', 'belief', 'believe', 'biting', 'body',\n",
       "        'brought', 'candidates', 'cardinal', 'catholics', 'change',\n",
       "        'christians', 'civilians', 'cleaner', 'clearly', 'collection',\n",
       "        'confining', 'could', 'culture', 'daily', 'darkness', 'destroy',\n",
       "        'did', 'didn', 'disobedience', 'does', 'due', 'earth', 'email',\n",
       "        'employer', 'eng', 'evaluate', 'evangelical', 'even', 'everyone',\n",
       "        'existence', 'expect', 'fall', 'far', 'flying', 'forward',\n",
       "        'fumbling', 'gospel', 'he', 'heaven', 'hi', 'highly', 'his',\n",
       "        'idea', 'identify', 'intervention', 'into', 'intrinsically',\n",
       "        'january', 'jesus', 'joseph', 'learned', 'leveled', 'logic',\n",
       "        'look', 'ltd', 'lumped', 'ly', 'many', 'married', 'matthew',\n",
       "        'meaningless', 'meets', 'mother', 'necessarily', 'never', 'noted',\n",
       "        'observation', 'older', 'originated', 'orthodox', 'otherwise',\n",
       "        'oulu', 'our', 'over', 'parenthood', 'people', 'pilot',\n",
       "        'politically', 'pope', 'present', 'previous', 'problem', 'regard',\n",
       "        'relationship', 'remember', 'savior', 'say', 'scientific', 'sent',\n",
       "        'slave', 'something', 'somewhat', 'stuff', 'sure', 'swear',\n",
       "        'teaching', 'teachings', 'technologies', 'tellabs', 'testament',\n",
       "        'them', 'then', 'thesis', 'thing', 'things', 'think', 'tool',\n",
       "        'topic', 'transgressions', 'ucs', 'understand', 'us', 'use',\n",
       "        'valid', 'very', 'viewed', 'voodoo', 'want', 'wasn', 'ways',\n",
       "        'weapons', 'well', 'were'], dtype='<U80'),\n",
       " array(['00', '02', '23', '30', '31', '3422', '44', '54', '713', 'above',\n",
       "        'accept', 'accomplish', 'according', 'across', 'allow', 'am',\n",
       "        'animals', 'answer', 'apr', 'arguments', 'arrogance', 'assertion',\n",
       "        'attack', 'attention', 'base', 'been', 'before', 'boundary',\n",
       "        'brownbladerunnersugarcubeselectronicblaylockpowersspikeleekatebushhamcornpizza',\n",
       "        'call', 'catholic', 'cause', 'ceremony', 'changing', 'choose',\n",
       "        'christians', 'clh', 'collections', 'compared', 'converted',\n",
       "        'could', 'course', 'definition', 'distinguish', 'dlecoint', 'down',\n",
       "        'during', 'else', 'end', 'eos', 'eternal', 'example', 'few',\n",
       "        'functioning', 'go', 'goal', 'god', 'gvg', 'harper', 'having',\n",
       "        'he', 'healing', 'heard', 'here', 'hide', 'his', 'holding', 'home',\n",
       "        'intended', 'into', 'jesus', 'jr', 'least', 'left', 'listen',\n",
       "        'long', 'lord', 'loves', 'make', 'making', 'maridai', 'mateo',\n",
       "        'mellon', 'messages', 'michael', 'midway', 'mike', 'minority',\n",
       "        'minutes', 'mmalt', 'mp', 'must', 'name', 'need', 'net', 'netcom',\n",
       "        'never', 'observation', 'organisation', 'overacker', 'pagan',\n",
       "        'paganism', 'part', 'parts', 'people', 'person', 'peter',\n",
       "        'picture', 'please', 'pleased', 'possible', 'posted', 'practice',\n",
       "        'practices', 'pretty', 'proto', 'proves', 'ques', 'quoted',\n",
       "        'randy', 'recite', 'reedr', 'regards', 'related', 'religious',\n",
       "        'result', 'resulted', 'richard', 'right', 'rome', 'rutgers',\n",
       "        'sacrifices', 'sad', 'same', 'says', 'see', 'seen', 'self',\n",
       "        'situations', 'someone', 'somewhere', 'speculation', 'spirit',\n",
       "        'stage', 'standard', 'stuff', 'tehy', 'telling', 'then', 'think',\n",
       "        'those', 'through', 'tim', 'title', 'told', 'transfusion',\n",
       "        'understanding', 'unfaithfully', 'us', 'use', 'used', 'verifying',\n",
       "        'virginia', 'wanted', 'wasn', 'woman', 'yours'], dtype='<U80'),\n",
       " array(['1993', '272', '601', 'above', 'accomplish', 'alienated', 'also',\n",
       "        'always', 'am', 'america', 'answers', 'anxious', 'anything',\n",
       "        'around', 'arrogance', 'augustine', 'bad', 'because', 'before',\n",
       "        'behave', 'believe', 'books', 'came', 'cannot', 'center', 'christ',\n",
       "        'christians', 'church', 'civilization', 'come', 'correlation',\n",
       "        'could', 'council', 'course', 'crucified', 'daily', 'dated',\n",
       "        'deeply', 'didn', 'dreams', 'emery', 'entering', 'essential',\n",
       "        'evening', 'ever', 'eye', 'falsifiable', 'found', 'gigantic',\n",
       "        'god', 'good', 'having', 'he', 'here', 'hide', 'his', 'hl', 'idea',\n",
       "        'ii', 'imperfections', 'importance', 'inward', 'ironic', 'italian',\n",
       "        'jewish', 'judgment', 'kept', 'kille', 'knew', 'labs', 'left',\n",
       "        'lent', 'level', 'limited', 'lincoln', 'look', 'lost', 'lot',\n",
       "        'luck', 'made', 'make', 'marriage', 'matter', 'may', 'mean',\n",
       "        'means', 'men', 'michael', 'might', 'need', 'news', 'ourselves',\n",
       "        'pagan', 'participants', 'people', 'philosophies', 'power',\n",
       "        'practices', 'principles', 'proof', 'proper', 'purpose', 'put',\n",
       "        'quite', 'rc', 'read', 'really', 'reason', 'reply', 'rethink',\n",
       "        'revelation', 'rise', 'roles', 'saying', 'second', 'sense',\n",
       "        'should', 'simplified', 'speak', 'spoke', 'start', 'stephen',\n",
       "        'studies', 'talents', 'talk', 'than', 'their', 'then', 'therefore',\n",
       "        'think', 'third', 'thoughts', 'tod', 'treated', 'trinity',\n",
       "        'trouble', 'via', 'view', 'vs', 'wise', 'woman', 'work', 'wrong',\n",
       "        'years', 'yours'], dtype='<U80'),\n",
       " array(['02', '1993', '3803', 'above', 'accept', 'across', 'add',\n",
       "        'alright', 'also', 'another', 'asked', 'authors', 'aziz', 'back',\n",
       "        'baptist', 'becoming', 'been', 'beliefs', 'bible', 'both', 'call',\n",
       "        'cease', 'cent', 'christ', 'clyde', 'commentary', 'complete',\n",
       "        'corporation', 'counter', 'cure', 'declare', 'deeds', 'defense',\n",
       "        'denied', 'destroying', 'die', 'died', 'discipline', 'disciplines',\n",
       "        'divided', 'done', 'edged', 'end', 'enough', 'esp', 'essay',\n",
       "        'established', 'faith', 'fox', 'functions', 'generally', 'given',\n",
       "        'god', 'hey', 'hole', 'humble', 'imagine', 'immediately',\n",
       "        'important', 'infinite', 'innocent', 'intent', 'intolerance',\n",
       "        'involve', 'its', 'jasons', 'justified', 'killing', 'known',\n",
       "        'larry', 'linked', 'logically', 'los', 'lot', 'make', 'making',\n",
       "        'mateo', 'mean', 'members', 'midway', 'mormon', 'much', 'must',\n",
       "        'name', 'new', 'nih', 'noyes', 'offshoots', 'opinion', 'over',\n",
       "        'patrick', 'people', 'person', 'place', 'pretty', 'qumran',\n",
       "        'quotes', 'reach', 'reaching', 'record', 'refusal', 'respects',\n",
       "        'responding', 'retain', 'rope', 'rose', 'rutgers', 'said', 'scale',\n",
       "        'shed', 'should', 'since', 'sins', 'skidmore', 'social',\n",
       "        'somewhere', 'spacing', 'stripes', 'super', 'sure', 'tasks',\n",
       "        'than', 'then', 'therefore', 'these', 'thesis', 'think', 'threads',\n",
       "        'toledo', 'tsd', 'under', 'understanding', 'urbana', 've',\n",
       "        'velasco', 'very', 'via', 'vituperousness', 'whatever', 'where',\n",
       "        'wine', 'wing'], dtype='<U80'),\n",
       " array(['04', '08', '203', '29', '63', '81', 'africa', 'after', 'also',\n",
       "        'altered', 'apocalypse', 'appropriate', 'around', 'athos',\n",
       "        'attended', 'been', 'before', 'believe', 'believed', 'bible',\n",
       "        'bit', 'book', 'born', 'both', 'ca', 'call', 'catholic',\n",
       "        'centuries', 'chris', 'christians', 'clue', 'come', 'comes',\n",
       "        'command', 'contested', 'contract', 'days', 'deciding',\n",
       "        'determine', 'did', 'died', 'different', 'doctrines', 'does',\n",
       "        'doubt', 'eggert', 'energy', 'engaged', 'equally', 'evils',\n",
       "        'exactly', 'far', 'find', 'firmly', 'foundations', 'friday', 'god',\n",
       "        'guild', 'handle', 'he', 'help', 'history', 'imho', 'included',\n",
       "        'inks', 'institute', 'instructions', 'instrument',\n",
       "        'interpretation', 'into', 'intolerant', 'isn', 'jews', 'jim',\n",
       "        'jon', 'kiefer', 'kind', 'least', 'lie', 'list', 'listed', 'lmvec',\n",
       "        'lost', 'many', 'married', 'mass', 'may', 'melinda', 'minority',\n",
       "        'misc', 'mmh', 'mozart', 'mtu', 'need', 'nestorianism', 'new',\n",
       "        'note', 'oppressing', 'others', 'passed', 'people', 'phrase',\n",
       "        'pittsburgh', 'plan', 'possibly', 'premise', 'promised', 'quoted',\n",
       "        'rather', 'reader', 'real', 'really', 'realm', 'recently',\n",
       "        'recite', 'recognized', 'recognizing', 'redeemable', 'rely',\n",
       "        'reply', 'represented', 'respond', 'responses', 'richard',\n",
       "        'righteous', 'roman', 'salaris', 'seems', 'seen', 'sg', 'should',\n",
       "        'showing', 'since', 'speak', 'specify', 'spot', 'such', 'than',\n",
       "        'them', 'themselves', 'then', 'theology', 'thereby', 'these',\n",
       "        'thing', 'time', 'together', 'touched', 'transgressions', 'umiacs',\n",
       "        'understand', 'unfortunately', 'unnaturally', 'us', 'virtually',\n",
       "        'vitalism', 'wanted', 'way', 'whosoever', 'works', 'wquinnan',\n",
       "        'yet'], dtype='<U80')]"
      ]
     },
     "execution_count": 99,
     "metadata": {},
     "output_type": "execute_result"
    }
   ],
   "source": [
    "# Perform inverse transform to test quality of fit\n",
    "\n",
    "count_vectorizer.inverse_transform(class_sample)"
   ]
  },
  {
   "cell_type": "markdown",
   "metadata": {},
   "source": [
    "***\n",
    "<a id='sampling_and_log_probs'></a>\n",
    "## Sampling and log probs"
   ]
  },
  {
   "cell_type": "code",
   "execution_count": 100,
   "metadata": {
    "ExecuteTime": {
     "end_time": "2021-03-30T05:40:48.125602Z",
     "start_time": "2021-03-30T05:40:48.087677Z"
    }
   },
   "outputs": [
    {
     "data": {
      "text/plain": [
       "<tfp.distributions.MultivariateNormalDiag 'MultivariateNormalDiag' batch_shape=[3] event_shape=[2] dtype=float32>"
      ]
     },
     "execution_count": 100,
     "metadata": {},
     "output_type": "execute_result"
    }
   ],
   "source": [
    "# Make Multivariate Distribution\n",
    "\n",
    "normal_distributions = tfd.MultivariateNormalDiag(loc=[[0.5, 1], [0.1, 0], [0, 0.2]],\n",
    "                                 scale_diag=[[2, 3], [1, 3], [4, 4]])\n",
    "normal_distributions"
   ]
  },
  {
   "cell_type": "code",
   "execution_count": 101,
   "metadata": {
    "ExecuteTime": {
     "end_time": "2021-03-30T06:06:36.322979Z",
     "start_time": "2021-03-30T06:06:36.260147Z"
    }
   },
   "outputs": [
    {
     "data": {
      "text/plain": [
       "<tf.Tensor: shape=(5, 3, 2), dtype=float32, numpy=\n",
       "array([[[ 0.14818957,  0.42764258],\n",
       "        [-0.28931782, -3.118083  ],\n",
       "        [ 0.2619505 ,  3.1741545 ]],\n",
       "\n",
       "       [[ 2.2465458 ,  0.52832866],\n",
       "        [ 1.573347  , -2.9480422 ],\n",
       "        [-4.0756607 ,  3.31636   ]],\n",
       "\n",
       "       [[ 2.5474977 ,  1.2840819 ],\n",
       "        [-0.6984171 ,  1.1638125 ],\n",
       "        [ 2.4840055 ,  3.4899678 ]],\n",
       "\n",
       "       [[ 1.6328118 ,  4.2883615 ],\n",
       "        [ 2.7970288 , -2.2603824 ],\n",
       "        [-6.0630474 , -9.33057   ]],\n",
       "\n",
       "       [[ 1.4744556 , -5.195     ],\n",
       "        [-0.07679487,  0.7868643 ],\n",
       "        [ 2.8420002 , -1.4198972 ]]], dtype=float32)>"
      ]
     },
     "execution_count": 101,
     "metadata": {},
     "output_type": "execute_result"
    }
   ],
   "source": [
    "# Sample\n",
    "\n",
    "normal_distributions.sample(5)"
   ]
  },
  {
   "cell_type": "code",
   "execution_count": 102,
   "metadata": {
    "ExecuteTime": {
     "end_time": "2021-03-30T06:06:39.940973Z",
     "start_time": "2021-03-30T06:06:39.918036Z"
    }
   },
   "outputs": [
    {
     "data": {
      "text/plain": [
       "<tfp.distributions.MultivariateNormalDiag 'MultivariateNormalDiag' batch_shape=[2, 2] event_shape=[3] dtype=float32>"
      ]
     },
     "execution_count": 102,
     "metadata": {},
     "output_type": "execute_result"
    }
   ],
   "source": [
    "# Multivariate Normal batched Distribution\n",
    "# We are broadcasting batch shapes of `loc` and `scal_diag` \n",
    "# against each other\n",
    "\n",
    "loc = [[[0.3, 1.5, 1.], [0.2, 0.4, 2.8]],\n",
    "        [[2., 2.3, 8], [1.4, 1, 1.3]]]\n",
    "scale_diag = [0.4, 1., 0.7]\n",
    "normal_distributions = tfd.MultivariateNormalDiag(loc=loc, scale_diag=scale_diag)\n",
    "normal_distributions"
   ]
  },
  {
   "cell_type": "code",
   "execution_count": 103,
   "metadata": {
    "ExecuteTime": {
     "end_time": "2021-03-30T06:07:33.748502Z",
     "start_time": "2021-03-30T06:07:33.738554Z"
    }
   },
   "outputs": [
    {
     "data": {
      "text/plain": [
       "<tfp.distributions.Independent 'IndependentMultivariateNormalDiag' batch_shape=[2] event_shape=[2, 3] dtype=float32>"
      ]
     },
     "execution_count": 103,
     "metadata": {},
     "output_type": "execute_result"
    }
   ],
   "source": [
    "# Use independent to move part of the batch shape\n",
    "\n",
    "ind_normal_distributions = tfd.Independent(normal_distributions,\n",
    "                                          reinterpreted_batch_ndims = 1)\n",
    "\n",
    "ind_normal_distributions"
   ]
  },
  {
   "cell_type": "code",
   "execution_count": 104,
   "metadata": {
    "ExecuteTime": {
     "end_time": "2021-03-30T06:08:00.459854Z",
     "start_time": "2021-03-30T06:08:00.436873Z"
    }
   },
   "outputs": [
    {
     "data": {
      "text/plain": [
       "TensorShape([5, 2, 2, 3])"
      ]
     },
     "execution_count": 104,
     "metadata": {},
     "output_type": "execute_result"
    }
   ],
   "source": [
    "# Draw some samples\n",
    "\n",
    "samples = ind_normal_distributions.sample(5)\n",
    "samples.shape # [5,2,2,3], 5: sample shape, 2: batch shape, [2,3]: event shape"
   ]
  },
  {
   "cell_type": "code",
   "execution_count": 106,
   "metadata": {
    "ExecuteTime": {
     "end_time": "2021-03-30T06:09:08.238933Z",
     "start_time": "2021-03-30T06:09:08.174049Z"
    }
   },
   "outputs": [
    {
     "data": {
      "text/plain": [
       "<tf.Tensor: shape=(2,), dtype=float32, numpy=array([ -9.383299, -79.121544], dtype=float32)>"
      ]
     },
     "execution_count": 106,
     "metadata": {},
     "output_type": "execute_result"
    }
   ],
   "source": [
    "# `[B, E]` shaped input\n",
    "\n",
    "inp = tf.random.uniform([2,2,3])\n",
    "ind_normal_distributions.log_prob(inp)"
   ]
  },
  {
   "cell_type": "code",
   "execution_count": 107,
   "metadata": {
    "ExecuteTime": {
     "end_time": "2021-03-30T06:11:51.268185Z",
     "start_time": "2021-03-30T06:11:51.223304Z"
    }
   },
   "outputs": [
    {
     "data": {
      "text/plain": [
       "<tf.Tensor: shape=(2,), dtype=float32, numpy=array([-12.518419, -80.49691 ], dtype=float32)>"
      ]
     },
     "execution_count": 107,
     "metadata": {},
     "output_type": "execute_result"
    }
   ],
   "source": [
    "# `[E]` shaped input (broadcasting over batch size)\n",
    "\n",
    "inp = tf.random.uniform([2,3])\n",
    "ind_normal_distributions.log_prob(inp)"
   ]
  },
  {
   "cell_type": "code",
   "execution_count": 108,
   "metadata": {
    "ExecuteTime": {
     "end_time": "2021-03-30T06:12:37.872709Z",
     "start_time": "2021-03-30T06:12:37.847776Z"
    }
   },
   "outputs": [
    {
     "data": {
      "text/plain": [
       "<tf.Tensor: shape=(9, 2), dtype=float32, numpy=\n",
       "array([[ -7.8732643, -83.68565  ],\n",
       "       [ -8.782089 , -68.17819  ],\n",
       "       [-11.045224 , -68.93258  ],\n",
       "       [-13.482121 , -75.4684   ],\n",
       "       [-10.517141 , -79.20174  ],\n",
       "       [-11.771085 , -79.274345 ],\n",
       "       [-11.529003 , -76.29223  ],\n",
       "       [-10.045839 , -69.15516  ],\n",
       "       [ -9.47405  , -83.97304  ]], dtype=float32)>"
      ]
     },
     "execution_count": 108,
     "metadata": {},
     "output_type": "execute_result"
    }
   ],
   "source": [
    "#`[S, B, E]` shaped input (broadcasting over samples)\n",
    "\n",
    "inp = tf.random.uniform([9,2, 2,3])\n",
    "ind_normal_distributions.log_prob(inp)"
   ]
  },
  {
   "cell_type": "code",
   "execution_count": 109,
   "metadata": {
    "ExecuteTime": {
     "end_time": "2021-03-30T06:13:09.901701Z",
     "start_time": "2021-03-30T06:13:09.832860Z"
    }
   },
   "outputs": [
    {
     "name": "stdout",
     "output_type": "stream",
     "text": [
      "WARNING: Nested component \"MultivariateNormalDiag_scale_matvec_linear_operator\" in composition \"MultivariateNormalDiag_chain_of_MultivariateNormalDiag_shift_of_MultivariateNormalDiag_scale_matvec_linear_operator\" operates on inputs with increased degrees of freedom. This may result in an incorrect log_det_jacobian.\r\n"
     ]
    },
    {
     "data": {
      "text/plain": [
       "<tf.Tensor: shape=(5, 2), dtype=float32, numpy=\n",
       "array([[ -9.102527, -68.08513 ],\n",
       "       [-10.051434, -81.062515],\n",
       "       [ -9.239349, -64.17423 ],\n",
       "       [-11.851111, -87.30027 ],\n",
       "       [ -9.25128 , -73.067276]], dtype=float32)>"
      ]
     },
     "execution_count": 109,
     "metadata": {},
     "output_type": "execute_result"
    }
   ],
   "source": [
    "# `[S, b, e]` shaped input, where [b, e] is broadcastable over [B, E]\n",
    "\n",
    "inp = tf.random.uniform([5, 1, 2, 1]) # batch shape = 1, broadcasted to 2, event shape = [2,1], broadcasted to [2,3]\n",
    "ind_normal_distributions.log_prob(inp)"
   ]
  },
  {
   "cell_type": "markdown",
   "metadata": {},
   "source": [
    "#### Naive Bayes example\n",
    "\n",
    "Lets now use what we have learned and continue the Naive Bayes classifier we were building last tutorial."
   ]
  },
  {
   "cell_type": "code",
   "execution_count": 110,
   "metadata": {
    "ExecuteTime": {
     "end_time": "2021-03-30T06:14:31.447899Z",
     "start_time": "2021-03-30T06:14:31.108350Z"
    }
   },
   "outputs": [],
   "source": [
    "from sklearn.datasets import fetch_20newsgroups\n",
    "from sklearn.feature_extraction.text import CountVectorizer\n",
    "from sklearn.naive_bayes import BernoulliNB\n",
    "from sklearn.metrics import f1_score"
   ]
  },
  {
   "cell_type": "code",
   "execution_count": 111,
   "metadata": {
    "ExecuteTime": {
     "end_time": "2021-03-30T06:14:39.749964Z",
     "start_time": "2021-03-30T06:14:39.728062Z"
    }
   },
   "outputs": [],
   "source": [
    "# Making a function get_data which:\n",
    "#   1) Fetches the 20 newsgroup dataset\n",
    "#   2) Performs a word count on the articles and binarizes the result\n",
    "#   3) Returns the data as a numpy matrix with the labels\n",
    "\n",
    "def get_data(categories):\n",
    "    \n",
    "    newsgroups_train_data = fetch_20newsgroups(data_home='20_Newsgroup_Data/',\n",
    "                                               subset='train', categories=categories)\n",
    "    newsgroups_test_data = fetch_20newsgroups(data_home='20_Newsgroup_Data/',\n",
    "                                              subset='test', categories=categories)\n",
    "\n",
    "    n_documents = len(newsgroups_train_data['data'])\n",
    "    count_vectorizer = CountVectorizer(input='content', binary=True,max_df=0.25, min_df=1.01/n_documents)\n",
    "    \n",
    "    train_binary_bag_of_words = count_vectorizer.fit_transform(newsgroups_train_data['data'])\n",
    "    test_binary_bag_of_words = count_vectorizer.transform(newsgroups_test_data['data']) \n",
    "\n",
    "    return (train_binary_bag_of_words.todense(), newsgroups_train_data['target']),  (test_binary_bag_of_words.todense(), newsgroups_test_data['target'])"
   ]
  },
  {
   "cell_type": "code",
   "execution_count": 113,
   "metadata": {
    "ExecuteTime": {
     "end_time": "2021-03-30T06:15:08.325061Z",
     "start_time": "2021-03-30T06:15:08.320094Z"
    }
   },
   "outputs": [],
   "source": [
    "# Defining a function to conduct Laplace smoothing. This adds a base level of probability for a given feature\n",
    "# to occur in every class.\n",
    "\n",
    "def laplace_smoothing(labels, binary_data, n_classes):\n",
    "    # Compute the parameter estimates (adjusted fraction of documents in class that contain word)\n",
    "    n_words = binary_data.shape[1]\n",
    "    alpha = 1 # parameters for Laplace smoothing\n",
    "    theta = np.zeros([n_classes, n_words]) # stores parameter values - prob. word given class\n",
    "    for c_k in range(n_classes): # 0, 1, ..., 19\n",
    "        class_mask = (labels == c_k)\n",
    "        N = class_mask.sum() # number of articles in class\n",
    "        theta[c_k, :] = (binary_data[class_mask, :].sum(axis=0) + alpha)/(N + alpha*2)\n",
    "\n",
    "    return theta"
   ]
  },
  {
   "cell_type": "code",
   "execution_count": 114,
   "metadata": {
    "ExecuteTime": {
     "end_time": "2021-03-30T06:15:11.624149Z",
     "start_time": "2021-03-30T06:15:09.068986Z"
    }
   },
   "outputs": [],
   "source": [
    "# Getting a subset of the 20 newsgroup dataset\n",
    "\n",
    "categories = ['alt.atheism', 'talk.religion.misc', 'comp.graphics', 'sci.space']\n",
    "\n",
    "(train_data, train_labels), (test_data, test_labels) = get_data(categories=categories)\n",
    "smoothed_counts = laplace_smoothing(labels=train_labels, binary_data=train_data, n_classes=len(categories))"
   ]
  },
  {
   "cell_type": "code",
   "execution_count": 119,
   "metadata": {
    "ExecuteTime": {
     "end_time": "2021-03-30T06:18:54.235483Z",
     "start_time": "2021-03-30T06:18:54.230496Z"
    }
   },
   "outputs": [
    {
     "data": {
      "text/plain": [
       "((2034, 17495), (2034,))"
      ]
     },
     "execution_count": 119,
     "metadata": {},
     "output_type": "execute_result"
    }
   ],
   "source": [
    "train_data.shape, train_labels.shape"
   ]
  },
  {
   "cell_type": "markdown",
   "metadata": {},
   "source": [
    "To now make our NB classifier we need to build three functions:\n",
    "* Compute the class priors\n",
    "* Build our class conditional distributions\n",
    "* Put it all together and classify our data"
   ]
  },
  {
   "cell_type": "code",
   "execution_count": 120,
   "metadata": {
    "ExecuteTime": {
     "end_time": "2021-03-30T06:19:03.678506Z",
     "start_time": "2021-03-30T06:19:03.673519Z"
    }
   },
   "outputs": [],
   "source": [
    "# Function which computes the prior probability of every class based on frequency of occurence in \n",
    "# the dataset\n",
    "\n",
    "def class_priors(n_classes, labels):\n",
    "    counts = np.zeros(n_classes)\n",
    "    for c_k in range(n_classes):\n",
    "        counts[c_k] = np.sum(np.where(labels==c_k, 1, 0))\n",
    "    priors = counts / np.sum(counts)\n",
    "    print('The class priors are {}'.format(priors))\n",
    "    return priors"
   ]
  },
  {
   "cell_type": "code",
   "execution_count": 121,
   "metadata": {
    "ExecuteTime": {
     "end_time": "2021-03-30T06:20:57.760947Z",
     "start_time": "2021-03-30T06:20:57.752968Z"
    }
   },
   "outputs": [
    {
     "name": "stdout",
     "output_type": "stream",
     "text": [
      "The class priors are [0.2359882  0.28711898 0.29154376 0.18534907]\n"
     ]
    }
   ],
   "source": [
    "# Run the function \n",
    "\n",
    "priors = class_priors(n_classes = len(categories), labels = train_labels)"
   ]
  },
  {
   "cell_type": "code",
   "execution_count": 123,
   "metadata": {
    "ExecuteTime": {
     "end_time": "2021-03-30T06:23:58.621822Z",
     "start_time": "2021-03-30T06:23:58.610852Z"
    }
   },
   "outputs": [
    {
     "data": {
      "text/plain": [
       "<tfp.distributions.Independent 'IndependentBernoulli' batch_shape=[4] event_shape=[17495] dtype=int32>"
      ]
     },
     "execution_count": 123,
     "metadata": {},
     "output_type": "execute_result"
    }
   ],
   "source": [
    "# Now we will do a function that given the feature occurence counts returns a Bernoulli distribution of \n",
    "# batch_shape=number of classes and event_shape=number of features.\n",
    "\n",
    "def make_distribution(probs):\n",
    "    batch_of_bernoullis = tfd.Bernoulli(probs=probs)\n",
    "    dist = tfd.Independent(batch_of_bernoullis,\n",
    "                          reinterpreted_batch_ndims = 1)\n",
    "    \n",
    "    return dist\n",
    "\n",
    "tf_dist = make_distribution(smoothed_counts)\n",
    "tf_dist"
   ]
  },
  {
   "cell_type": "code",
   "execution_count": 125,
   "metadata": {
    "ExecuteTime": {
     "end_time": "2021-03-30T06:28:50.731135Z",
     "start_time": "2021-03-30T06:28:50.726184Z"
    }
   },
   "outputs": [],
   "source": [
    "# The final function predict_sample which given the distribution, a test sample, and the class priors:\n",
    "#   1) Computes the class conditional probabilities given the sample\n",
    "#   2) Forms the joint likelihood\n",
    "#   3) Normalises the joint likelihood and returns the log prob\n",
    "\n",
    "def predict_sample(dist, sample, priors):\n",
    "    cond_probs=dist.log_prob(sample)\n",
    "    joint_likelihood = tf.add(np.log(priors), cond_probs)\n",
    "    norm_factor = tf.math.reduce_logsumexp(joint_likelihood, axis = -1, keepdims = True)\n",
    "    log_prob = joint_likelihood - norm_factor\n",
    "    \n",
    "    return log_prob"
   ]
  },
  {
   "cell_type": "markdown",
   "metadata": {},
   "source": [
    "#### Computing log_probs"
   ]
  },
  {
   "cell_type": "code",
   "execution_count": 127,
   "metadata": {
    "ExecuteTime": {
     "end_time": "2021-03-30T06:29:18.117626Z",
     "start_time": "2021-03-30T06:29:18.106653Z"
    }
   },
   "outputs": [
    {
     "data": {
      "text/plain": [
       "<tf.Tensor: shape=(4,), dtype=float32, numpy=\n",
       "array([-6.1706207e+01, -1.5258789e-05, -1.1600113e+01, -6.3319962e+01],\n",
       "      dtype=float32)>"
      ]
     },
     "execution_count": 127,
     "metadata": {},
     "output_type": "execute_result"
    }
   ],
   "source": [
    "# Predicting one example from our test data\n",
    "\n",
    "log_probs = predict_sample(tf_dist, test_data[0], priors)\n",
    "log_probs"
   ]
  },
  {
   "cell_type": "code",
   "execution_count": 128,
   "metadata": {
    "ExecuteTime": {
     "end_time": "2021-03-30T06:29:33.143310Z",
     "start_time": "2021-03-30T06:29:31.123722Z"
    }
   },
   "outputs": [
    {
     "name": "stdout",
     "output_type": "stream",
     "text": [
      "f1  0.7837248814543706\n"
     ]
    }
   ],
   "source": [
    "# Loop over our test data and classify.\n",
    "\n",
    "probabilities = []\n",
    "for sample, label in zip(test_data, test_labels):\n",
    "    probabilities.append(tf.exp(predict_sample(tf_dist, sample, priors)))\n",
    "\n",
    "probabilities = np.asarray(probabilities)\n",
    "predicted_classes = np.argmax(probabilities, axis =-1)\n",
    "print('f1 ', f1_score(test_labels, predicted_classes, average='macro'))"
   ]
  },
  {
   "cell_type": "code",
   "execution_count": 129,
   "metadata": {
    "ExecuteTime": {
     "end_time": "2021-03-30T06:29:36.779916Z",
     "start_time": "2021-03-30T06:29:34.793067Z"
    }
   },
   "outputs": [
    {
     "name": "stdout",
     "output_type": "stream",
     "text": [
      "f1 from sklean  0.7848499112849504\n"
     ]
    }
   ],
   "source": [
    "# Make a Bernoulli Naive Bayes classifier using sklearn with the same level of alpha smoothing. \n",
    "\n",
    "clf = BernoulliNB(alpha=1)\n",
    "clf.fit(train_data, train_labels)\n",
    "pred = clf.predict(test_data)\n",
    "print('f1 from sklean ', f1_score(test_labels, pred, average='macro'))"
   ]
  },
  {
   "cell_type": "markdown",
   "metadata": {},
   "source": [
    "***\n",
    "<a id='trainable_distributions'></a>\n",
    "## Trainable Distributions"
   ]
  },
  {
   "cell_type": "code",
   "execution_count": null,
   "metadata": {},
   "outputs": [],
   "source": [
    "from sklearn.datasets import fetch_20newsgroups\n",
    "from sklearn.feature_extraction.text import CountVectorizer\n",
    "from sklearn.naive_bayes import BernoulliNB\n",
    "from sklearn.metrics import f1_score"
   ]
  },
  {
   "cell_type": "code",
   "execution_count": 130,
   "metadata": {
    "ExecuteTime": {
     "end_time": "2021-03-30T06:38:40.338539Z",
     "start_time": "2021-03-30T06:38:40.328593Z"
    }
   },
   "outputs": [],
   "source": [
    "# Define an exponential distribution\n",
    "\n",
    "exponential = tfd.Exponential(rate=0.3, name = 'exp')"
   ]
  },
  {
   "cell_type": "code",
   "execution_count": 131,
   "metadata": {
    "ExecuteTime": {
     "end_time": "2021-03-30T06:38:41.839441Z",
     "start_time": "2021-03-30T06:38:41.443229Z"
    }
   },
   "outputs": [
    {
     "data": {
      "image/png": "[encoded data removed]",
      "text/plain": [
       "<Figure size 432x288 with 1 Axes>"
      ]
     },
     "metadata": {
      "needs_background": "light"
     },
     "output_type": "display_data"
    }
   ],
   "source": [
    "# Plot\n",
    "\n",
    "plt.hist(exponential.sample(5000), bins=100, density=True)\n",
    "plt.show()"
   ]
  },
  {
   "cell_type": "code",
   "execution_count": 137,
   "metadata": {
    "ExecuteTime": {
     "end_time": "2021-03-30T07:07:22.930034Z",
     "start_time": "2021-03-30T07:07:22.922055Z"
    }
   },
   "outputs": [
    {
     "data": {
      "text/plain": [
       "(<tf.Variable 'rate:0' shape=() dtype=float32, numpy=1.0>,)"
      ]
     },
     "execution_count": 137,
     "metadata": {},
     "output_type": "execute_result"
    }
   ],
   "source": [
    "# Define an exponential distribution with a trainable rate parameter\n",
    "\n",
    "exp_train = tfd.Exponential(rate = tf.Variable(1., name = 'rate'),\n",
    "                           name = 'exp_train')\n",
    "\n",
    "exp_train.trainable_variables"
   ]
  },
  {
   "cell_type": "code",
   "execution_count": 133,
   "metadata": {
    "ExecuteTime": {
     "end_time": "2021-03-30T06:47:37.175703Z",
     "start_time": "2021-03-30T06:47:37.165730Z"
    }
   },
   "outputs": [],
   "source": [
    "# Define the negative log likelihood\n",
    "\n",
    "def nll(x_train, distribution):\n",
    "    return -tf.reduce_mean(distribution.log_prob(x_train))"
   ]
  },
  {
   "cell_type": "code",
   "execution_count": 141,
   "metadata": {
    "ExecuteTime": {
     "end_time": "2021-03-30T07:07:36.173669Z",
     "start_time": "2021-03-30T07:07:36.166711Z"
    }
   },
   "outputs": [],
   "source": [
    "# Define a function to compute the loss and gradients\n",
    "\n",
    "@tf.function\n",
    "def get_loss_and_grads(x_train, distribution):\n",
    "    \n",
    "    with tf.GradientTape() as tape:\n",
    "        tape.watch(distribution.trainable_variables) # Watch whichever whose gradient is taken with respect to\n",
    "        loss = nll(x_train, distribution) # Get the loss\n",
    "        grads = tape.gradient(loss, distribution.trainable_variables) # Calculate the gradient\n",
    "        \n",
    "    return loss, grads"
   ]
  },
  {
   "cell_type": "code",
   "execution_count": 144,
   "metadata": {
    "ExecuteTime": {
     "end_time": "2021-03-30T07:07:55.352795Z",
     "start_time": "2021-03-30T07:07:55.347769Z"
    }
   },
   "outputs": [],
   "source": [
    "# Optimize\n",
    "\n",
    "def exponential_dist_optimisation(data, distribution):\n",
    "\n",
    "    # Keep results for plotting\n",
    "    train_loss_results = []\n",
    "    train_rate_results = []\n",
    "    \n",
    "    optimizer = tf.keras.optimizers.SGD(learning_rate=0.05)\n",
    "\n",
    "    num_steps = 10\n",
    "\n",
    "    for i in range(num_steps):\n",
    "        loss, grads = get_loss_and_grads(data, distribution)\n",
    "        optimizer.apply_gradients(zip(grads, distribution.trainable_variables))\n",
    "        \n",
    "        rate_value = distribution.rate.value()\n",
    "        train_loss_results.append(loss)\n",
    "        train_rate_results.append(rate_value)\n",
    "        print(\"Step {:03d}: Loss: {:.3f}: Rate: {:.3f}\".format(i, loss, rate_value))\n",
    "        \n",
    "    return train_loss_results, train_rate_results"
   ]
  },
  {
   "cell_type": "code",
   "execution_count": 145,
   "metadata": {
    "ExecuteTime": {
     "end_time": "2021-03-30T07:07:56.194940Z",
     "start_time": "2021-03-30T07:07:56.172960Z"
    }
   },
   "outputs": [
    {
     "name": "stdout",
     "output_type": "stream",
     "text": [
      "Step 000: Loss: 3.111: Rate: 0.769\n",
      "Step 001: Loss: 2.867: Rate: 0.665\n",
      "Step 002: Loss: 2.659: Rate: 0.571\n",
      "Step 003: Loss: 2.493: Rate: 0.489\n",
      "Step 004: Loss: 2.371: Rate: 0.422\n",
      "Step 005: Loss: 2.292: Rate: 0.371\n",
      "Step 006: Loss: 2.248: Rate: 0.337\n",
      "Step 007: Loss: 2.228: Rate: 0.316\n",
      "Step 008: Loss: 2.222: Rate: 0.305\n",
      "Step 009: Loss: 2.220: Rate: 0.300\n"
     ]
    }
   ],
   "source": [
    "# Get some data and train\n",
    "\n",
    "sampled_data = exponential.sample(5000)\n",
    "\n",
    "train_loss_results, train_rate_results = exponential_dist_optimisation(data = sampled_data,\n",
    "                                                                      distribution = exp_train)"
   ]
  },
  {
   "cell_type": "code",
   "execution_count": 146,
   "metadata": {
    "ExecuteTime": {
     "end_time": "2021-03-30T07:08:01.360786Z",
     "start_time": "2021-03-30T07:08:01.354804Z"
    }
   },
   "outputs": [
    {
     "name": "stdout",
     "output_type": "stream",
     "text": [
      "Exact rate:  0.3\n",
      "Pred rate:   0.2996781\n"
     ]
    }
   ],
   "source": [
    "# Predicted value for the rate parameter\n",
    "\n",
    "pred_value = exp_train.rate.numpy()\n",
    "exact_value = exponential.rate.numpy()\n",
    "\n",
    "print(\"Exact rate: \", exact_value)\n",
    "print(\"Pred rate:  \", pred_value)"
   ]
  },
  {
   "cell_type": "code",
   "execution_count": 147,
   "metadata": {
    "ExecuteTime": {
     "end_time": "2021-03-30T07:08:02.696819Z",
     "start_time": "2021-03-30T07:08:02.343764Z"
    }
   },
   "outputs": [
    {
     "data": {
      "image/png": "[encoded data removed]",
      "text/plain": [
       "<Figure size 864x576 with 2 Axes>"
      ]
     },
     "metadata": {
      "needs_background": "light"
     },
     "output_type": "display_data"
    }
   ],
   "source": [
    "# Plot to see the convergence of the estimated and true parameters\n",
    "\n",
    "tensor_exact_value = tf.constant(exact_value, shape=[len(train_rate_results)])\n",
    "\n",
    "fig, axes = plt.subplots(2, sharex=True, figsize=(12, 8))\n",
    "fig.suptitle('Convergence')\n",
    "\n",
    "axes[0].set_ylabel(\"Loss\", fontsize=14)\n",
    "axes[0].plot(train_loss_results)\n",
    "\n",
    "axes[1].set_ylabel(\"Rate\", fontsize=14)\n",
    "axes[1].set_xlabel(\"Epoch\", fontsize=14)\n",
    "axes[1].plot(train_rate_results, label='trainable rate variable')\n",
    "axes[1].plot(tensor_exact_value, label='exact rate')\n",
    "axes[1].legend()\n",
    "plt.show()"
   ]
  },
  {
   "cell_type": "code",
   "execution_count": 148,
   "metadata": {
    "ExecuteTime": {
     "end_time": "2021-03-30T07:08:08.575413Z",
     "start_time": "2021-03-30T07:08:08.567434Z"
    }
   },
   "outputs": [],
   "source": [
    "# Making a function get_data which:\n",
    "#   1) Fetches the 20 newsgroup dataset\n",
    "#   2) Performs a word count on the articles and binarizes the result\n",
    "#   3) Returns the data as a numpy matrix with the labels\n",
    "\n",
    "def get_data(categories):\n",
    "\n",
    "    newsgroups_train_data = fetch_20newsgroups(data_home='20_Newsgroup_Data/',\n",
    "                                               subset='train', categories=categories)\n",
    "    newsgroups_test_data = fetch_20newsgroups(data_home='20_Newsgroup_Data/',\n",
    "                                              subset='test', categories=categories)\n",
    "\n",
    "    n_documents = len(newsgroups_train_data['data'])\n",
    "    count_vectorizer = CountVectorizer(input='content', binary=True,max_df=0.25, min_df=1.01/n_documents) \n",
    "    train_binary_bag_of_words = count_vectorizer.fit_transform(newsgroups_train_data['data']) \n",
    "    test_binary_bag_of_words = count_vectorizer.transform(newsgroups_test_data['data']) \n",
    "\n",
    "    return (train_binary_bag_of_words.todense(), newsgroups_train_data['target']),  (test_binary_bag_of_words.todense(), newsgroups_test_data['target'])\n"
   ]
  },
  {
   "cell_type": "code",
   "execution_count": 149,
   "metadata": {
    "ExecuteTime": {
     "end_time": "2021-03-30T07:08:09.277016Z",
     "start_time": "2021-03-30T07:08:09.272027Z"
    }
   },
   "outputs": [],
   "source": [
    "# Defining a function to conduct laplace smoothing. This adds a base level of probability for a given feature\n",
    "# to occur in every class.\n",
    "\n",
    "def laplace_smoothing(labels, binary_data, n_classes):\n",
    "    # Compute the parameter estimates (adjusted fraction of documents in class that contain word)\n",
    "    n_words = binary_data.shape[1]\n",
    "    alpha = 1 # parameters for Laplace smoothing\n",
    "    theta = np.zeros([n_classes, n_words]) # stores parameter values - prob. word given class\n",
    "    for c_k in range(n_classes): # 0, 1, ..., 19\n",
    "        class_mask = (labels == c_k)\n",
    "        N = class_mask.sum() # number of articles in class\n",
    "        theta[c_k, :] = (binary_data[class_mask, :].sum(axis=0) + alpha)/(N + alpha*2)\n",
    "\n",
    "    return theta"
   ]
  },
  {
   "cell_type": "code",
   "execution_count": 150,
   "metadata": {
    "ExecuteTime": {
     "end_time": "2021-03-30T07:08:10.074614Z",
     "start_time": "2021-03-30T07:08:10.070592Z"
    }
   },
   "outputs": [],
   "source": [
    "# Now we will do a function that given the feature occurence counts returns a Bernoulli distribution of \n",
    "# batch_shape=number of classes and event_shape=number of features.\n",
    "\n",
    "def make_distributions(probs):\n",
    "    batch_of_bernoullis = tfd.Bernoulli(probs=probs) # shape (n_classes, n_words)\n",
    "    dist = tfd.Independent(batch_of_bernoullis, reinterpreted_batch_ndims=1)\n",
    "    return dist"
   ]
  },
  {
   "cell_type": "code",
   "execution_count": 151,
   "metadata": {
    "ExecuteTime": {
     "end_time": "2021-03-30T07:08:10.827797Z",
     "start_time": "2021-03-30T07:08:10.821776Z"
    }
   },
   "outputs": [],
   "source": [
    "# Function which computes the prior probability of every class based on frequency of occurence in \n",
    "# the dataset\n",
    "\n",
    "def class_priors(n_classes, labels):\n",
    "    counts = np.zeros(n_classes)\n",
    "    for c_k in range(n_classes):\n",
    "        counts[c_k] = np.sum(np.where(labels==c_k, 1, 0))\n",
    "    priors = counts / np.sum(counts)\n",
    "    print('The class priors are {}'.format(priors))\n",
    "    return priors"
   ]
  },
  {
   "cell_type": "code",
   "execution_count": 152,
   "metadata": {
    "ExecuteTime": {
     "end_time": "2021-03-30T07:08:11.628756Z",
     "start_time": "2021-03-30T07:08:11.624767Z"
    }
   },
   "outputs": [],
   "source": [
    "# The final function predict_sample which given the distribution, a test sample, and the class priors:\n",
    "#   1) Computes the class conditional probabilities given the sample\n",
    "#   2) Forms the joint likelihood\n",
    "#   3) Normalises the joint likelihood and returns the log prob\n",
    "\n",
    "def predict_sample(dist, sample, priors):\n",
    "    cond_probs = dist.log_prob(sample)\n",
    "    joint_likelihood = tf.add(np.log(priors), cond_probs)\n",
    "    norm_factor = tf.math.reduce_logsumexp(joint_likelihood, axis=-1, keepdims=True)\n",
    "    log_prob = joint_likelihood - norm_factor\n",
    "\n",
    "    return log_prob"
   ]
  },
  {
   "cell_type": "code",
   "execution_count": 161,
   "metadata": {
    "ExecuteTime": {
     "end_time": "2021-03-30T13:32:00.919910Z",
     "start_time": "2021-03-30T13:32:00.904455Z"
    }
   },
   "outputs": [],
   "source": [
    "# Now we learn the distribution using gradient tape\n",
    "\n",
    "def make_distribution_withGT(data, labels, nb_classes):\n",
    "\n",
    "    class_data = []\n",
    "    train_vars = []\n",
    "    distributions = []\n",
    "    for c in range(nb_classes):\n",
    "        train_vars.append(tf.Variable(initial_value=np.random.uniform(low=0.01, high =0.1, size=data.shape[-1])))\n",
    "        distributions.append(tfd.Bernoulli(probs=train_vars[c]))\n",
    "        class_mask = (labels == c)\n",
    "        class_data.append(data[class_mask, :])\n",
    "\n",
    "    for c_num in range(0,nb_classes):\n",
    "        optimizer = tf.keras.optimizers.Adam()\n",
    "        print('\\n%-------------------%')\n",
    "        print('Class ', c_num)\n",
    "        print('%-------------------%')\n",
    "\n",
    "        for i in range(0,100):\n",
    "            loss, grads = get_loss_and_grads(class_data[c_num], distributions[c_num])\n",
    "            \n",
    "            if i % 10 == 0:\n",
    "                print(f\"iter: {i}, loss: {loss}\")\n",
    "                \n",
    "            optimizer.apply_gradients(zip(grads, distributions[c_num].trainable_variables))\n",
    "            \n",
    "            eta = 1e-3\n",
    "            clipped_probs = tf.clip_by_value(distributions[c_num].trainable_variables,\n",
    "                                               clip_value_min = eta, clip_value_max = 1)\n",
    "            train_vars[c_num] = tf.squeeze(clipped_probs)\n",
    "            \n",
    "\n",
    "    dist = tfd.Bernoulli(probs=train_vars)\n",
    "    dist = tfd.Independent(dist,reinterpreted_batch_ndims=1)\n",
    "\n",
    "    print(dist)\n",
    "\n",
    "    return dist\n"
   ]
  },
  {
   "cell_type": "code",
   "execution_count": 162,
   "metadata": {
    "ExecuteTime": {
     "end_time": "2021-03-30T13:32:06.061078Z",
     "start_time": "2021-03-30T13:32:01.748846Z"
    }
   },
   "outputs": [
    {
     "name": "stdout",
     "output_type": "stream",
     "text": [
      "The class priors are [0.2359882  0.28711898 0.29154376 0.18534907]\n"
     ]
    }
   ],
   "source": [
    "# Make the same Naive Bayes classifier we did last tutorial\n",
    "\n",
    "categories = ['alt.atheism', 'talk.religion.misc', 'comp.graphics', 'sci.space']\n",
    "\n",
    "(train_data, train_labels), (test_data, test_labels) = get_data(categories)\n",
    "\n",
    "smoothed_counts = laplace_smoothing(labels=train_labels, binary_data=train_data, n_classes=len(categories))\n",
    "\n",
    "priors = class_priors(n_classes=len(categories), labels=train_labels)\n",
    "tf_dist = make_distributions(smoothed_counts)"
   ]
  },
  {
   "cell_type": "code",
   "execution_count": 163,
   "metadata": {
    "ExecuteTime": {
     "end_time": "2021-03-30T13:34:01.877945Z",
     "start_time": "2021-03-30T13:32:06.066065Z"
    }
   },
   "outputs": [
    {
     "name": "stdout",
     "output_type": "stream",
     "text": [
      "\n",
      "%-------------------%\n",
      "Class  0\n",
      "%-------------------%\n",
      "iter: 0, loss: 0.07818863338448928\n",
      "iter: 10, loss: 0.06884439343409732\n",
      "iter: 20, loss: 0.06013162110633655\n",
      "iter: 30, loss: 0.052063324788220046\n",
      "iter: 40, loss: 0.04460339684834779\n",
      "iter: 50, loss: 0.03771084382535268\n",
      "iter: 60, loss: 0.03134889347581688\n",
      "iter: 70, loss: 0.02546313356560098\n",
      "iter: 80, loss: 0.020004306615703942\n",
      "iter: 90, loss: 0.014918871875489001\n",
      "\n",
      "%-------------------%\n",
      "Class  1\n",
      "%-------------------%\n",
      "iter: 0, loss: 0.07171624343963623\n",
      "iter: 10, loss: 0.06236624065740422\n",
      "iter: 20, loss: 0.05357182165652491\n",
      "iter: 30, loss: 0.04540698374636691\n",
      "iter: 40, loss: 0.03782469970343827\n",
      "iter: 50, loss: 0.03080130935697501\n",
      "iter: 60, loss: 0.024314267545893557\n",
      "iter: 70, loss: 0.01833428770661267\n",
      "iter: 80, loss: 0.01280623158469168\n",
      "iter: 90, loss: 0.007697548795524027\n",
      "\n",
      "%-------------------%\n",
      "Class  2\n",
      "%-------------------%\n",
      "iter: 0, loss: 0.07858428526794405\n",
      "iter: 10, loss: 0.06950023923581672\n",
      "iter: 20, loss: 0.06113629997359445\n",
      "iter: 30, loss: 0.05350522080589954\n",
      "iter: 40, loss: 0.046559974362836716\n",
      "iter: 50, loss: 0.04026579419099047\n",
      "iter: 60, loss: 0.03457269969985814\n",
      "iter: 70, loss: 0.029442899700768924\n",
      "iter: 80, loss: 0.024841023768524005\n",
      "iter: 90, loss: 0.020697316056650004\n",
      "\n",
      "%-------------------%\n",
      "Class  3\n",
      "%-------------------%\n",
      "iter: 0, loss: 0.07967133754049358\n",
      "iter: 10, loss: 0.07040230489589971\n",
      "iter: 20, loss: 0.06177910918633154\n",
      "iter: 30, loss: 0.053786659224856585\n",
      "iter: 40, loss: 0.04637528067393571\n",
      "iter: 50, loss: 0.039513359681616934\n",
      "iter: 60, loss: 0.03315929894524425\n",
      "iter: 70, loss: 0.027258416997556188\n",
      "iter: 80, loss: 0.02178151961279436\n",
      "iter: 90, loss: 0.016665526899949986\n",
      "tfp.distributions.Independent(\"IndependentBernoulli\", batch_shape=[4], event_shape=[17495], dtype=int32)\n"
     ]
    }
   ],
   "source": [
    "# Now train the distributions with gradient tape\n",
    "\n",
    "GT_dist = make_distribution_withGT(data=train_data, labels=train_labels, nb_classes=4)"
   ]
  },
  {
   "cell_type": "code",
   "execution_count": 157,
   "metadata": {
    "ExecuteTime": {
     "end_time": "2021-03-30T13:26:39.641855Z",
     "start_time": "2021-03-30T13:26:30.295198Z"
    }
   },
   "outputs": [
    {
     "name": "stdout",
     "output_type": "stream",
     "text": [
      "f1  0.09539473684210525\n",
      "f1  0.7837248814543706\n"
     ]
    }
   ],
   "source": [
    "# Compare the two results\n",
    "\n",
    "for dist in [GT_dist,tf_dist]:\n",
    "    probabilities = []\n",
    "    for sample, label in zip(test_data, test_labels):\n",
    "        probabilities.append(predict_sample(dist, sample, priors))\n",
    "\n",
    "    probabilities = np.asarray(probabilities)\n",
    "    predicted_classes = np.argmax(probabilities, axis =-1)\n",
    "    print('f1 ', f1_score(test_labels, predicted_classes, average='macro'))"
   ]
  },
  {
   "cell_type": "code",
   "execution_count": null,
   "metadata": {},
   "outputs": [],
   "source": []
  }
 ],
 "metadata": {
  "kernelspec": {
   "display_name": "Python 3",
   "language": "python",
   "name": "python3"
  },
  "language_info": {
   "codemirror_mode": {
    "name": "ipython",
    "version": 3
   },
   "file_extension": ".py",
   "mimetype": "text/x-python",
   "name": "python",
   "nbconvert_exporter": "python",
   "pygments_lexer": "ipython3",
   "version": "3.7.7"
  }
 },
 "nbformat": 4,
 "nbformat_minor": 4
}
