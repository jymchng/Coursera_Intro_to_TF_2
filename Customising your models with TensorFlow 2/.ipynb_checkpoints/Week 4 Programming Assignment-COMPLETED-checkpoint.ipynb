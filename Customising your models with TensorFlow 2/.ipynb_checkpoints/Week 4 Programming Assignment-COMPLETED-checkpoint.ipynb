{
 "cells": [
  {
   "cell_type": "markdown",
   "metadata": {},
   "source": [
    "# Programming Assignment"
   ]
  },
  {
   "cell_type": "markdown",
   "metadata": {},
   "source": [
    "## Residual network"
   ]
  },
  {
   "cell_type": "markdown",
   "metadata": {},
   "source": [
    "### Instructions\n",
    "\n",
    "In this notebook, you will use the model subclassing API together with custom layers to create a residual network architecture. You will then train your custom model on the Fashion-MNIST dataset by using a custom training loop and implementing the automatic differentiation tools in Tensorflow to calculate the gradients for backpropagation.\n",
    "\n",
    "Some code cells are provided you in the notebook. You should avoid editing provided code, and make sure to execute the cells in order to avoid unexpected errors. Some cells begin with the line: \n",
    "\n",
    "`#### GRADED CELL ####`\n",
    "\n",
    "Don't move or edit this first line - this is what the automatic grader looks for to recognise graded cells. These cells require you to write your own code to complete them, and are automatically graded when you submit the notebook. Don't edit the function name or signature provided in these cells, otherwise the automatic grader might not function properly. Inside these graded cells, you can use any functions or classes that are imported below, but make sure you don't use any variables that are outside the scope of the function.\n",
    "\n",
    "### How to submit\n",
    "\n",
    "Complete all the tasks you are asked for in the worksheet. When you have finished and are happy with your code, press the **Submit Assignment** button at the top of this notebook.\n",
    "\n",
    "### Let's get started!\n",
    "\n",
    "We'll start running some imports, and loading the dataset. Do not edit the existing imports in the following cell. If you would like to make further Tensorflow imports, you should add them here."
   ]
  },
  {
   "cell_type": "code",
   "execution_count": 1,
   "metadata": {
    "ExecuteTime": {
     "end_time": "2021-03-25T05:57:56.222228Z",
     "start_time": "2021-03-25T05:57:44.187638Z"
    }
   },
   "outputs": [],
   "source": [
    "#### PACKAGE IMPORTS ####\n",
    "\n",
    "# Run this cell first to import all required packages. Do not make any imports elsewhere in the notebook\n",
    "\n",
    "import tensorflow as tf\n",
    "from tensorflow.keras.models import Model\n",
    "from tensorflow.keras.layers import Layer, BatchNormalization, Conv2D, Dense, Flatten, Add\n",
    "import numpy as np\n",
    "from tensorflow.keras.datasets import fashion_mnist\n",
    "from tensorflow.keras.utils import to_categorical\n",
    "import matplotlib.pyplot as plt\n",
    "\n",
    "# If you would like to make further imports from tensorflow, add them here\n",
    "\n",
    "from tensorflow.keras.layers import Layer, BatchNormalization, Conv2D, Dense, Flatten, Add, Softmax"
   ]
  },
  {
   "cell_type": "markdown",
   "metadata": {},
   "source": [
    "![Fashion-MNIST overview image](data/fashion_mnist.png)\n",
    "\n",
    "#### The Fashion-MNIST dataset\n",
    "\n",
    "In this assignment, you will use the [Fashion-MNIST dataset](https://github.com/zalandoresearch/fashion-mnist). It consists of a training set of 60,000 images of fashion items with corresponding labels, and a test set of 10,000 images. The images have been normalised and centred. The dataset is frequently used in machine learning research, especially as a drop-in replacement for the MNIST dataset. \n",
    "\n",
    "- H. Xiao, K. Rasul, and R. Vollgraf. \"Fashion-MNIST: a Novel Image Dataset for Benchmarking Machine Learning Algorithms.\" arXiv:1708.07747, August 2017.\n",
    "\n",
    "Your goal is to construct a ResNet model that classifies images of fashion items into one of 10 classes."
   ]
  },
  {
   "cell_type": "markdown",
   "metadata": {},
   "source": [
    "#### Load the dataset"
   ]
  },
  {
   "cell_type": "markdown",
   "metadata": {},
   "source": [
    "For this programming assignment, we will take a smaller sample of the dataset to reduce the training time."
   ]
  },
  {
   "cell_type": "code",
   "execution_count": 2,
   "metadata": {
    "ExecuteTime": {
     "end_time": "2021-03-25T05:58:00.069096Z",
     "start_time": "2021-03-25T05:57:59.479700Z"
    }
   },
   "outputs": [],
   "source": [
    "# Load and preprocess the Fashion-MNIST dataset\n",
    "\n",
    "(train_images, train_labels), (test_images, test_labels) = fashion_mnist.load_data()\n",
    "\n",
    "train_images = train_images.astype(np.float32)\n",
    "test_images = test_images.astype(np.float32)\n",
    "\n",
    "train_images = train_images[:5000] / 255.\n",
    "train_labels = train_labels[:5000]\n",
    "\n",
    "test_images = test_images / 255.\n",
    "\n",
    "train_images = train_images[..., np.newaxis]\n",
    "test_images = test_images[..., np.newaxis]"
   ]
  },
  {
   "cell_type": "code",
   "execution_count": 3,
   "metadata": {
    "ExecuteTime": {
     "end_time": "2021-03-25T05:58:02.434147Z",
     "start_time": "2021-03-25T05:58:01.611663Z"
    }
   },
   "outputs": [],
   "source": [
    "# Create Dataset objects for the training and test sets\n",
    "\n",
    "train_dataset = tf.data.Dataset.from_tensor_slices((train_images, train_labels))\n",
    "train_dataset = train_dataset.batch(32)\n",
    "\n",
    "test_dataset = tf.data.Dataset.from_tensor_slices((test_images, test_labels))\n",
    "test_dataset = test_dataset.batch(32)"
   ]
  },
  {
   "cell_type": "code",
   "execution_count": 4,
   "metadata": {
    "ExecuteTime": {
     "end_time": "2021-03-25T05:58:05.249429Z",
     "start_time": "2021-03-25T05:58:05.244442Z"
    }
   },
   "outputs": [],
   "source": [
    "# Get dataset labels\n",
    "\n",
    "image_labels = ['T-shirt/top', 'Trouser', 'Pullover', 'Dress', 'Coat', 'Sandal', 'Shirt', 'Sneaker', 'Bag', 'Ankle boot']"
   ]
  },
  {
   "cell_type": "markdown",
   "metadata": {},
   "source": [
    "#### Create custom layers for the residual blocks"
   ]
  },
  {
   "cell_type": "markdown",
   "metadata": {},
   "source": [
    "You should now create a first custom layer for a residual block of your network. Using layer subclassing, build your custom layer according to the following spec:\n",
    "\n",
    "* The custom layer class should have `__init__`, `build` and `call` methods. The `__init__` method has been completed for you. It calls the base `Layer` class initializer, passing on any keyword arguments\n",
    "* The `build` method should create the layers. It will take an `input_shape` argument, and should extract the number of filters from this argument. It should create:\n",
    "    * A BatchNormalization layer: this will be the first layer in the block, so should use its `input shape` keyword argument\n",
    "    * A Conv2D layer with the same number of filters as the layer input, a 3x3 kernel size, `'SAME'` padding, and no activation function\n",
    "    * Another BatchNormalization layer\n",
    "    * Another Conv2D layer, again with the same number of filters as the layer input, a 3x3 kernel size, `'SAME'` padding, and no activation function\n",
    "* The `call` method should then process the input through the layers:\n",
    "    * The first BatchNormalization layer: ensure to set the `training` keyword argument\n",
    "    * A `tf.nn.relu` activation function\n",
    "    * The first Conv2D layer\n",
    "    * The second BatchNormalization layer: ensure to set the `training` keyword argument\n",
    "    * Another `tf.nn.relu` activation function\n",
    "    * The second Conv2D layer\n",
    "    * It should then add the layer inputs to the output of the second Conv2D layer. This is the final layer output"
   ]
  },
  {
   "cell_type": "code",
   "execution_count": 5,
   "metadata": {
    "ExecuteTime": {
     "end_time": "2021-03-25T05:58:09.450797Z",
     "start_time": "2021-03-25T05:58:09.442849Z"
    }
   },
   "outputs": [],
   "source": [
    "#### GRADED CELL ####\n",
    "\n",
    "# Complete the following class. \n",
    "# Make sure to not change the class or method names or arguments.\n",
    "\n",
    "class ResidualBlock(Layer):\n",
    "\n",
    "    def __init__(self, **kwargs):\n",
    "\n",
    "        \n",
    "    def build(self, input_shape):\n",
    "        \"\"\"\n",
    "        This method should build the layers according to the above specification. Make sure \n",
    "        to use the input_shape argument to get the correct number of filters, and to set the\n",
    "        input_shape of the first layer in the block.\n",
    "        \"\"\"\n",
    "        \n",
    "\n",
    "        \n",
    "    def call(self, inputs, training=False):\n",
    "        \"\"\"\n",
    "        This method should contain the code for calling the layer according to the above\n",
    "        specification, using the layer objects set up in the build method.\n",
    "        \"\"\"\n"
   ]
  },
  {
   "cell_type": "code",
   "execution_count": 6,
   "metadata": {
    "ExecuteTime": {
     "end_time": "2021-03-25T05:58:10.262864Z",
     "start_time": "2021-03-25T05:58:10.117943Z"
    }
   },
   "outputs": [
    {
     "name": "stdout",
     "output_type": "stream",
     "text": [
      "Model: \"sequential\"\n",
      "_________________________________________________________________\n",
      "Layer (type)                 Output Shape              Param #   \n",
      "=================================================================\n",
      "residual_block (ResidualBloc (None, 28, 28, 1)         28        \n",
      "=================================================================\n",
      "Total params: 28\n",
      "Trainable params: 24\n",
      "Non-trainable params: 4\n",
      "_________________________________________________________________\n"
     ]
    }
   ],
   "source": [
    "# Test your custom layer - the following should create a model using your layer\n",
    "\n",
    "test_model = tf.keras.Sequential([ResidualBlock(input_shape=(28, 28, 1), name=\"residual_block\")])\n",
    "test_model.summary()"
   ]
  },
  {
   "cell_type": "markdown",
   "metadata": {},
   "source": [
    "You should now create a second custom layer for a residual block of your network. This layer will be used to change the number of filters within the block. Using layer subclassing, build your custom layer according to the following spec:\n",
    "\n",
    "* The custom layer class should have `__init__`, `build` and `call` methods \n",
    "* The class initialiser should call the base `Layer` class initializer, passing on any keyword arguments. It should also accept a `out_filters` argument, and save it as a class attribute\n",
    "* The `build` method should create the layers. It will take an `input_shape` argument, and should extract the number of input filters from this argument. It should create:\n",
    "    * A BatchNormalization layer: this will be the first layer in the block, so should use its `input shape` keyword argument\n",
    "    * A Conv2D layer with the same number of filters as the layer input, a 3x3 kernel size, `\"SAME\"` padding, and no activation function\n",
    "    * Another BatchNormalization layer\n",
    "    * Another Conv2D layer with `out_filters` number of filters, a 3x3 kernel size, `\"SAME\"` padding, and no activation function\n",
    "    * A final Conv2D layer with `out_filters` number of filters, a 1x1 kernel size, and no activation function\n",
    "* The `call` method should then process the input through the layers:\n",
    "    * The first BatchNormalization layer: ensure to set the `training` keyword argument\n",
    "    * A `tf.nn.relu` activation function\n",
    "    * The first Conv2D layer\n",
    "    * The second BatchNormalization layer: ensure to set the `training` keyword argument\n",
    "    * Another `tf.nn.relu` activation function\n",
    "    * The second Conv2D layer\n",
    "    * It should then take the layer inputs, pass it through the final 1x1 Conv2D layer, and add to the output of the second Conv2D layer. This is the final layer output"
   ]
  },
  {
   "cell_type": "code",
   "execution_count": 7,
   "metadata": {
    "ExecuteTime": {
     "end_time": "2021-03-25T05:58:17.551198Z",
     "start_time": "2021-03-25T05:58:17.543245Z"
    }
   },
   "outputs": [],
   "source": [
    "#### GRADED CELL ####\n",
    "\n",
    "# Complete the following class. \n",
    "# Make sure to not change the class or method names or arguments.\n",
    "\n",
    "class FiltersChangeResidualBlock(Layer):\n",
    "\n",
    "    def __init__(self, out_filters, **kwargs):\n",
    "        \"\"\"\n",
    "        The class initialiser should call the base class initialiser, passing any keyword\n",
    "        arguments along. It should also set the number of filters as a class attribute.\n",
    "        \"\"\"\n",
    "\n",
    "        \n",
    "    def build(self, input_shape):\n",
    "        \"\"\"\n",
    "        This method should build the layers according to the above specification. Make sure \n",
    "        to use the input_shape argument to get the correct number of filters, and to set the\n",
    "        input_shape of the first layer in the block.\n",
    "        \"\"\"\n",
    "\n",
    "    def call(self, inputs, training=False):\n",
    "        \"\"\"\n",
    "        This method should contain the code for calling the layer according to the above\n",
    "        specification, using the layer objects set up in the build method.\n",
    "        \"\"\"\n",
    "     "
   ]
  },
  {
   "cell_type": "code",
   "execution_count": 8,
   "metadata": {
    "ExecuteTime": {
     "end_time": "2021-03-25T05:58:18.438886Z",
     "start_time": "2021-03-25T05:58:18.326714Z"
    }
   },
   "outputs": [
    {
     "name": "stdout",
     "output_type": "stream",
     "text": [
      "Model: \"sequential_1\"\n",
      "_________________________________________________________________\n",
      "Layer (type)                 Output Shape              Param #   \n",
      "=================================================================\n",
      "fc_resnet_block (FiltersChan (None, 32, 32, 16)        620       \n",
      "=================================================================\n",
      "Total params: 620\n",
      "Trainable params: 608\n",
      "Non-trainable params: 12\n",
      "_________________________________________________________________\n"
     ]
    }
   ],
   "source": [
    "# Test your custom layer - the following should create a model using your layer\n",
    "\n",
    "test_model = tf.keras.Sequential([FiltersChangeResidualBlock(16, input_shape=(32, 32, 3), name=\"fc_resnet_block\")])\n",
    "test_model.summary()"
   ]
  },
  {
   "cell_type": "markdown",
   "metadata": {},
   "source": [
    "#### Create a custom model that integrates the residual blocks\n",
    "\n",
    "You are now ready to build your ResNet model. Using model subclassing, build your model according to the following spec:\n",
    "\n",
    "* The custom model class should have `__init__` and `call` methods. \n",
    "* The class initialiser should call the base `Model` class initializer, passing on any keyword arguments. It should create the model layers:\n",
    "    * The first Conv2D layer, with 32 filters, a 7x7 kernel and stride of 2.\n",
    "    * A `ResidualBlock` layer.\n",
    "    * The second Conv2D layer, with 32 filters, a 3x3 kernel and stride of 2.\n",
    "    * A `FiltersChangeResidualBlock` layer, with 64 output filters.\n",
    "    * A Flatten layer\n",
    "    * A final Dense layer, with a 10-way softmax output\n",
    "* The `call` method should then process the input through the layers in the order given above. Ensure to pass the `training` keyword argument to the residual blocks, to ensure the correct mode of operation for the batch norm layers.\n",
    "\n",
    "In total, your neural network should have six layers (counting each residual block as one layer)."
   ]
  },
  {
   "cell_type": "code",
   "execution_count": 9,
   "metadata": {
    "ExecuteTime": {
     "end_time": "2021-03-25T05:58:19.952769Z",
     "start_time": "2021-03-25T05:58:19.945726Z"
    }
   },
   "outputs": [],
   "source": [
    "#### GRADED CELL ####\n",
    "\n",
    "# Complete the following class. \n",
    "# Make sure to not change the class or method names or arguments.\n",
    "\n",
    "class ResNetModel(Model):\n",
    "\n",
    "    def __init__(self, **kwargs):\n",
    "        \"\"\"\n",
    "        The class initialiser should call the base class initialiser, passing any keyword\n",
    "        arguments along. It should also create the layers of the network according to the\n",
    "        above specification.\n",
    "        \"\"\"\n",
    "\n",
    "                             \n",
    "    def call(self, inputs, training=False):\n",
    "        \"\"\"\n",
    "        This method should contain the code for calling the layer according to the above\n",
    "        specification, using the layer objects set up in the initialiser.\n",
    "        \"\"\"\n"
   ]
  },
  {
   "cell_type": "code",
   "execution_count": 13,
   "metadata": {
    "ExecuteTime": {
     "end_time": "2021-03-25T05:59:10.960350Z",
     "start_time": "2021-03-25T05:59:10.864930Z"
    }
   },
   "outputs": [
    {
     "name": "stdout",
     "output_type": "stream",
     "text": [
      "<dtype: 'int32'>\n",
      "tf.Tensor(\n",
      "[[0.08867583 0.08713888 0.11817738 0.10930809 0.10143802 0.08889387\n",
      "  0.10437551 0.10103974 0.09937955 0.10157308]\n",
      " [0.08897601 0.09413303 0.10879799 0.10699089 0.10497347 0.09888377\n",
      "  0.10212538 0.10088008 0.10562213 0.08861715]\n",
      " [0.09575275 0.10139996 0.10343292 0.1004658  0.10416432 0.09493999\n",
      "  0.10095166 0.09903437 0.10337881 0.09647951]\n",
      " [0.09187554 0.09947837 0.10764831 0.10170945 0.10480637 0.09452402\n",
      "  0.10315024 0.0969398  0.10637237 0.09349547]\n",
      " [0.09407722 0.09909926 0.10285106 0.10433199 0.11135953 0.09085974\n",
      "  0.09960254 0.09687813 0.10591701 0.09502351]\n",
      " [0.09117531 0.0936947  0.1096489  0.10516741 0.10779335 0.09152306\n",
      "  0.10156306 0.09586978 0.10501099 0.09855331]\n",
      " [0.0960987  0.09384109 0.10888263 0.11187343 0.10597844 0.08200672\n",
      "  0.10606775 0.08902492 0.10329293 0.10293334]\n",
      " [0.08758024 0.0907634  0.11905275 0.10767379 0.10866065 0.08792035\n",
      "  0.10654834 0.09259158 0.1064828  0.09272613]\n",
      " [0.09580077 0.09528855 0.10492529 0.09916568 0.10639544 0.09973062\n",
      "  0.10018108 0.10135235 0.10112065 0.0960396 ]\n",
      " [0.09167925 0.09169737 0.11258409 0.0944254  0.11304443 0.09324434\n",
      "  0.10275771 0.10609479 0.0969934  0.09747928]\n",
      " [0.08569021 0.09932481 0.10921531 0.10100949 0.10357518 0.09669838\n",
      "  0.1059357  0.09956637 0.10480687 0.09417763]\n",
      " [0.08533099 0.08920892 0.12007394 0.10160306 0.10636112 0.09429563\n",
      "  0.10703952 0.09626803 0.10426656 0.09555216]\n",
      " [0.09712359 0.09420418 0.11081469 0.10512327 0.10623213 0.09004286\n",
      "  0.09876043 0.09561035 0.10263562 0.09945296]\n",
      " [0.09758875 0.09013408 0.10583892 0.107774   0.10510577 0.0933443\n",
      "  0.09668294 0.0998717  0.10570501 0.09795458]\n",
      " [0.10347553 0.09975775 0.10184949 0.10256858 0.10222535 0.0881445\n",
      "  0.10520057 0.09510516 0.10376118 0.09791186]\n",
      " [0.0902952  0.0850013  0.11982974 0.10766817 0.10371545 0.08206541\n",
      "  0.10583187 0.10079671 0.10370271 0.10109339]\n",
      " [0.09452897 0.09935308 0.11404271 0.09926873 0.10382966 0.09730887\n",
      "  0.10286174 0.09709357 0.10055713 0.09115554]\n",
      " [0.08335304 0.10112809 0.1068444  0.09961969 0.10801514 0.09859181\n",
      "  0.10547589 0.09862088 0.10528502 0.09306609]\n",
      " [0.09358775 0.09301558 0.10909005 0.10486592 0.10462735 0.09167263\n",
      "  0.10625727 0.09734409 0.10516838 0.09437101]\n",
      " [0.09808781 0.10036206 0.10600167 0.10007915 0.10253382 0.0944863\n",
      "  0.10562937 0.09553531 0.10188224 0.09540237]\n",
      " [0.08885545 0.09809312 0.10604104 0.10265811 0.1071116  0.09411127\n",
      "  0.10509022 0.09960042 0.10172067 0.0967181 ]\n",
      " [0.10069701 0.09983668 0.10790993 0.10210343 0.11113721 0.08955237\n",
      "  0.09921454 0.09770634 0.09844545 0.09339701]\n",
      " [0.09233359 0.09488483 0.10783198 0.10786078 0.10785215 0.09603557\n",
      "  0.10032237 0.09967665 0.09835221 0.0948498 ]\n",
      " [0.09357222 0.08985995 0.11201621 0.10829146 0.10912693 0.08948888\n",
      "  0.10172377 0.09642685 0.10244387 0.09704987]\n",
      " [0.09465744 0.09778665 0.11321588 0.10207614 0.10483614 0.09057808\n",
      "  0.10375784 0.09351192 0.10600933 0.09357064]\n",
      " [0.09219153 0.09945211 0.10727496 0.09824685 0.10654241 0.09426828\n",
      "  0.10684181 0.0964018  0.10622746 0.0925528 ]\n",
      " [0.09182617 0.09696174 0.10811301 0.10494801 0.10797857 0.08910601\n",
      "  0.10648773 0.09680407 0.10375878 0.09401596]\n",
      " [0.08750936 0.09363788 0.11620518 0.10758474 0.10464194 0.08902212\n",
      "  0.10590972 0.09576115 0.10838769 0.09134024]\n",
      " [0.09191123 0.09916256 0.10657079 0.10082889 0.103544   0.09417554\n",
      "  0.10550196 0.09927177 0.10485904 0.09417426]\n",
      " [0.09324535 0.09473272 0.11218566 0.10490228 0.10510019 0.08860381\n",
      "  0.10360362 0.09702548 0.10680726 0.09379354]\n",
      " [0.10047194 0.10240545 0.09838089 0.10007896 0.10545585 0.08951013\n",
      "  0.10327086 0.09526476 0.106456   0.09870519]\n",
      " [0.09511863 0.10090147 0.10170069 0.10278025 0.10618945 0.09420212\n",
      "  0.10010565 0.10157481 0.09997177 0.0974552 ]], shape=(32, 10), dtype=float32)\n",
      "tf.Tensor([9 0 0 3 0 2 7 2 5 5 0 9 5 5 7 9 1 0 6 4 3 1 4 8 4 3 0 2 4 4 5 3], shape=(32,), dtype=int32)\n",
      "tf.Tensor(2.3153033, shape=(), dtype=float32)\n"
     ]
    }
   ],
   "source": [
    "# Create the model\n",
    "\n",
    "resnet_model = ResNetModel()\n",
    "for x, y in train_dataset.take(1):\n",
    "    y = tf.cast(y, dtype = 'int32')\n",
    "    print(y.dtype)\n",
    "    print(resnet_model(x))\n",
    "    print(y)\n",
    "    print(loss_obj(y, resnet_model(x)))"
   ]
  },
  {
   "cell_type": "markdown",
   "metadata": {},
   "source": [
    "#### Define the optimizer and loss function"
   ]
  },
  {
   "cell_type": "markdown",
   "metadata": {},
   "source": [
    "We will use the Adam optimizer with a learning rate of 0.001, and the sparse categorical cross entropy function."
   ]
  },
  {
   "cell_type": "code",
   "execution_count": 11,
   "metadata": {
    "ExecuteTime": {
     "end_time": "2021-03-25T05:58:32.697019Z",
     "start_time": "2021-03-25T05:58:32.693986Z"
    }
   },
   "outputs": [],
   "source": [
    "# Create the optimizer and loss\n",
    "\n",
    "optimizer_obj = tf.keras.optimizers.Adam(learning_rate=0.001)\n",
    "loss_obj = tf.keras.losses.SparseCategoricalCrossentropy()"
   ]
  },
  {
   "cell_type": "markdown",
   "metadata": {},
   "source": [
    "#### Define the grad function"
   ]
  },
  {
   "cell_type": "markdown",
   "metadata": {},
   "source": [
    "You should now create the `grad` function that will compute the forward and backward pass, and return the loss value and gradients that will be used in your custom training loop:\n",
    "\n",
    "* The `grad` function takes a model instance, inputs, targets and the loss object above as arguments\n",
    "* The function should use a `tf.GradientTape` context to compute the forward pass and calculate the loss\n",
    "* The function should compute the gradient of the loss with respect to the model's trainable variables\n",
    "* The function should return a tuple of two elements: the loss value, and a list of gradients"
   ]
  },
  {
   "cell_type": "code",
   "execution_count": 19,
   "metadata": {
    "ExecuteTime": {
     "end_time": "2021-03-25T06:13:27.203813Z",
     "start_time": "2021-03-25T06:13:27.184864Z"
    }
   },
   "outputs": [],
   "source": [
    "#### GRADED CELL ####\n",
    "\n",
    "# Complete the following function. \n",
    "# Make sure to not change the function name or arguments.\n",
    "\n",
    "@tf.function\n",
    "def grad(model, inputs, targets, loss):\n",
    "    \"\"\"\n",
    "    This function should compute the loss and gradients of your model, corresponding to\n",
    "    the inputs and targets provided. It should return the loss and gradients.\n",
    "    \"\"\"\n",
    "    "
   ]
  },
  {
   "cell_type": "markdown",
   "metadata": {},
   "source": [
    "#### Define the custom training loop"
   ]
  },
  {
   "cell_type": "markdown",
   "metadata": {},
   "source": [
    "You should now write a custom training loop. Complete the following function, according to the spec:\n",
    "\n",
    "* The function takes the following arguments:\n",
    "    * `model`: an instance of your custom model\n",
    "    * `num_epochs`: integer number of epochs to train the model\n",
    "    * `dataset`: a `tf.data.Dataset` object for the training data\n",
    "    * `optimizer`: an optimizer object, as created above\n",
    "    * `loss`: a sparse categorical cross entropy object, as created above\n",
    "    * `grad_fn`: your `grad` function above, that returns the loss and gradients for given model, inputs and targets\n",
    "* Your function should train the model for the given number of epochs, using the `grad_fn` to compute gradients for each training batch, and updating the model parameters using `optimizer.apply_gradients`. \n",
    "* Your function should collect the mean loss and accuracy values over the epoch, and return a tuple of two lists; the first for the list of loss values per epoch, the second for the list of accuracy values per epoch.\n",
    "\n",
    "You may also want to print out the loss and accuracy at each epoch during the training."
   ]
  },
  {
   "cell_type": "code",
   "execution_count": 20,
   "metadata": {
    "ExecuteTime": {
     "end_time": "2021-03-25T06:13:29.827936Z",
     "start_time": "2021-03-25T06:13:29.820978Z"
    }
   },
   "outputs": [],
   "source": [
    "#### GRADED CELL ####\n",
    "\n",
    "# Complete the following function. \n",
    "# Make sure to not change the function name or arguments.\n",
    "\n",
    "def train_resnet(model, num_epochs, dataset, optimizer, loss, grad_fn):\n",
    "    \"\"\"\n",
    "    This function should implement the custom training loop, as described above. It should \n",
    "    return a tuple of two elements: the first element is a list of loss values per epoch, the\n",
    "    second is a list of accuracy values per epoch\n",
    "    \"\"\"\n",
    "\n",
    "    # Keep results for plotting\n",
    "    train_loss_results, train_accuracy_results = [], []\n",
    "\n",
    "    for epoch in range(num_epochs): # Start the training\n",
    "        print(\"Epoch now is...\", epoch)\n",
    "        epoch_loss_avg = tf.keras.metrics.Mean()\n",
    "        epoch_accuracy = tf.keras.metrics.CategoricalAccuracy()\n",
    "\n",
    "        # Training loop\n",
    "\n",
    "        for x, y in dataset:\n",
    "            # Optimize the model\n",
    "            loss_value, grads = grad_fn(model,x,y,loss)\n",
    "\n",
    "            optimizer.apply_gradients(zip(grads, model.trainable_variables))\n",
    "\n",
    "            # Compute current loss\n",
    "            epoch_loss_avg(loss_value)\n",
    "            # Compare predicted label to actual label\n",
    "            epoch_accuracy(to_categorical(y), model(x))\n",
    "\n",
    "        # End of epoch\n",
    "        train_loss_results.append(epoch_loss_avg.result())\n",
    "        train_accuracy_results.append(epoch_accuracy.result())\n",
    "\n",
    "        print(f\"Epoch: {epoch}, Loss: {epoch_loss_avg.result()}, Accuracy: {epoch_accuracy.result()}\")\n",
    "        \n",
    "    return train_loss_results, train_accuracy_results"
   ]
  },
  {
   "cell_type": "code",
   "execution_count": 21,
   "metadata": {
    "ExecuteTime": {
     "end_time": "2021-03-25T06:14:14.730053Z",
     "start_time": "2021-03-25T06:13:31.303795Z"
    }
   },
   "outputs": [
    {
     "name": "stdout",
     "output_type": "stream",
     "text": [
      "Epoch now is... 0\n",
      "model.trainable_variables:  [<tf.Variable 'res_net_model_2/conv2d_14/kernel:0' shape=(7, 7, 1, 32) dtype=float32>, <tf.Variable 'res_net_model_2/conv2d_14/bias:0' shape=(32,) dtype=float32>, <tf.Variable 'res_net_model_2/residual_block_2/batch_normalization_8/gamma:0' shape=(32,) dtype=float32>, <tf.Variable 'res_net_model_2/residual_block_2/batch_normalization_8/beta:0' shape=(32,) dtype=float32>, <tf.Variable 'res_net_model_2/residual_block_2/conv2d_16/kernel:0' shape=(3, 3, 32, 32) dtype=float32>, <tf.Variable 'res_net_model_2/residual_block_2/conv2d_16/bias:0' shape=(32,) dtype=float32>, <tf.Variable 'res_net_model_2/residual_block_2/batch_normalization_9/gamma:0' shape=(32,) dtype=float32>, <tf.Variable 'res_net_model_2/residual_block_2/batch_normalization_9/beta:0' shape=(32,) dtype=float32>, <tf.Variable 'res_net_model_2/residual_block_2/conv2d_17/kernel:0' shape=(3, 3, 32, 32) dtype=float32>, <tf.Variable 'res_net_model_2/residual_block_2/conv2d_17/bias:0' shape=(32,) dtype=float32>, <tf.Variable 'res_net_model_2/conv2d_15/kernel:0' shape=(3, 3, 32, 32) dtype=float32>, <tf.Variable 'res_net_model_2/conv2d_15/bias:0' shape=(32,) dtype=float32>, <tf.Variable 'res_net_model_2/filters_change_residual_block_2/batch_normalization_10/gamma:0' shape=(32,) dtype=float32>, <tf.Variable 'res_net_model_2/filters_change_residual_block_2/batch_normalization_10/beta:0' shape=(32,) dtype=float32>, <tf.Variable 'res_net_model_2/filters_change_residual_block_2/conv2d_18/kernel:0' shape=(3, 3, 32, 32) dtype=float32>, <tf.Variable 'res_net_model_2/filters_change_residual_block_2/conv2d_18/bias:0' shape=(32,) dtype=float32>, <tf.Variable 'res_net_model_2/filters_change_residual_block_2/batch_normalization_11/gamma:0' shape=(32,) dtype=float32>, <tf.Variable 'res_net_model_2/filters_change_residual_block_2/batch_normalization_11/beta:0' shape=(32,) dtype=float32>, <tf.Variable 'res_net_model_2/filters_change_residual_block_2/conv2d_19/kernel:0' shape=(3, 3, 32, 64) dtype=float32>, <tf.Variable 'res_net_model_2/filters_change_residual_block_2/conv2d_19/bias:0' shape=(64,) dtype=float32>, <tf.Variable 'res_net_model_2/filters_change_residual_block_2/conv2d_20/kernel:0' shape=(1, 1, 32, 64) dtype=float32>, <tf.Variable 'res_net_model_2/filters_change_residual_block_2/conv2d_20/bias:0' shape=(64,) dtype=float32>, <tf.Variable 'res_net_model_2/dense_2/kernel:0' shape=(1600, 10) dtype=float32>, <tf.Variable 'res_net_model_2/dense_2/bias:0' shape=(10,) dtype=float32>]\n",
      "model.trainable_variables:  [<tf.Variable 'res_net_model_2/conv2d_14/kernel:0' shape=(7, 7, 1, 32) dtype=float32>, <tf.Variable 'res_net_model_2/conv2d_14/bias:0' shape=(32,) dtype=float32>, <tf.Variable 'res_net_model_2/residual_block_2/batch_normalization_8/gamma:0' shape=(32,) dtype=float32>, <tf.Variable 'res_net_model_2/residual_block_2/batch_normalization_8/beta:0' shape=(32,) dtype=float32>, <tf.Variable 'res_net_model_2/residual_block_2/conv2d_16/kernel:0' shape=(3, 3, 32, 32) dtype=float32>, <tf.Variable 'res_net_model_2/residual_block_2/conv2d_16/bias:0' shape=(32,) dtype=float32>, <tf.Variable 'res_net_model_2/residual_block_2/batch_normalization_9/gamma:0' shape=(32,) dtype=float32>, <tf.Variable 'res_net_model_2/residual_block_2/batch_normalization_9/beta:0' shape=(32,) dtype=float32>, <tf.Variable 'res_net_model_2/residual_block_2/conv2d_17/kernel:0' shape=(3, 3, 32, 32) dtype=float32>, <tf.Variable 'res_net_model_2/residual_block_2/conv2d_17/bias:0' shape=(32,) dtype=float32>, <tf.Variable 'res_net_model_2/conv2d_15/kernel:0' shape=(3, 3, 32, 32) dtype=float32>, <tf.Variable 'res_net_model_2/conv2d_15/bias:0' shape=(32,) dtype=float32>, <tf.Variable 'res_net_model_2/filters_change_residual_block_2/batch_normalization_10/gamma:0' shape=(32,) dtype=float32>, <tf.Variable 'res_net_model_2/filters_change_residual_block_2/batch_normalization_10/beta:0' shape=(32,) dtype=float32>, <tf.Variable 'res_net_model_2/filters_change_residual_block_2/conv2d_18/kernel:0' shape=(3, 3, 32, 32) dtype=float32>, <tf.Variable 'res_net_model_2/filters_change_residual_block_2/conv2d_18/bias:0' shape=(32,) dtype=float32>, <tf.Variable 'res_net_model_2/filters_change_residual_block_2/batch_normalization_11/gamma:0' shape=(32,) dtype=float32>, <tf.Variable 'res_net_model_2/filters_change_residual_block_2/batch_normalization_11/beta:0' shape=(32,) dtype=float32>, <tf.Variable 'res_net_model_2/filters_change_residual_block_2/conv2d_19/kernel:0' shape=(3, 3, 32, 64) dtype=float32>, <tf.Variable 'res_net_model_2/filters_change_residual_block_2/conv2d_19/bias:0' shape=(64,) dtype=float32>, <tf.Variable 'res_net_model_2/filters_change_residual_block_2/conv2d_20/kernel:0' shape=(1, 1, 32, 64) dtype=float32>, <tf.Variable 'res_net_model_2/filters_change_residual_block_2/conv2d_20/bias:0' shape=(64,) dtype=float32>, <tf.Variable 'res_net_model_2/dense_2/kernel:0' shape=(1600, 10) dtype=float32>, <tf.Variable 'res_net_model_2/dense_2/bias:0' shape=(10,) dtype=float32>]\n",
      "Epoch: 0, Loss: 0.2656477987766266, Accuracy: 0.9222000241279602\n",
      "Epoch now is... 1\n",
      "Epoch: 1, Loss: 0.23948127031326294, Accuracy: 0.9355999827384949\n",
      "Epoch now is... 2\n",
      "Epoch: 2, Loss: 0.2324903905391693, Accuracy: 0.9430000185966492\n",
      "Epoch now is... 3\n",
      "Epoch: 3, Loss: 0.21865154802799225, Accuracy: 0.9472000002861023\n",
      "Epoch now is... 4\n",
      "Epoch: 4, Loss: 0.19873179495334625, Accuracy: 0.9545999765396118\n",
      "Epoch now is... 5\n",
      "Epoch: 5, Loss: 0.17139625549316406, Accuracy: 0.9607999920845032\n",
      "Epoch now is... 6\n",
      "Epoch: 6, Loss: 0.1709071546792984, Accuracy: 0.9649999737739563\n",
      "Epoch now is... 7\n",
      "Epoch: 7, Loss: 0.16152715682983398, Accuracy: 0.9661999940872192\n"
     ]
    }
   ],
   "source": [
    "# Train the model for 8 epochs\n",
    "\n",
    "train_loss_results, train_accuracy_results = train_resnet(resnet_model, 8, train_dataset, optimizer_obj, loss_obj, grad)"
   ]
  },
  {
   "cell_type": "markdown",
   "metadata": {},
   "source": [
    "#### Plot the learning curves"
   ]
  },
  {
   "cell_type": "code",
   "execution_count": 17,
   "metadata": {
    "ExecuteTime": {
     "end_time": "2021-03-25T06:09:02.352938Z",
     "start_time": "2021-03-25T06:09:02.056682Z"
    }
   },
   "outputs": [
    {
     "data": {
      "image/png": "[encoded data removed]",
      "text/plain": [
       "<Figure size 864x360 with 2 Axes>"
      ]
     },
     "metadata": {
      "needs_background": "light"
     },
     "output_type": "display_data"
    }
   ],
   "source": [
    "fig, axes = plt.subplots(1, 2, sharex=True, figsize=(12, 5))\n",
    "\n",
    "axes[0].set_xlabel(\"Epochs\", fontsize=14)\n",
    "axes[0].set_ylabel(\"Loss\", fontsize=14)\n",
    "axes[0].set_title('Loss vs epochs')\n",
    "axes[0].plot(train_loss_results)\n",
    "\n",
    "axes[1].set_title('Accuracy vs epochs')\n",
    "axes[1].set_ylabel(\"Accuracy\", fontsize=14)\n",
    "axes[1].set_xlabel(\"Epochs\", fontsize=14)\n",
    "axes[1].plot(train_accuracy_results)\n",
    "plt.show()"
   ]
  },
  {
   "cell_type": "markdown",
   "metadata": {},
   "source": [
    "#### Evaluate the model performance on the test dataset"
   ]
  },
  {
   "cell_type": "code",
   "execution_count": 18,
   "metadata": {
    "ExecuteTime": {
     "end_time": "2021-03-25T06:09:12.148899Z",
     "start_time": "2021-03-25T06:09:08.401443Z"
    }
   },
   "outputs": [
    {
     "name": "stdout",
     "output_type": "stream",
     "text": [
      "Test loss: 0.530\n",
      "Test accuracy: 83.110%\n"
     ]
    }
   ],
   "source": [
    "# Compute the test loss and accuracy\n",
    "\n",
    "epoch_loss_avg = tf.keras.metrics.Mean()\n",
    "epoch_accuracy = tf.keras.metrics.CategoricalAccuracy()\n",
    "\n",
    "for x, y in test_dataset:\n",
    "    model_output = resnet_model(x)\n",
    "    epoch_loss_avg(loss_obj(y, model_output))  \n",
    "    epoch_accuracy(to_categorical(y), model_output)\n",
    "\n",
    "print(\"Test loss: {:.3f}\".format(epoch_loss_avg.result().numpy()))\n",
    "print(\"Test accuracy: {:.3%}\".format(epoch_accuracy.result().numpy()))"
   ]
  },
  {
   "cell_type": "markdown",
   "metadata": {},
   "source": [
    "#### Model predictions\n",
    "\n",
    "Let's see some model predictions! We will randomly select four images from the test data, and display the image and label for each. \n",
    "\n",
    "For each test image, model's prediction (the label with maximum probability) is shown, together with a plot showing the model's categorical distribution."
   ]
  },
  {
   "cell_type": "code",
   "execution_count": 65,
   "metadata": {},
   "outputs": [
    {
     "data": {
      "image/png": "[encoded data removed]",
      "text/plain": [
       "<Figure size 1152x864 with 8 Axes>"
      ]
     },
     "metadata": {
      "needs_background": "light"
     },
     "output_type": "display_data"
    }
   ],
   "source": [
    "# Run this cell to get model predictions on randomly selected test images\n",
    "\n",
    "num_test_images = test_images.shape[0]\n",
    "\n",
    "random_inx = np.random.choice(test_images.shape[0], 4)\n",
    "random_test_images = test_images[random_inx, ...]\n",
    "random_test_labels = test_labels[random_inx, ...]\n",
    "\n",
    "predictions = resnet_model(random_test_images)\n",
    "\n",
    "fig, axes = plt.subplots(4, 2, figsize=(16, 12))\n",
    "fig.subplots_adjust(hspace=0.5, wspace=-0.2)\n",
    "\n",
    "for i, (prediction, image, label) in enumerate(zip(predictions, random_test_images, random_test_labels)):\n",
    "    axes[i, 0].imshow(np.squeeze(image))\n",
    "    axes[i, 0].get_xaxis().set_visible(False)\n",
    "    axes[i, 0].get_yaxis().set_visible(False)\n",
    "    axes[i, 0].text(5., -2., f'Class {label} ({image_labels[label]})')\n",
    "    axes[i, 1].bar(np.arange(len(prediction)), prediction)\n",
    "    axes[i, 1].set_xticks(np.arange(len(prediction)))\n",
    "    axes[i, 1].set_xticklabels(image_labels, rotation=0)\n",
    "    pred_inx = np.argmax(prediction)\n",
    "    axes[i, 1].set_title(f\"Categorical distribution. Model prediction: {image_labels[pred_inx]}\")\n",
    "    \n",
    "plt.show()"
   ]
  },
  {
   "cell_type": "markdown",
   "metadata": {},
   "source": [
    "Congratulations for completing this programming assignment! You're now ready to move on to the capstone project for this course."
   ]
  }
 ],
 "metadata": {
  "coursera": {
   "course_slug": "tensor-flow-2-2",
   "graded_item_id": "2x3vn",
   "launcher_item_id": "QKXZc"
  },
  "kernelspec": {
   "display_name": "Python 3",
   "language": "python",
   "name": "python3"
  },
  "language_info": {
   "codemirror_mode": {
    "name": "ipython",
    "version": 3
   },
   "file_extension": ".py",
   "mimetype": "text/x-python",
   "name": "python",
   "nbconvert_exporter": "python",
   "pygments_lexer": "ipython3",
   "version": "3.7.7"
  }
 },
 "nbformat": 4,
 "nbformat_minor": 2
}
