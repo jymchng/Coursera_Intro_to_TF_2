{
 "cells": [
  {
   "cell_type": "markdown",
   "metadata": {
    "id": "vsX0L1sG1iZj"
   },
   "source": [
    "# Capstone Project\n",
    "## Neural translation model\n",
    "### Instructions\n",
    "\n",
    "In this notebook, you will create a neural network that translates from English to German. You will use concepts from throughout this course, including building more flexible model architectures, freezing layers, data processing pipeline and sequence modelling.\n",
    "\n",
    "This project is peer-assessed. Within this notebook you will find instructions in each section for how to complete the project. Pay close attention to the instructions as the peer review will be carried out according to a grading rubric that checks key parts of the project instructions. Feel free to add extra cells into the notebook as required.\n",
    "\n",
    "### How to submit\n",
    "\n",
    "When you have completed the Capstone project notebook, you will submit a pdf of the notebook for peer review. First ensure that the notebook has been fully executed from beginning to end, and all of the cell outputs are visible. This is important, as the grading rubric depends on the reviewer being able to view the outputs of your notebook. Save the notebook as a pdf (you could download the notebook with File -> Download .ipynb, open the notebook locally, and then File -> Download as -> PDF via LaTeX), and then submit this pdf for review.\n",
    "\n",
    "### Let's get started!\n",
    "\n",
    "We'll start by running some imports, and loading the dataset. For this project you are free to make further imports throughout the notebook as you wish. "
   ]
  },
  {
   "cell_type": "code",
   "execution_count": 1,
   "metadata": {
    "id": "2VyTvxPN1iZn"
   },
   "outputs": [],
   "source": [
    "import tensorflow as tf\n",
    "import tensorflow_hub as hub\n",
    "import unicodedata\n",
    "import re\n",
    "from IPython.display import Image\n",
    "import pandas as pd\n",
    "from tensorflow.keras.preprocessing.text import Tokenizer\n",
    "import numpy as np\n",
    "from sklearn.model_selection import train_test_split"
   ]
  },
  {
   "cell_type": "markdown",
   "metadata": {
    "id": "wuIi4lAR1iZt"
   },
   "source": [
    "For the capstone project, you will use a language dataset from http://www.manythings.org/anki/ to build a neural translation model. This dataset consists of over 200,000 pairs of sentences in English and German. In order to make the training quicker, we will restrict to our dataset to 20,000 pairs. Feel free to change this if you wish - the size of the dataset used is not part of the grading rubric.\n",
    "\n",
    "Your goal is to develop a neural translation model from English to German, making use of a pre-trained English word embedding module."
   ]
  },
  {
   "cell_type": "markdown",
   "metadata": {
    "id": "pi9Dq6vv3FVO"
   },
   "source": [
    "#### Import the data\n",
    "\n",
    "The dataset is available for download as a zip file at the following link:\n",
    "\n",
    "https://drive.google.com/open?id=1KczOciG7sYY7SB9UlBeRP1T9659b121Q\n",
    "\n",
    "You should store the unzipped folder in Drive for use in this Colab notebook."
   ]
  },
  {
   "cell_type": "code",
   "execution_count": 2,
   "metadata": {
    "colab": {
     "base_uri": "https://localhost:8080/"
    },
    "id": "Nw99tEEQ3bKL",
    "outputId": "a5048473-c578-4fe2-b50d-2d71ebeb00b1"
   },
   "outputs": [
    {
     "name": "stdout",
     "output_type": "stream",
     "text": [
      "Mounted at /content/gdrive\n"
     ]
    }
   ],
   "source": [
    "# Run this cell to connect to your Drive folder\n",
    "\n",
    "from google.colab import drive\n",
    "drive.mount('/content/gdrive')"
   ]
  },
  {
   "cell_type": "code",
   "execution_count": 3,
   "metadata": {
    "id": "o8PetPpw1iZu"
   },
   "outputs": [],
   "source": []
  },
  {
   "cell_type": "code",
   "execution_count": 4,
   "metadata": {
    "id": "JumLjJ631iZy"
   },
   "outputs": [],
   "source": []
  },
  {
   "cell_type": "markdown",
   "metadata": {
    "id": "XFJap-TW1iZ2"
   },
   "source": [
    "#### The custom translation model\n",
    "The following is a schematic of the custom translation model architecture you will develop in this project."
   ]
  },
  {
   "cell_type": "code",
   "execution_count": 5,
   "metadata": {
    "colab": {
     "base_uri": "https://localhost:8080/",
     "height": 35
    },
    "id": "gBF1K2JN4RFJ",
    "outputId": "832e2c05-2281-4a76-ad56-1dc70662e06e"
   },
   "outputs": [
    {
     "data": {
      "image/png": "./neural_translation_model_and_key.png",
      "text/plain": [
       "<IPython.core.display.Image object>"
      ]
     },
     "execution_count": 5,
     "metadata": {
      "tags": []
     },
     "output_type": "execute_result"
    }
   ],
   "source": [
    "# Run this cell to download and view a schematic diagram for the neural translation model\n",
    "\n",
    "#!wget -q -O neural_translation_model.png --no-check-certificate \"https://docs.google.com/uc?export=download&id=1XsS1VlXoaEo-RbYNilJ9jcscNZvsSPmd\"\n",
    "Image(\"./neural_translation_model_and_key.png\")"
   ]
  },
  {
   "cell_type": "markdown",
   "metadata": {
    "id": "0fP7P-yK4RS7"
   },
   "source": [
    "The custom model consists of an encoder RNN and a decoder RNN. The encoder takes words of an English sentence as input, and uses a pre-trained word embedding to embed the words into a 128-dimensional space. To indicate the end of the input sentence, a special end token (in the same 128-dimensional space) is passed in as an input. This token is a TensorFlow Variable that is learned in the training phase (unlike the pre-trained word embedding, which is frozen).\n",
    "\n",
    "The decoder RNN takes the internal state of the encoder network as its initial state. A start token is passed in as the first input, which is embedded using a learned German word embedding. The decoder RNN then makes a prediction for the next German word, which during inference is then passed in as the following input, and this process is repeated until the special `<end>` token is emitted from the decoder."
   ]
  },
  {
   "cell_type": "markdown",
   "metadata": {
    "id": "z70nu6_01iZ3"
   },
   "source": [
    "## 1. Text preprocessing\n",
    "* Create separate lists of English and German sentences, and preprocess them using the `preprocess_sentence` function provided for you above.\n",
    "* Add a special `\"<start>\"` and `\"<end>\"` token to the beginning and end of every German sentence.\n",
    "* Use the Tokenizer class from the `tf.keras.preprocessing.text` module to tokenize the German sentences, ensuring that no character filters are applied. _Hint: use the Tokenizer's \"filter\" keyword argument._\n",
    "* Print out at least 5 randomly chosen examples of (preprocessed) English and German sentence pairs. For the German sentence, print out the text (with start and end tokens) as well as the tokenized sequence.\n",
    "* Pad the end of the tokenized German sequences with zeros, and batch the complete set of sequences into one numpy array."
   ]
  },
  {
   "cell_type": "code",
   "execution_count": 6,
   "metadata": {
    "id": "9G20C4bk1iZ4",
    "scrolled": true
   },
   "outputs": [],
   "source": []
  },
  {
   "cell_type": "code",
   "execution_count": 7,
   "metadata": {
    "id": "HCEzjls-on2S"
   },
   "outputs": [],
   "source": []
  },
  {
   "cell_type": "code",
   "execution_count": 8,
   "metadata": {
    "id": "srkDuy41on2T"
   },
   "outputs": [],
   "source": []
  },
  {
   "cell_type": "code",
   "execution_count": 9,
   "metadata": {
    "id": "5UlnBdIK1iaE"
   },
   "outputs": [],
   "source": []
  },
  {
   "cell_type": "code",
   "execution_count": 10,
   "metadata": {
    "id": "ZGTaqt1t1iaI"
   },
   "outputs": [],
   "source": []
  },
  {
   "cell_type": "code",
   "execution_count": 11,
   "metadata": {
    "id": "fqiO7HuQ1iaL"
   },
   "outputs": [],
   "source": []
  },
  {
   "cell_type": "code",
   "execution_count": 12,
   "metadata": {
    "colab": {
     "base_uri": "https://localhost:8080/"
    },
    "id": "egdxeT58on2V",
    "outputId": "8a6d9d92-47ff-42bc-fe50-5498a6c160b6"
   },
   "outputs": [
    {
     "data": {
      "text/plain": [
       "5744"
      ]
     },
     "execution_count": 12,
     "metadata": {
      "tags": []
     },
     "output_type": "execute_result"
    }
   ],
   "source": []
  },
  {
   "cell_type": "code",
   "execution_count": 13,
   "metadata": {
    "id": "VtpqFsfdon2V"
   },
   "outputs": [],
   "source": []
  },
  {
   "cell_type": "code",
   "execution_count": 14,
   "metadata": {
    "id": "tYXjwHWRon2V"
   },
   "outputs": [],
   "source": []
  },
  {
   "cell_type": "code",
   "execution_count": 15,
   "metadata": {
    "colab": {
     "base_uri": "https://localhost:8080/"
    },
    "id": "e6TtKkMton2W",
    "outputId": "e70ddf72-349e-4db6-f84b-02ec1c46e0a1"
   },
   "outputs": [
    {
     "name": "stdout",
     "output_type": "stream",
     "text": [
      "First Original Text in English:\n",
      "I'll try my luck.\n",
      "First Original Text in German:\n",
      "<start> ich werde mein glueck versuchen . <end>\n",
      "First Tokenized Text in German:\n",
      "[  1   4  39  50 330 175   3   2   0   0   0   0   0   0]\n",
      "---\n",
      "Second Original Text in English:\n",
      "Let's eat out.\n",
      "Second Original Text in German:\n",
      "<start> lass uns essen gehen ! <end>\n",
      "Second Tokenized Text in German:\n",
      "[  1  64  31 154  45   9   2   0   0   0   0   0   0   0]\n",
      "---\n",
      "Third Original Text in English:\n",
      "A fox came along.\n",
      "Third Original Text in German:\n",
      "<start> ein fuchs kam des wegs . <end>\n",
      "Third Tokenized Text in German:\n",
      "[   1   19 1918  136 4694 4695    3    2    0    0    0    0    0    0]\n",
      "---\n",
      "Fourth Original Text in English:\n",
      "Tom has finished.\n",
      "Fourth Original Text in German:\n",
      "<start> tom hat fertiggemacht . <end>\n",
      "Fourth Tokenized Text in German:\n",
      "[   1    5   16 5169    3    2    0    0    0    0    0    0    0    0]\n",
      "---\n",
      "Fifth Original Text in English:\n",
      "Who removed it?\n",
      "Fifth Original Text in German:\n",
      "<start> wer hat sie beseitigt ? <end>\n",
      "Fifth Tokenized Text in German:\n",
      "[   1   43   16    8 1690    7    2    0    0    0    0    0    0    0]\n",
      "---\n"
     ]
    }
   ],
   "source": []
  },
  {
   "cell_type": "code",
   "execution_count": 15,
   "metadata": {
    "id": "ODo_ypZoon2W"
   },
   "outputs": [],
   "source": []
  },
  {
   "cell_type": "code",
   "execution_count": 15,
   "metadata": {
    "id": "yJYfNHQIon2X"
   },
   "outputs": [],
   "source": []
  },
  {
   "cell_type": "markdown",
   "metadata": {
    "id": "foL7Ihs21iaP"
   },
   "source": [
    "## 2. Prepare the data"
   ]
  },
  {
   "cell_type": "markdown",
   "metadata": {
    "id": "-9rCEE4z1iaQ"
   },
   "source": [
    "#### Load the embedding layer\n",
    "As part of the dataset preproceessing for this project, you will use a pre-trained English word embedding module from TensorFlow Hub. The URL for the module is https://tfhub.dev/google/tf2-preview/nnlm-en-dim128-with-normalization/1.\n",
    "\n",
    "This embedding takes a batch of text tokens in a 1-D tensor of strings as input. It then embeds the separate tokens into a 128-dimensional space. \n",
    "\n",
    "The code to load and test the embedding layer is provided for you below.\n",
    "\n",
    "**NB:** this model can also be used as a sentence embedding module. The module will process each token by removing punctuation and splitting on spaces. It then averages the word embeddings over a sentence to give a single embedding vector. However, we will use it only as a word embedding module, and will pass each word in the input sentence as a separate token."
   ]
  },
  {
   "cell_type": "code",
   "execution_count": 16,
   "metadata": {
    "id": "ywZgobCh1iaR"
   },
   "outputs": [],
   "source": [
    "# Load embedding module from Tensorflow Hub\n",
    "\n",
    "embedding_layer = hub.KerasLayer(\"https://tfhub.dev/google/tf2-preview/nnlm-en-dim128/1\", \n",
    "                                 output_shape=[128], input_shape=[], dtype=tf.string)"
   ]
  },
  {
   "cell_type": "code",
   "execution_count": 17,
   "metadata": {
    "colab": {
     "base_uri": "https://localhost:8080/"
    },
    "id": "TiY8QEDp1iaV",
    "outputId": "f9100fbf-4a80-43aa-e1f6-f65e1f810b79"
   },
   "outputs": [
    {
     "data": {
      "text/plain": [
       "TensorShape([7, 128])"
      ]
     },
     "execution_count": 17,
     "metadata": {
      "tags": []
     },
     "output_type": "execute_result"
    }
   ],
   "source": [
    "# Test the layer\n",
    "\n",
    "embedding_layer(tf.constant([\"these\", \"aren't\", \"the\", \"droids\", \"you're\", \"looking\", \"for\"])).shape"
   ]
  },
  {
   "cell_type": "markdown",
   "metadata": {
    "id": "KjuzXc-z1iaY"
   },
   "source": [
    "You should now prepare the training and validation Datasets.\n",
    "\n",
    "* Create a random training and validation set split of the data, reserving e.g. 20% of the data for validation (NB: each English dataset example is a single sentence string, and each German dataset example is a sequence of padded integer tokens).\n",
    "* Load the training and validation sets into a tf.data.Dataset object, passing in a tuple of English and German data for both training and validation sets.\n",
    "* Create a function to map over the datasets that splits each English sentence at spaces. Apply this function to both Dataset objects using the map method. _Hint: look at the tf.strings.split function._\n",
    "* Create a function to map over the datasets that embeds each sequence of English words using the loaded embedding layer/model. Apply this function to both Dataset objects using the map method.\n",
    "* Create a function to filter out dataset examples where the English sentence is greater than or equal to than 13 (embedded) tokens in length. Apply this function to both Dataset objects using the filter method.\n",
    "* Create a function to map over the datasets that pads each English sequence of embeddings with some distinct padding value before the sequence, so that each sequence is length 13. Apply this function to both Dataset objects using the map method. _Hint: look at the tf.pad function. You can extract a Tensor shape using tf.shape; you might also find the tf.math.maximum function useful._\n",
    "* Batch both training and validation Datasets with a batch size of 16.\n",
    "* Print the `element_spec` property for the training and validation Datasets. \n",
    "* Using the Dataset `.take(1)` method, print the shape of the English data example from the training Dataset.\n",
    "* Using the Dataset `.take(1)` method, print the German data example Tensor from the validation Dataset."
   ]
  },
  {
   "cell_type": "code",
   "execution_count": 18,
   "metadata": {
    "id": "8rjTrx8Ion2Z"
   },
   "outputs": [],
   "source": []
  },
  {
   "cell_type": "code",
   "execution_count": 19,
   "metadata": {
    "id": "Q-BUJOl_1iaZ"
   },
   "outputs": [],
   "source": []
  },
  {
   "cell_type": "code",
   "execution_count": 20,
   "metadata": {
    "id": "s9S24jxLon2a"
   },
   "outputs": [],
   "source": []
  },
  {
   "cell_type": "code",
   "execution_count": 21,
   "metadata": {
    "id": "cX64JRLOon2a"
   },
   "outputs": [],
   "source": []
  },
  {
   "cell_type": "code",
   "execution_count": 22,
   "metadata": {
    "id": "D7bn3mRs1iaj"
   },
   "outputs": [],
   "source": []
  },
  {
   "cell_type": "code",
   "execution_count": 23,
   "metadata": {
    "id": "bGqlxuqZ1ias"
   },
   "outputs": [],
   "source": []
  },
  {
   "cell_type": "code",
   "execution_count": 24,
   "metadata": {
    "colab": {
     "base_uri": "https://localhost:8080/"
    },
    "id": "Rj9vGq6Gon2b",
    "outputId": "baa5e697-599a-4103-bb01-2746a9d86cd0"
   },
   "outputs": [
    {
     "name": "stdout",
     "output_type": "stream",
     "text": [
      "q is:  tf.Tensor(\n",
      "[[ 0.00846954  0.04778087  0.08183845  0.11078566 -0.0861048   0.11367365\n",
      "  -0.02025111 -0.143096    0.06023908 -0.01356189 -0.14849108 -0.10791568\n",
      "  -0.087011   -0.0614049   0.08958023  0.00489988  0.01911836  0.18331955\n",
      "   0.14271708 -0.01833947 -0.08287797  0.10263188  0.01398491  0.05170037\n",
      "  -0.02464176 -0.06613838  0.00865399 -0.14015687  0.02015086  0.12298824\n",
      "   0.08076285  0.03759417  0.06820539 -0.0962083  -0.12826303  0.16442873\n",
      "  -0.02122547 -0.0913856   0.01613112  0.0681673   0.13701826 -0.11883317\n",
      "   0.04500614 -0.16612585  0.03911886  0.11207678 -0.04738089  0.02524722\n",
      "  -0.02637997 -0.08832619  0.09574017  0.0777335   0.02870862  0.03034759\n",
      "  -0.08074179  0.09121118 -0.09985815 -0.09858707  0.1353843  -0.05283212\n",
      "  -0.13687892  0.17592862 -0.06151918  0.04835426 -0.00267449  0.06337869\n",
      "   0.03727739  0.03996291  0.06690925 -0.03095005 -0.23086384  0.05499636\n",
      "  -0.13985313  0.04097537 -0.14006065  0.02731724  0.16741998  0.1720011\n",
      "  -0.07859258 -0.02069218 -0.00653384  0.03919905  0.13817908 -0.02712778\n",
      "  -0.13133448  0.10626569 -0.13246723  0.10566824  0.11266922 -0.05728491\n",
      "  -0.05649901  0.19654159  0.04813473 -0.10735834  0.01672355  0.02709069\n",
      "  -0.02689422  0.07057414  0.01633762  0.08836227  0.08220434  0.0813613\n",
      "   0.04881136 -0.07466505  0.03156956 -0.04290504  0.02218981 -0.06915269\n",
      "  -0.06520411  0.02479513 -0.09262862 -0.04706012 -0.00151868 -0.06912062\n",
      "  -0.12464626  0.0078761  -0.0664772  -0.11175299 -0.07438037 -0.09418339\n",
      "  -0.02694234 -0.02661354 -0.01663233  0.09150188  0.07437034  0.10079341\n",
      "   0.08740094 -0.00613588]\n",
      " [-0.16125254 -0.05912558 -0.11459969 -0.0606147  -0.08715276 -0.05764262\n",
      "  -0.04278737 -0.1372356   0.05529422 -0.01036867  0.14598176  0.10800556\n",
      "   0.00809412 -0.05789538 -0.02200932 -0.12168036 -0.08971703  0.08071374\n",
      "   0.21548477 -0.0728052  -0.22848973  0.03339595  0.0905113  -0.02523865\n",
      "   0.18454918 -0.1258813  -0.08412739  0.00395056  0.10170676 -0.11257236\n",
      "   0.06022742 -0.02062068  0.06007324  0.06700189 -0.02057897  0.04570929\n",
      "   0.09495459  0.05835662 -0.09775069 -0.08711299 -0.08716843  0.01803184\n",
      "  -0.05385506  0.06744568  0.00564718  0.115747   -0.00371368 -0.09446648\n",
      "   0.02683106 -0.0451204  -0.25924963 -0.16974933  0.12833053  0.07818649\n",
      "  -0.08648527  0.09372777 -0.04485545 -0.08457609  0.06027728  0.06682699\n",
      "  -0.00028705  0.05427545  0.063568   -0.00947971 -0.24860197 -0.12084613\n",
      "  -0.16751084  0.03326392  0.06477436 -0.08806594  0.09552788  0.00180328\n",
      "   0.12413523  0.05678404  0.1151225  -0.08368266  0.10522649  0.07159593\n",
      "  -0.06031679 -0.03802159  0.08428702  0.08239202 -0.11412354 -0.04448068\n",
      "  -0.12771632  0.04200014  0.00716009 -0.03999326 -0.02152509 -0.05921059\n",
      "   0.08923273  0.06871734 -0.0044711   0.15421039 -0.21496968  0.02613829\n",
      "  -0.03957969 -0.05753855  0.0081874  -0.05704413  0.01228257  0.06265527\n",
      "   0.10888545  0.01758416 -0.0790691  -0.05427188 -0.18653232 -0.07961517\n",
      "   0.08670582 -0.13002656 -0.15282692  0.00687833  0.00244871 -0.05588366\n",
      "  -0.11534397  0.00767459 -0.02202845 -0.0605057   0.08851785 -0.02076527\n",
      "  -0.08936218 -0.17660116  0.09094916 -0.06021113 -0.10137576  0.06342507\n",
      "  -0.00559269 -0.01313338]], shape=(2, 128), dtype=float32)\n",
      "q.shape is:  (2, 128)\n",
      "tf.Tensor(\n",
      "[[11  0]\n",
      " [ 0  0]], shape=(2, 2), dtype=int32)\n",
      "q_padded is:  tf.Tensor(\n",
      "[[ 0.          0.          0.         ...  0.          0.\n",
      "   0.        ]\n",
      " [ 0.          0.          0.         ...  0.          0.\n",
      "   0.        ]\n",
      " [ 0.          0.          0.         ...  0.          0.\n",
      "   0.        ]\n",
      " ...\n",
      " [ 0.          0.          0.         ...  0.          0.\n",
      "   0.        ]\n",
      " [ 0.00846954  0.04778087  0.08183845 ...  0.10079341  0.08740094\n",
      "  -0.00613588]\n",
      " [-0.16125254 -0.05912558 -0.11459969 ...  0.06342507 -0.00559269\n",
      "  -0.01313338]], shape=(13, 128), dtype=float32)\n"
     ]
    }
   ],
   "source": []
  },
  {
   "cell_type": "code",
   "execution_count": 25,
   "metadata": {
    "id": "kR8TKYS4on2c"
   },
   "outputs": [],
   "source": []
  },
  {
   "cell_type": "code",
   "execution_count": 26,
   "metadata": {
    "id": "GBtS07leon2c"
   },
   "outputs": [],
   "source": []
  },
  {
   "cell_type": "code",
   "execution_count": 27,
   "metadata": {
    "colab": {
     "base_uri": "https://localhost:8080/"
    },
    "id": "lY4OEAqqon2c",
    "outputId": "44503d13-8781-48a4-9cc7-2e9c3f81ad80"
   },
   "outputs": [
    {
     "name": "stdout",
     "output_type": "stream",
     "text": [
      "(TensorSpec(shape=(None, None, None), dtype=tf.float32, name=None), TensorSpec(shape=(None, 14), dtype=tf.int32, name=None))\n",
      "(TensorSpec(shape=(None, None, None), dtype=tf.float32, name=None), TensorSpec(shape=(None, 14), dtype=tf.int32, name=None))\n"
     ]
    }
   ],
   "source": []
  },
  {
   "cell_type": "code",
   "execution_count": 28,
   "metadata": {
    "colab": {
     "base_uri": "https://localhost:8080/"
    },
    "id": "SHvZhsOton2d",
    "outputId": "c6ad5657-5b8e-4b97-fb61-71ed9d40e16b"
   },
   "outputs": [
    {
     "name": "stdout",
     "output_type": "stream",
     "text": [
      "English data example tensor shape in training set:\n",
      "(16, 13, 128)\n",
      "German data exmaple tensor in validation set:\n",
      "tf.Tensor(\n",
      "[[   1  141    6    5    3    2    0    0    0    0    0    0    0    0]\n",
      " [   1  136  366    7    2    0    0    0    0    0    0    0    0    0]\n",
      " [   1    4  177  372  661    3    2    0    0    0    0    0    0    0]\n",
      " [   1    5   24 1907    3    2    0    0    0    0    0    0    0    0]\n",
      " [   1    4  308  176 4834   29    3    2    0    0    0    0    0    0]\n",
      " [   1   10    6   20   75    3    2    0    0    0    0    0    0    0]\n",
      " [   1   13   32   19 2929    3    2    0    0    0    0    0    0    0]\n",
      " [   1   32   13 1206    7    2    0    0    0    0    0    0    0    0]\n",
      " [   1   32   13  192   72  363    7    2    0    0    0    0    0    0]\n",
      " [   1    5  737    3    2    0    0    0    0    0    0    0    0    0]\n",
      " [   1  809   23 1565    3    2    0    0    0    0    0    0    0    0]\n",
      " [   1   11   23 1725    3    2    0    0    0    0    0    0    0    0]\n",
      " [   1    5 1808    3    2    0    0    0    0    0    0    0    0    0]\n",
      " [   1    5 2094    3    2    0    0    0    0    0    0    0    0    0]\n",
      " [   1    5  802 1977    3    2    0    0    0    0    0    0    0    0]\n",
      " [   1    5  136  727    3    2    0    0    0    0    0    0    0    0]], shape=(16, 14), dtype=int32)\n"
     ]
    }
   ],
   "source": []
  },
  {
   "cell_type": "markdown",
   "metadata": {
    "id": "isIYhjq01iay"
   },
   "source": [
    "## 3. Create the custom layer\n",
    "You will now create a custom layer to add the learned end token embedding to the encoder model:"
   ]
  },
  {
   "cell_type": "code",
   "execution_count": 29,
   "metadata": {
    "colab": {
     "base_uri": "https://localhost:8080/",
     "height": 423
    },
    "id": "e22f1Xyh6xvE",
    "outputId": "23883bf8-5d46-41a8-dbae-c44c99dd4825"
   },
   "outputs": [
    {
     "data": {
      "image/png": "[encoded data removed]",
      "text/plain": [
       "<IPython.core.display.Image object>"
      ]
     },
     "execution_count": 29,
     "metadata": {
      "tags": []
     },
     "output_type": "execute_result"
    }
   ],
   "source": [
    "# Run this cell to download and view a schematic diagram for the encoder model\n",
    "\n",
    "!wget -q -O neural_translation_model.png --no-check-certificate \"https://docs.google.com/uc?export=download&id=1JrtNOzUJDaOWrK4C-xv-4wUuZaI12sQI\"\n",
    "Image(\"neural_translation_model.png\")"
   ]
  },
  {
   "cell_type": "markdown",
   "metadata": {
    "id": "M6gLIHG81iaz"
   },
   "source": [
    "You should now build the custom layer.\n",
    "* Using layer subclassing, create a custom layer that takes a batch of English data examples from one of the Datasets, and adds a learned embedded ‘end’ token to the end of each sequence. \n",
    "* This layer should create a TensorFlow Variable (that will be learned during training) that is 128-dimensional (the size of the embedding space). _Hint: you may find it helpful in the call method to use the tf.tile function to replicate the end token embedding across every element in the batch._\n",
    "* Using the Dataset `.take(1)` method, extract a batch of English data examples from the training Dataset and print the shape. Test the custom layer by calling the layer on the English data batch Tensor and print the resulting Tensor shape (the layer should increase the sequence length by one)."
   ]
  },
  {
   "cell_type": "markdown",
   "metadata": {
    "id": "ziJyZ7-hon2e"
   },
   "source": [
    "### Explanation from Coursera Discussion Forum\n",
    "https://www.coursera.org/learn/customising-models-tensorflow2/discussions/weeks/5/threads/HPd6O2fsQbK3ejtn7CGyTg/replies/1YgpMxxcR4yIKTMcXMeMdg\n",
    "\n",
    "Firstly, I would like to ensure that you understand how it works. In order to increase the sequence length, you need to increment the appropriate dimension. It can be done using a 'concatenate' function. However, it requires other dimensions to be the same. So the idea is the following: you take your Variable with a shape (embedding_dim,), reshape it to match a dataset sample shape. Also you should take into account the batch size of input data. Therefore you can use a function tf.tile to repeat the reshaped Variable n times (where n is the size of a batch).\n",
    "\n",
    "Thus, the algorithm is the following:\n",
    "\n",
    "* init tf.Variable\n",
    "* reshape a Variable to match the shape of a sample\n",
    "* apply tf.tile to repeat this Variable for all samples in a batch\n",
    "* apply 'concatenate' to combine inputs with an output result"
   ]
  },
  {
   "cell_type": "code",
   "execution_count": 30,
   "metadata": {
    "id": "yg9hjZz11ia0"
   },
   "outputs": [],
   "source": []
  },
  {
   "cell_type": "code",
   "execution_count": 31,
   "metadata": {
    "colab": {
     "base_uri": "https://localhost:8080/"
    },
    "id": "4PwI32O11ia3",
    "outputId": "ba57a64e-c592-4c61-c131-64f4fa656b1f"
   },
   "outputs": [
    {
     "name": "stdout",
     "output_type": "stream",
     "text": [
      "English data example's shape is: \n",
      " (16, 13, 128)\n",
      "Shape of English data example after layering: \n",
      " (16, 14, 128)\n"
     ]
    }
   ],
   "source": []
  },
  {
   "cell_type": "code",
   "execution_count": 32,
   "metadata": {
    "colab": {
     "base_uri": "https://localhost:8080/"
    },
    "id": "ebjK8PmL1ia6",
    "outputId": "ea4812de-fabb-420f-fba5-923dbd79dd42"
   },
   "outputs": [
    {
     "name": "stdout",
     "output_type": "stream",
     "text": [
      "tf.Tensor(\n",
      "[[[ 0.00000000e+00  0.00000000e+00  0.00000000e+00 ...  0.00000000e+00\n",
      "    0.00000000e+00  0.00000000e+00]\n",
      "  [ 0.00000000e+00  0.00000000e+00  0.00000000e+00 ...  0.00000000e+00\n",
      "    0.00000000e+00  0.00000000e+00]\n",
      "  [ 0.00000000e+00  0.00000000e+00  0.00000000e+00 ...  0.00000000e+00\n",
      "    0.00000000e+00  0.00000000e+00]\n",
      "  ...\n",
      "  [ 0.00000000e+00  0.00000000e+00  0.00000000e+00 ...  0.00000000e+00\n",
      "    0.00000000e+00  0.00000000e+00]\n",
      "  [ 8.46953876e-03  4.77808677e-02  8.18384513e-02 ...  1.00793414e-01\n",
      "    8.74009356e-02 -6.13587908e-03]\n",
      "  [-1.61252543e-01 -5.91255836e-02 -1.14599690e-01 ...  6.34250715e-02\n",
      "   -5.59268892e-03 -1.31333759e-02]]\n",
      "\n",
      " [[ 0.00000000e+00  0.00000000e+00  0.00000000e+00 ...  0.00000000e+00\n",
      "    0.00000000e+00  0.00000000e+00]\n",
      "  [ 0.00000000e+00  0.00000000e+00  0.00000000e+00 ...  0.00000000e+00\n",
      "    0.00000000e+00  0.00000000e+00]\n",
      "  [ 0.00000000e+00  0.00000000e+00  0.00000000e+00 ...  0.00000000e+00\n",
      "    0.00000000e+00  0.00000000e+00]\n",
      "  ...\n",
      "  [ 1.45776331e-01 -6.30659238e-02  4.11211699e-02 ...  1.48008605e-02\n",
      "   -3.59915271e-02 -1.86223406e-02]\n",
      "  [ 3.65526304e-02 -2.14944157e-04  6.63912892e-02 ...  6.25333190e-02\n",
      "    1.63310155e-01  4.26493287e-02]\n",
      "  [-2.38468945e-01 -9.94149819e-02  7.77389556e-02 ...  7.69628212e-02\n",
      "    1.57342419e-01  4.67385463e-02]]\n",
      "\n",
      " [[ 0.00000000e+00  0.00000000e+00  0.00000000e+00 ...  0.00000000e+00\n",
      "    0.00000000e+00  0.00000000e+00]\n",
      "  [ 0.00000000e+00  0.00000000e+00  0.00000000e+00 ...  0.00000000e+00\n",
      "    0.00000000e+00  0.00000000e+00]\n",
      "  [ 0.00000000e+00  0.00000000e+00  0.00000000e+00 ...  0.00000000e+00\n",
      "    0.00000000e+00  0.00000000e+00]\n",
      "  ...\n",
      "  [ 8.47553611e-02 -1.75496992e-02  1.04509413e-01 ... -8.55245069e-02\n",
      "    3.54136042e-02  2.46749688e-02]\n",
      "  [ 2.90216237e-01  1.18773542e-01 -4.90125455e-02 ... -2.58725733e-01\n",
      "   -2.24438999e-02  3.19550373e-02]\n",
      "  [-3.43900979e-01 -3.03766672e-02 -5.60660055e-03 ...  1.54309452e-01\n",
      "    3.95105332e-02  7.87890032e-02]]\n",
      "\n",
      " ...\n",
      "\n",
      " [[ 0.00000000e+00  0.00000000e+00  0.00000000e+00 ...  0.00000000e+00\n",
      "    0.00000000e+00  0.00000000e+00]\n",
      "  [ 0.00000000e+00  0.00000000e+00  0.00000000e+00 ...  0.00000000e+00\n",
      "    0.00000000e+00  0.00000000e+00]\n",
      "  [ 0.00000000e+00  0.00000000e+00  0.00000000e+00 ...  0.00000000e+00\n",
      "    0.00000000e+00  0.00000000e+00]\n",
      "  ...\n",
      "  [ 1.46269009e-01  6.27990067e-02  2.24550031e-02 ...  1.32854015e-01\n",
      "    3.01630031e-02 -3.37100052e-03]\n",
      "  [ 4.28055488e-02 -4.17423770e-02 -1.12104401e-01 ...  7.12674707e-02\n",
      "    5.80617860e-02  4.43316810e-02]\n",
      "  [-2.90020972e-01 -7.21547082e-02 -1.16538726e-01 ...  1.02514058e-01\n",
      "   -1.46226389e-02 -3.08779674e-03]]\n",
      "\n",
      " [[ 0.00000000e+00  0.00000000e+00  0.00000000e+00 ...  0.00000000e+00\n",
      "    0.00000000e+00  0.00000000e+00]\n",
      "  [ 0.00000000e+00  0.00000000e+00  0.00000000e+00 ...  0.00000000e+00\n",
      "    0.00000000e+00  0.00000000e+00]\n",
      "  [ 0.00000000e+00  0.00000000e+00  0.00000000e+00 ...  0.00000000e+00\n",
      "    0.00000000e+00  0.00000000e+00]\n",
      "  ...\n",
      "  [ 1.78386681e-02 -4.55145687e-02  1.82200298e-01 ...  2.03420315e-02\n",
      "   -4.84761037e-02  7.15236366e-02]\n",
      "  [ 1.58877090e-01  5.60149923e-02 -2.42406979e-01 ...  1.07283719e-01\n",
      "   -5.44066802e-02 -4.75051664e-02]\n",
      "  [-1.15049221e-01 -5.12139387e-02 -9.83267576e-02 ...  1.62757710e-02\n",
      "   -3.15903351e-02  1.52299762e-01]]\n",
      "\n",
      " [[ 0.00000000e+00  0.00000000e+00  0.00000000e+00 ...  0.00000000e+00\n",
      "    0.00000000e+00  0.00000000e+00]\n",
      "  [ 0.00000000e+00  0.00000000e+00  0.00000000e+00 ...  0.00000000e+00\n",
      "    0.00000000e+00  0.00000000e+00]\n",
      "  [ 0.00000000e+00  0.00000000e+00  0.00000000e+00 ...  0.00000000e+00\n",
      "    0.00000000e+00  0.00000000e+00]\n",
      "  ...\n",
      "  [ 0.00000000e+00  0.00000000e+00  0.00000000e+00 ...  0.00000000e+00\n",
      "    0.00000000e+00  0.00000000e+00]\n",
      "  [-3.07747666e-02  1.77950691e-03  5.50856907e-03 ...  9.68986079e-02\n",
      "   -7.70059377e-02 -1.42806679e-01]\n",
      "  [-1.25575840e-01  9.04746428e-02 -7.65643343e-02 ... -7.23123401e-02\n",
      "    2.00576819e-02  3.41833904e-02]]], shape=(16, 13, 128), dtype=float32)\n",
      "tf.Tensor(\n",
      "[[[ 0.00000000e+00  0.00000000e+00  0.00000000e+00 ...  0.00000000e+00\n",
      "    0.00000000e+00  0.00000000e+00]\n",
      "  [ 0.00000000e+00  0.00000000e+00  0.00000000e+00 ...  0.00000000e+00\n",
      "    0.00000000e+00  0.00000000e+00]\n",
      "  [ 0.00000000e+00  0.00000000e+00  0.00000000e+00 ...  0.00000000e+00\n",
      "    0.00000000e+00  0.00000000e+00]\n",
      "  ...\n",
      "  [ 8.46953876e-03  4.77808677e-02  8.18384513e-02 ...  1.00793414e-01\n",
      "    8.74009356e-02 -6.13587908e-03]\n",
      "  [-1.61252543e-01 -5.91255836e-02 -1.14599690e-01 ...  6.34250715e-02\n",
      "   -5.59268892e-03 -1.31333759e-02]\n",
      "  [ 6.02741539e-01 -4.17899460e-01 -2.91266203e-01 ...  6.09005913e-02\n",
      "   -4.27472353e-01 -9.87644851e-01]]\n",
      "\n",
      " [[ 0.00000000e+00  0.00000000e+00  0.00000000e+00 ...  0.00000000e+00\n",
      "    0.00000000e+00  0.00000000e+00]\n",
      "  [ 0.00000000e+00  0.00000000e+00  0.00000000e+00 ...  0.00000000e+00\n",
      "    0.00000000e+00  0.00000000e+00]\n",
      "  [ 0.00000000e+00  0.00000000e+00  0.00000000e+00 ...  0.00000000e+00\n",
      "    0.00000000e+00  0.00000000e+00]\n",
      "  ...\n",
      "  [ 3.65526304e-02 -2.14944157e-04  6.63912892e-02 ...  6.25333190e-02\n",
      "    1.63310155e-01  4.26493287e-02]\n",
      "  [-2.38468945e-01 -9.94149819e-02  7.77389556e-02 ...  7.69628212e-02\n",
      "    1.57342419e-01  4.67385463e-02]\n",
      "  [ 6.02741539e-01 -4.17899460e-01 -2.91266203e-01 ...  6.09005913e-02\n",
      "   -4.27472353e-01 -9.87644851e-01]]\n",
      "\n",
      " [[ 0.00000000e+00  0.00000000e+00  0.00000000e+00 ...  0.00000000e+00\n",
      "    0.00000000e+00  0.00000000e+00]\n",
      "  [ 0.00000000e+00  0.00000000e+00  0.00000000e+00 ...  0.00000000e+00\n",
      "    0.00000000e+00  0.00000000e+00]\n",
      "  [ 0.00000000e+00  0.00000000e+00  0.00000000e+00 ...  0.00000000e+00\n",
      "    0.00000000e+00  0.00000000e+00]\n",
      "  ...\n",
      "  [ 2.90216237e-01  1.18773542e-01 -4.90125455e-02 ... -2.58725733e-01\n",
      "   -2.24438999e-02  3.19550373e-02]\n",
      "  [-3.43900979e-01 -3.03766672e-02 -5.60660055e-03 ...  1.54309452e-01\n",
      "    3.95105332e-02  7.87890032e-02]\n",
      "  [ 6.02741539e-01 -4.17899460e-01 -2.91266203e-01 ...  6.09005913e-02\n",
      "   -4.27472353e-01 -9.87644851e-01]]\n",
      "\n",
      " ...\n",
      "\n",
      " [[ 0.00000000e+00  0.00000000e+00  0.00000000e+00 ...  0.00000000e+00\n",
      "    0.00000000e+00  0.00000000e+00]\n",
      "  [ 0.00000000e+00  0.00000000e+00  0.00000000e+00 ...  0.00000000e+00\n",
      "    0.00000000e+00  0.00000000e+00]\n",
      "  [ 0.00000000e+00  0.00000000e+00  0.00000000e+00 ...  0.00000000e+00\n",
      "    0.00000000e+00  0.00000000e+00]\n",
      "  ...\n",
      "  [ 4.28055488e-02 -4.17423770e-02 -1.12104401e-01 ...  7.12674707e-02\n",
      "    5.80617860e-02  4.43316810e-02]\n",
      "  [-2.90020972e-01 -7.21547082e-02 -1.16538726e-01 ...  1.02514058e-01\n",
      "   -1.46226389e-02 -3.08779674e-03]\n",
      "  [ 6.02741539e-01 -4.17899460e-01 -2.91266203e-01 ...  6.09005913e-02\n",
      "   -4.27472353e-01 -9.87644851e-01]]\n",
      "\n",
      " [[ 0.00000000e+00  0.00000000e+00  0.00000000e+00 ...  0.00000000e+00\n",
      "    0.00000000e+00  0.00000000e+00]\n",
      "  [ 0.00000000e+00  0.00000000e+00  0.00000000e+00 ...  0.00000000e+00\n",
      "    0.00000000e+00  0.00000000e+00]\n",
      "  [ 0.00000000e+00  0.00000000e+00  0.00000000e+00 ...  0.00000000e+00\n",
      "    0.00000000e+00  0.00000000e+00]\n",
      "  ...\n",
      "  [ 1.58877090e-01  5.60149923e-02 -2.42406979e-01 ...  1.07283719e-01\n",
      "   -5.44066802e-02 -4.75051664e-02]\n",
      "  [-1.15049221e-01 -5.12139387e-02 -9.83267576e-02 ...  1.62757710e-02\n",
      "   -3.15903351e-02  1.52299762e-01]\n",
      "  [ 6.02741539e-01 -4.17899460e-01 -2.91266203e-01 ...  6.09005913e-02\n",
      "   -4.27472353e-01 -9.87644851e-01]]\n",
      "\n",
      " [[ 0.00000000e+00  0.00000000e+00  0.00000000e+00 ...  0.00000000e+00\n",
      "    0.00000000e+00  0.00000000e+00]\n",
      "  [ 0.00000000e+00  0.00000000e+00  0.00000000e+00 ...  0.00000000e+00\n",
      "    0.00000000e+00  0.00000000e+00]\n",
      "  [ 0.00000000e+00  0.00000000e+00  0.00000000e+00 ...  0.00000000e+00\n",
      "    0.00000000e+00  0.00000000e+00]\n",
      "  ...\n",
      "  [-3.07747666e-02  1.77950691e-03  5.50856907e-03 ...  9.68986079e-02\n",
      "   -7.70059377e-02 -1.42806679e-01]\n",
      "  [-1.25575840e-01  9.04746428e-02 -7.65643343e-02 ... -7.23123401e-02\n",
      "    2.00576819e-02  3.41833904e-02]\n",
      "  [ 6.02741539e-01 -4.17899460e-01 -2.91266203e-01 ...  6.09005913e-02\n",
      "   -4.27472353e-01 -9.87644851e-01]]], shape=(16, 14, 128), dtype=float32)\n"
     ]
    }
   ],
   "source": []
  },
  {
   "cell_type": "markdown",
   "metadata": {
    "id": "OAd3i4_y1ia-"
   },
   "source": [
    "## 4. Build the encoder network\n",
    "The encoder network follows the schematic diagram above. You should now build the RNN encoder model.\n",
    "* Using the functional API, build the encoder network according to the following spec:\n",
    "    * The model will take a batch of sequences of embedded English words as input, as given by the Dataset objects.\n",
    "    * The next layer in the encoder will be the custom layer you created previously, to add a learned end token embedding to the end of the English sequence.\n",
    "    * This is followed by a Masking layer, with the `mask_value` set to the distinct padding value you used when you padded the English sequences with the Dataset preprocessing above.\n",
    "    * The final layer is an LSTM layer with 512 units, which also returns the hidden and cell states.\n",
    "    * The encoder is a multi-output model. There should be two output Tensors of this model: the hidden state and cell states of the LSTM layer. The output of the LSTM layer is unused.\n",
    "* Using the Dataset `.take(1)` method, extract a batch of English data examples from the training Dataset and test the encoder model by calling it on the English data Tensor, and print the shape of the resulting Tensor outputs.\n",
    "* Print the model summary for the encoder network."
   ]
  },
  {
   "cell_type": "code",
   "execution_count": 33,
   "metadata": {
    "id": "fsKspMb0on2g"
   },
   "outputs": [],
   "source": []
  },
  {
   "cell_type": "code",
   "execution_count": 34,
   "metadata": {
    "colab": {
     "base_uri": "https://localhost:8080/"
    },
    "id": "FTDxkbbUon2g",
    "outputId": "86caf7e2-e166-47c0-f434-59b3d00944e0"
   },
   "outputs": [
    {
     "data": {
      "text/plain": [
       "<TakeDataset shapes: ((None, None, None), (None, 14)), types: (tf.float32, tf.int32)>"
      ]
     },
     "execution_count": 34,
     "metadata": {
      "tags": []
     },
     "output_type": "execute_result"
    }
   ],
   "source": []
  },
  {
   "cell_type": "code",
   "execution_count": 35,
   "metadata": {
    "id": "6R2LqbfV1ia_"
   },
   "outputs": [],
   "source": []
  },
  {
   "cell_type": "code",
   "execution_count": 36,
   "metadata": {
    "id": "bzqaQzplon2h"
   },
   "outputs": [],
   "source": []
  },
  {
   "cell_type": "code",
   "execution_count": 37,
   "metadata": {
    "colab": {
     "base_uri": "https://localhost:8080/"
    },
    "id": "IAwE3XCIon2h",
    "outputId": "c0d5cc27-c1d9-4d49-da92-e6a16a763a98"
   },
   "outputs": [
    {
     "name": "stdout",
     "output_type": "stream",
     "text": [
      "Before passing x into the model, x is: \n",
      " tf.Tensor(\n",
      "[[[ 0.00000000e+00  0.00000000e+00  0.00000000e+00 ...  0.00000000e+00\n",
      "    0.00000000e+00  0.00000000e+00]\n",
      "  [ 0.00000000e+00  0.00000000e+00  0.00000000e+00 ...  0.00000000e+00\n",
      "    0.00000000e+00  0.00000000e+00]\n",
      "  [ 0.00000000e+00  0.00000000e+00  0.00000000e+00 ...  0.00000000e+00\n",
      "    0.00000000e+00  0.00000000e+00]\n",
      "  ...\n",
      "  [ 0.00000000e+00  0.00000000e+00  0.00000000e+00 ...  0.00000000e+00\n",
      "    0.00000000e+00  0.00000000e+00]\n",
      "  [ 8.46953876e-03  4.77808677e-02  8.18384513e-02 ...  1.00793414e-01\n",
      "    8.74009356e-02 -6.13587908e-03]\n",
      "  [-1.61252543e-01 -5.91255836e-02 -1.14599690e-01 ...  6.34250715e-02\n",
      "   -5.59268892e-03 -1.31333759e-02]]\n",
      "\n",
      " [[ 0.00000000e+00  0.00000000e+00  0.00000000e+00 ...  0.00000000e+00\n",
      "    0.00000000e+00  0.00000000e+00]\n",
      "  [ 0.00000000e+00  0.00000000e+00  0.00000000e+00 ...  0.00000000e+00\n",
      "    0.00000000e+00  0.00000000e+00]\n",
      "  [ 0.00000000e+00  0.00000000e+00  0.00000000e+00 ...  0.00000000e+00\n",
      "    0.00000000e+00  0.00000000e+00]\n",
      "  ...\n",
      "  [ 1.45776331e-01 -6.30659238e-02  4.11211699e-02 ...  1.48008605e-02\n",
      "   -3.59915271e-02 -1.86223406e-02]\n",
      "  [ 3.65526304e-02 -2.14944157e-04  6.63912892e-02 ...  6.25333190e-02\n",
      "    1.63310155e-01  4.26493287e-02]\n",
      "  [-2.38468945e-01 -9.94149819e-02  7.77389556e-02 ...  7.69628212e-02\n",
      "    1.57342419e-01  4.67385463e-02]]\n",
      "\n",
      " [[ 0.00000000e+00  0.00000000e+00  0.00000000e+00 ...  0.00000000e+00\n",
      "    0.00000000e+00  0.00000000e+00]\n",
      "  [ 0.00000000e+00  0.00000000e+00  0.00000000e+00 ...  0.00000000e+00\n",
      "    0.00000000e+00  0.00000000e+00]\n",
      "  [ 0.00000000e+00  0.00000000e+00  0.00000000e+00 ...  0.00000000e+00\n",
      "    0.00000000e+00  0.00000000e+00]\n",
      "  ...\n",
      "  [ 8.47553611e-02 -1.75496992e-02  1.04509413e-01 ... -8.55245069e-02\n",
      "    3.54136042e-02  2.46749688e-02]\n",
      "  [ 2.90216237e-01  1.18773542e-01 -4.90125455e-02 ... -2.58725733e-01\n",
      "   -2.24438999e-02  3.19550373e-02]\n",
      "  [-3.43900979e-01 -3.03766672e-02 -5.60660055e-03 ...  1.54309452e-01\n",
      "    3.95105332e-02  7.87890032e-02]]\n",
      "\n",
      " ...\n",
      "\n",
      " [[ 0.00000000e+00  0.00000000e+00  0.00000000e+00 ...  0.00000000e+00\n",
      "    0.00000000e+00  0.00000000e+00]\n",
      "  [ 0.00000000e+00  0.00000000e+00  0.00000000e+00 ...  0.00000000e+00\n",
      "    0.00000000e+00  0.00000000e+00]\n",
      "  [ 0.00000000e+00  0.00000000e+00  0.00000000e+00 ...  0.00000000e+00\n",
      "    0.00000000e+00  0.00000000e+00]\n",
      "  ...\n",
      "  [ 1.46269009e-01  6.27990067e-02  2.24550031e-02 ...  1.32854015e-01\n",
      "    3.01630031e-02 -3.37100052e-03]\n",
      "  [ 4.28055488e-02 -4.17423770e-02 -1.12104401e-01 ...  7.12674707e-02\n",
      "    5.80617860e-02  4.43316810e-02]\n",
      "  [-2.90020972e-01 -7.21547082e-02 -1.16538726e-01 ...  1.02514058e-01\n",
      "   -1.46226389e-02 -3.08779674e-03]]\n",
      "\n",
      " [[ 0.00000000e+00  0.00000000e+00  0.00000000e+00 ...  0.00000000e+00\n",
      "    0.00000000e+00  0.00000000e+00]\n",
      "  [ 0.00000000e+00  0.00000000e+00  0.00000000e+00 ...  0.00000000e+00\n",
      "    0.00000000e+00  0.00000000e+00]\n",
      "  [ 0.00000000e+00  0.00000000e+00  0.00000000e+00 ...  0.00000000e+00\n",
      "    0.00000000e+00  0.00000000e+00]\n",
      "  ...\n",
      "  [ 1.78386681e-02 -4.55145687e-02  1.82200298e-01 ...  2.03420315e-02\n",
      "   -4.84761037e-02  7.15236366e-02]\n",
      "  [ 1.58877090e-01  5.60149923e-02 -2.42406979e-01 ...  1.07283719e-01\n",
      "   -5.44066802e-02 -4.75051664e-02]\n",
      "  [-1.15049221e-01 -5.12139387e-02 -9.83267576e-02 ...  1.62757710e-02\n",
      "   -3.15903351e-02  1.52299762e-01]]\n",
      "\n",
      " [[ 0.00000000e+00  0.00000000e+00  0.00000000e+00 ...  0.00000000e+00\n",
      "    0.00000000e+00  0.00000000e+00]\n",
      "  [ 0.00000000e+00  0.00000000e+00  0.00000000e+00 ...  0.00000000e+00\n",
      "    0.00000000e+00  0.00000000e+00]\n",
      "  [ 0.00000000e+00  0.00000000e+00  0.00000000e+00 ...  0.00000000e+00\n",
      "    0.00000000e+00  0.00000000e+00]\n",
      "  ...\n",
      "  [ 0.00000000e+00  0.00000000e+00  0.00000000e+00 ...  0.00000000e+00\n",
      "    0.00000000e+00  0.00000000e+00]\n",
      "  [-3.07747666e-02  1.77950691e-03  5.50856907e-03 ...  9.68986079e-02\n",
      "   -7.70059377e-02 -1.42806679e-01]\n",
      "  [-1.25575840e-01  9.04746428e-02 -7.65643343e-02 ... -7.23123401e-02\n",
      "    2.00576819e-02  3.41833904e-02]]], shape=(16, 13, 128), dtype=float32)\n",
      "---------------\n",
      "After passing x into the model, output is: \n",
      " [<tf.Tensor: shape=(16, 512), dtype=float32, numpy=\n",
      "array([[-0.00392037, -0.14088087, -0.04959415, ..., -0.00975489,\n",
      "         0.11116174,  0.03467856],\n",
      "       [-0.00289836, -0.13168915, -0.0451122 , ..., -0.00578671,\n",
      "         0.11461964,  0.02919023],\n",
      "       [-0.01367379, -0.15154243, -0.04335572, ..., -0.0075863 ,\n",
      "         0.11517492,  0.03169867],\n",
      "       ...,\n",
      "       [-0.0168781 , -0.14718018, -0.04337565, ...,  0.00590856,\n",
      "         0.09053125,  0.04210869],\n",
      "       [-0.01650663, -0.1535423 , -0.02297129, ..., -0.01083494,\n",
      "         0.1219838 ,  0.03778883],\n",
      "       [ 0.01155051, -0.15277219, -0.03896589, ..., -0.00488375,\n",
      "         0.12235226,  0.03712038]], dtype=float32)>, <tf.Tensor: shape=(16, 512), dtype=float32, numpy=\n",
      "array([[-0.00845444, -0.30761367, -0.11553089, ..., -0.01792581,\n",
      "         0.20713395,  0.06753663],\n",
      "       [-0.00625107, -0.28843114, -0.10565399, ..., -0.01056361,\n",
      "         0.2134544 ,  0.05677938],\n",
      "       [-0.02954466, -0.33376667, -0.10072388, ..., -0.01385398,\n",
      "         0.21366195,  0.06154293],\n",
      "       ...,\n",
      "       [-0.03655924, -0.32245567, -0.10119251, ...,  0.01082035,\n",
      "         0.16683881,  0.08168409],\n",
      "       [-0.03551815, -0.3376328 , -0.05331522, ..., -0.01981391,\n",
      "         0.22731629,  0.073605  ],\n",
      "       [ 0.02496069, -0.3373059 , -0.090873  , ..., -0.00891829,\n",
      "         0.22746843,  0.07204844]], dtype=float32)>]\n"
     ]
    }
   ],
   "source": []
  },
  {
   "cell_type": "code",
   "execution_count": 38,
   "metadata": {
    "colab": {
     "base_uri": "https://localhost:8080/"
    },
    "id": "BE9cUEEwon2h",
    "outputId": "bbb546e2-ba61-494e-eb90-f88c434bcf3a"
   },
   "outputs": [
    {
     "name": "stdout",
     "output_type": "stream",
     "text": [
      "Model: \"model\"\n",
      "_________________________________________________________________\n",
      "Layer (type)                 Output Shape              Param #   \n",
      "=================================================================\n",
      "input_1 (InputLayer)         [(None, 13, 128)]         0         \n",
      "_________________________________________________________________\n",
      "custom_layer_1 (CustomLayer) (None, 14, 128)           128       \n",
      "_________________________________________________________________\n",
      "masking (Masking)            (None, 14, 128)           0         \n",
      "_________________________________________________________________\n",
      "lstm (LSTM)                  [(None, 14, 512), (None,  1312768   \n",
      "=================================================================\n",
      "Total params: 1,312,896\n",
      "Trainable params: 1,312,896\n",
      "Non-trainable params: 0\n",
      "_________________________________________________________________\n"
     ]
    }
   ],
   "source": []
  },
  {
   "cell_type": "code",
   "execution_count": 39,
   "metadata": {
    "colab": {
     "base_uri": "https://localhost:8080/",
     "height": 422
    },
    "id": "e5XW6NxL1ibC",
    "outputId": "468b490c-00c4-4502-bef1-910d5d22dff4"
   },
   "outputs": [
    {
     "data": {
      "image/png": "[encoded data removed]",
      "text/plain": [
       "<IPython.core.display.Image object>"
      ]
     },
     "execution_count": 39,
     "metadata": {
      "tags": []
     },
     "output_type": "execute_result"
    }
   ],
   "source": []
  },
  {
   "cell_type": "markdown",
   "metadata": {
    "id": "jEk9ikVh1ibL"
   },
   "source": [
    "# Discussion on the entire model\n",
    "# https://www.coursera.org/learn/customising-models-tensorflow2/discussions/weeks/5/threads/J-Mb7-9iEeq_ghJBALO6ww"
   ]
  },
  {
   "cell_type": "markdown",
   "metadata": {
    "id": "KvkzpCeZ1ibR"
   },
   "source": [
    "## 5. Build the decoder network\n",
    "The decoder network follows the schematic diagram below. "
   ]
  },
  {
   "cell_type": "code",
   "execution_count": 40,
   "metadata": {
    "colab": {
     "base_uri": "https://localhost:8080/",
     "height": 423
    },
    "id": "yOjEb7cH7Y4S",
    "outputId": "0e7944bf-33c2-42f1-da65-786c195765a8"
   },
   "outputs": [
    {
     "data": {
      "image/png": "[encoded data removed]",
      "text/plain": [
       "<IPython.core.display.Image object>"
      ]
     },
     "execution_count": 40,
     "metadata": {
      "tags": []
     },
     "output_type": "execute_result"
    }
   ],
   "source": [
    "# Run this cell to download and view a schematic diagram for the decoder model\n",
    "\n",
    "#!wget -q -O neural_translation_model.png --no-check-certificate \"https://docs.google.com/uc?export=download&id=1DTeaXD8tA8RjkpVrB2mr9csSBOY4LQiW\"\n",
    "Image(\"neural_translation_model.png\")"
   ]
  },
  {
   "cell_type": "markdown",
   "metadata": {
    "id": "VPBK8WGL1ibS"
   },
   "source": [
    "You should now build the RNN decoder model.\n",
    "* Using Model subclassing, build the decoder network according to the following spec:\n",
    "    * The initializer should create the following layers:\n",
    "        * An Embedding layer with vocabulary size set to the number of unique German tokens, embedding dimension 128, and set to mask zero values in the input.\n",
    "        * An LSTM layer with 512 units, that returns its hidden and cell states, and also returns sequences.\n",
    "        * A Dense layer with number of units equal to the number of unique German tokens, and no activation function.\n",
    "    * The call method should include the usual `inputs` argument, as well as the additional keyword arguments `hidden_state` and `cell_state`. The default value for these keyword arguments should be `None`.\n",
    "    * The call method should pass the inputs through the Embedding layer, and then through the LSTM layer. If the `hidden_state` and `cell_state` arguments are provided, these should be used for the initial state of the LSTM layer. _Hint: use the_ `initial_state` _keyword argument when calling the LSTM layer on its input._\n",
    "    * The call method should pass the LSTM output sequence through the Dense layer, and return the resulting Tensor, along with the hidden and cell states of the LSTM layer.\n",
    "* Using the Dataset `.take(1)` method, extract a batch of English and German data examples from the training Dataset. Test the decoder model by first calling the encoder model on the English data Tensor to get the hidden and cell states, and then call the decoder model on the German data Tensor and hidden and cell states, and print the shape of the resulting decoder Tensor outputs.\n",
    "* Print the model summary for the decoder network."
   ]
  },
  {
   "cell_type": "markdown",
   "metadata": {
    "id": "hmL_PT4Uon2k"
   },
   "source": [
    "### Additional Resource\n",
    "https://blog.keras.io/a-ten-minute-introduction-to-sequence-to-sequence-learning-in-keras.html\n"
   ]
  },
  {
   "cell_type": "code",
   "execution_count": 41,
   "metadata": {
    "id": "E7RYVVI0on2j"
   },
   "outputs": [],
   "source": []
  },
  {
   "cell_type": "code",
   "execution_count": 42,
   "metadata": {
    "id": "l50qhnXD1ibT"
   },
   "outputs": [],
   "source": []
  },
  {
   "cell_type": "code",
   "execution_count": 43,
   "metadata": {
    "id": "KqU7w3x7on2k"
   },
   "outputs": [],
   "source": []
  },
  {
   "cell_type": "code",
   "execution_count": 44,
   "metadata": {
    "colab": {
     "base_uri": "https://localhost:8080/"
    },
    "id": "vG5CRIXV1ibi",
    "outputId": "8a66349c-a700-4859-c2b2-d75f0a3f9c2d"
   },
   "outputs": [
    {
     "name": "stdout",
     "output_type": "stream",
     "text": [
      "Before passing x into the model, x is: \n",
      " tf.Tensor(\n",
      "[[[ 0.00000000e+00  0.00000000e+00  0.00000000e+00 ...  0.00000000e+00\n",
      "    0.00000000e+00  0.00000000e+00]\n",
      "  [ 0.00000000e+00  0.00000000e+00  0.00000000e+00 ...  0.00000000e+00\n",
      "    0.00000000e+00  0.00000000e+00]\n",
      "  [ 0.00000000e+00  0.00000000e+00  0.00000000e+00 ...  0.00000000e+00\n",
      "    0.00000000e+00  0.00000000e+00]\n",
      "  ...\n",
      "  [ 0.00000000e+00  0.00000000e+00  0.00000000e+00 ...  0.00000000e+00\n",
      "    0.00000000e+00  0.00000000e+00]\n",
      "  [ 8.46953876e-03  4.77808677e-02  8.18384513e-02 ...  1.00793414e-01\n",
      "    8.74009356e-02 -6.13587908e-03]\n",
      "  [-1.61252543e-01 -5.91255836e-02 -1.14599690e-01 ...  6.34250715e-02\n",
      "   -5.59268892e-03 -1.31333759e-02]]\n",
      "\n",
      " [[ 0.00000000e+00  0.00000000e+00  0.00000000e+00 ...  0.00000000e+00\n",
      "    0.00000000e+00  0.00000000e+00]\n",
      "  [ 0.00000000e+00  0.00000000e+00  0.00000000e+00 ...  0.00000000e+00\n",
      "    0.00000000e+00  0.00000000e+00]\n",
      "  [ 0.00000000e+00  0.00000000e+00  0.00000000e+00 ...  0.00000000e+00\n",
      "    0.00000000e+00  0.00000000e+00]\n",
      "  ...\n",
      "  [ 1.45776331e-01 -6.30659238e-02  4.11211699e-02 ...  1.48008605e-02\n",
      "   -3.59915271e-02 -1.86223406e-02]\n",
      "  [ 3.65526304e-02 -2.14944157e-04  6.63912892e-02 ...  6.25333190e-02\n",
      "    1.63310155e-01  4.26493287e-02]\n",
      "  [-2.38468945e-01 -9.94149819e-02  7.77389556e-02 ...  7.69628212e-02\n",
      "    1.57342419e-01  4.67385463e-02]]\n",
      "\n",
      " [[ 0.00000000e+00  0.00000000e+00  0.00000000e+00 ...  0.00000000e+00\n",
      "    0.00000000e+00  0.00000000e+00]\n",
      "  [ 0.00000000e+00  0.00000000e+00  0.00000000e+00 ...  0.00000000e+00\n",
      "    0.00000000e+00  0.00000000e+00]\n",
      "  [ 0.00000000e+00  0.00000000e+00  0.00000000e+00 ...  0.00000000e+00\n",
      "    0.00000000e+00  0.00000000e+00]\n",
      "  ...\n",
      "  [ 8.47553611e-02 -1.75496992e-02  1.04509413e-01 ... -8.55245069e-02\n",
      "    3.54136042e-02  2.46749688e-02]\n",
      "  [ 2.90216237e-01  1.18773542e-01 -4.90125455e-02 ... -2.58725733e-01\n",
      "   -2.24438999e-02  3.19550373e-02]\n",
      "  [-3.43900979e-01 -3.03766672e-02 -5.60660055e-03 ...  1.54309452e-01\n",
      "    3.95105332e-02  7.87890032e-02]]\n",
      "\n",
      " ...\n",
      "\n",
      " [[ 0.00000000e+00  0.00000000e+00  0.00000000e+00 ...  0.00000000e+00\n",
      "    0.00000000e+00  0.00000000e+00]\n",
      "  [ 0.00000000e+00  0.00000000e+00  0.00000000e+00 ...  0.00000000e+00\n",
      "    0.00000000e+00  0.00000000e+00]\n",
      "  [ 0.00000000e+00  0.00000000e+00  0.00000000e+00 ...  0.00000000e+00\n",
      "    0.00000000e+00  0.00000000e+00]\n",
      "  ...\n",
      "  [ 1.46269009e-01  6.27990067e-02  2.24550031e-02 ...  1.32854015e-01\n",
      "    3.01630031e-02 -3.37100052e-03]\n",
      "  [ 4.28055488e-02 -4.17423770e-02 -1.12104401e-01 ...  7.12674707e-02\n",
      "    5.80617860e-02  4.43316810e-02]\n",
      "  [-2.90020972e-01 -7.21547082e-02 -1.16538726e-01 ...  1.02514058e-01\n",
      "   -1.46226389e-02 -3.08779674e-03]]\n",
      "\n",
      " [[ 0.00000000e+00  0.00000000e+00  0.00000000e+00 ...  0.00000000e+00\n",
      "    0.00000000e+00  0.00000000e+00]\n",
      "  [ 0.00000000e+00  0.00000000e+00  0.00000000e+00 ...  0.00000000e+00\n",
      "    0.00000000e+00  0.00000000e+00]\n",
      "  [ 0.00000000e+00  0.00000000e+00  0.00000000e+00 ...  0.00000000e+00\n",
      "    0.00000000e+00  0.00000000e+00]\n",
      "  ...\n",
      "  [ 1.78386681e-02 -4.55145687e-02  1.82200298e-01 ...  2.03420315e-02\n",
      "   -4.84761037e-02  7.15236366e-02]\n",
      "  [ 1.58877090e-01  5.60149923e-02 -2.42406979e-01 ...  1.07283719e-01\n",
      "   -5.44066802e-02 -4.75051664e-02]\n",
      "  [-1.15049221e-01 -5.12139387e-02 -9.83267576e-02 ...  1.62757710e-02\n",
      "   -3.15903351e-02  1.52299762e-01]]\n",
      "\n",
      " [[ 0.00000000e+00  0.00000000e+00  0.00000000e+00 ...  0.00000000e+00\n",
      "    0.00000000e+00  0.00000000e+00]\n",
      "  [ 0.00000000e+00  0.00000000e+00  0.00000000e+00 ...  0.00000000e+00\n",
      "    0.00000000e+00  0.00000000e+00]\n",
      "  [ 0.00000000e+00  0.00000000e+00  0.00000000e+00 ...  0.00000000e+00\n",
      "    0.00000000e+00  0.00000000e+00]\n",
      "  ...\n",
      "  [ 0.00000000e+00  0.00000000e+00  0.00000000e+00 ...  0.00000000e+00\n",
      "    0.00000000e+00  0.00000000e+00]\n",
      "  [-3.07747666e-02  1.77950691e-03  5.50856907e-03 ...  9.68986079e-02\n",
      "   -7.70059377e-02 -1.42806679e-01]\n",
      "  [-1.25575840e-01  9.04746428e-02 -7.65643343e-02 ... -7.23123401e-02\n",
      "    2.00576819e-02  3.41833904e-02]]], shape=(16, 13, 128), dtype=float32)\n",
      "---------------\n",
      "After passing x into the encoder model, output is: \n",
      "\n",
      "'encoder_hidden_state': \n",
      " tf.Tensor(\n",
      "[[-0.00392037 -0.14088087 -0.04959415 ... -0.00975489  0.11116174\n",
      "   0.03467856]\n",
      " [-0.00289836 -0.13168915 -0.0451122  ... -0.00578671  0.11461964\n",
      "   0.02919023]\n",
      " [-0.01367379 -0.15154243 -0.04335572 ... -0.0075863   0.11517492\n",
      "   0.03169867]\n",
      " ...\n",
      " [-0.0168781  -0.14718018 -0.04337565 ...  0.00590856  0.09053125\n",
      "   0.04210869]\n",
      " [-0.01650663 -0.1535423  -0.02297129 ... -0.01083494  0.1219838\n",
      "   0.03778883]\n",
      " [ 0.01155051 -0.15277219 -0.03896589 ... -0.00488375  0.12235226\n",
      "   0.03712038]], shape=(16, 512), dtype=float32) \n",
      "\n",
      "'encoder_cell_state': \n",
      " tf.Tensor(\n",
      "[[-0.00845444 -0.30761367 -0.11553089 ... -0.01792581  0.20713395\n",
      "   0.06753663]\n",
      " [-0.00625107 -0.28843114 -0.10565399 ... -0.01056361  0.2134544\n",
      "   0.05677938]\n",
      " [-0.02954466 -0.33376667 -0.10072388 ... -0.01385398  0.21366195\n",
      "   0.06154293]\n",
      " ...\n",
      " [-0.03655924 -0.32245567 -0.10119251 ...  0.01082035  0.16683881\n",
      "   0.08168409]\n",
      " [-0.03551815 -0.3376328  -0.05331522 ... -0.01981391  0.22731629\n",
      "   0.073605  ]\n",
      " [ 0.02496069 -0.3373059  -0.090873   ... -0.00891829  0.22746843\n",
      "   0.07204844]], shape=(16, 512), dtype=float32) \n",
      "\n",
      "---------------\n",
      "After passing y into the encoder model, output is: \n",
      "\n",
      "'output: \n",
      "' tf.Tensor(\n",
      "[[[ 1.87727052e-03  2.65645254e-02 -1.12867290e-02 ...  6.24526944e-03\n",
      "   -7.25512393e-04  1.74066168e-03]\n",
      "  [ 4.84600663e-03  2.05521230e-02 -1.19983992e-02 ...  7.54789775e-03\n",
      "    3.39289370e-04 -1.55500275e-05]\n",
      "  [ 6.75061345e-03  1.63548980e-02 -1.01386597e-02 ...  5.35851624e-03\n",
      "    6.64042775e-04 -1.01977575e-03]\n",
      "  ...\n",
      "  [ 0.00000000e+00  0.00000000e+00  0.00000000e+00 ...  0.00000000e+00\n",
      "    0.00000000e+00  0.00000000e+00]\n",
      "  [ 0.00000000e+00  0.00000000e+00  0.00000000e+00 ...  0.00000000e+00\n",
      "    0.00000000e+00  0.00000000e+00]\n",
      "  [ 0.00000000e+00  0.00000000e+00  0.00000000e+00 ...  0.00000000e+00\n",
      "    0.00000000e+00  0.00000000e+00]]\n",
      "\n",
      " [[ 1.14658370e-03  2.81722788e-02 -9.52049159e-03 ...  7.75855174e-03\n",
      "   -3.18205310e-03 -1.03865340e-02]\n",
      "  [ 4.71511343e-03  2.00668760e-02 -9.63115133e-03 ...  7.83274416e-03\n",
      "   -1.47395744e-03 -8.55616853e-03]\n",
      "  [ 5.93446009e-03  1.39784943e-02 -8.43660347e-03 ...  6.31432096e-03\n",
      "    1.35191914e-03 -6.95897220e-03]\n",
      "  ...\n",
      "  [ 0.00000000e+00  0.00000000e+00  0.00000000e+00 ...  0.00000000e+00\n",
      "    0.00000000e+00  0.00000000e+00]\n",
      "  [ 0.00000000e+00  0.00000000e+00  0.00000000e+00 ...  0.00000000e+00\n",
      "    0.00000000e+00  0.00000000e+00]\n",
      "  [ 0.00000000e+00  0.00000000e+00  0.00000000e+00 ...  0.00000000e+00\n",
      "    0.00000000e+00  0.00000000e+00]]\n",
      "\n",
      " [[ 2.41704605e-04  2.88569052e-02 -1.07009392e-02 ...  2.82723922e-03\n",
      "   -3.76014668e-03  6.11353433e-04]\n",
      "  [ 4.37809993e-03  2.18589865e-02 -1.11841038e-02 ...  1.75102579e-03\n",
      "   -1.80079113e-03 -7.30781467e-05]\n",
      "  [ 3.97147844e-03  1.61368493e-02 -1.04630692e-02 ...  2.34377547e-03\n",
      "   -6.27568050e-04  9.14883858e-04]\n",
      "  ...\n",
      "  [ 0.00000000e+00  0.00000000e+00  0.00000000e+00 ...  0.00000000e+00\n",
      "    0.00000000e+00  0.00000000e+00]\n",
      "  [ 0.00000000e+00  0.00000000e+00  0.00000000e+00 ...  0.00000000e+00\n",
      "    0.00000000e+00  0.00000000e+00]\n",
      "  [ 0.00000000e+00  0.00000000e+00  0.00000000e+00 ...  0.00000000e+00\n",
      "    0.00000000e+00  0.00000000e+00]]\n",
      "\n",
      " ...\n",
      "\n",
      " [[ 1.10421318e-03  2.33324245e-02 -1.03101600e-02 ...  2.65559764e-03\n",
      "   -3.56248394e-03  5.60667645e-03]\n",
      "  [ 4.13111644e-03  1.77436210e-02 -1.14819370e-02 ...  4.57159290e-03\n",
      "   -1.54376240e-03  3.42563074e-03]\n",
      "  [ 5.63659938e-03  1.20508857e-02 -1.28586246e-02 ...  3.38799739e-03\n",
      "   -1.49615644e-03  2.56758928e-03]\n",
      "  ...\n",
      "  [ 0.00000000e+00  0.00000000e+00  0.00000000e+00 ...  0.00000000e+00\n",
      "    0.00000000e+00  0.00000000e+00]\n",
      "  [ 0.00000000e+00  0.00000000e+00  0.00000000e+00 ...  0.00000000e+00\n",
      "    0.00000000e+00  0.00000000e+00]\n",
      "  [ 0.00000000e+00  0.00000000e+00  0.00000000e+00 ...  0.00000000e+00\n",
      "    0.00000000e+00  0.00000000e+00]]\n",
      "\n",
      " [[ 7.23110093e-03  2.75140200e-02 -5.08198468e-03 ...  3.88494483e-03\n",
      "   -5.14097558e-03 -3.89674446e-03]\n",
      "  [ 9.25224554e-03  2.17112526e-02 -7.60997413e-03 ...  5.29657165e-03\n",
      "   -4.05159080e-03 -4.78015374e-03]\n",
      "  [ 1.00689195e-02  1.61709990e-02 -8.39786511e-03 ...  4.65031201e-03\n",
      "   -1.24037848e-03 -5.04381675e-03]\n",
      "  ...\n",
      "  [ 0.00000000e+00  0.00000000e+00  0.00000000e+00 ...  0.00000000e+00\n",
      "    0.00000000e+00  0.00000000e+00]\n",
      "  [ 0.00000000e+00  0.00000000e+00  0.00000000e+00 ...  0.00000000e+00\n",
      "    0.00000000e+00  0.00000000e+00]\n",
      "  [ 0.00000000e+00  0.00000000e+00  0.00000000e+00 ...  0.00000000e+00\n",
      "    0.00000000e+00  0.00000000e+00]]\n",
      "\n",
      " [[ 1.77099637e-03  2.82985028e-02 -1.16790067e-02 ...  7.70065468e-03\n",
      "   -6.33622939e-03 -5.40948566e-03]\n",
      "  [ 4.52288380e-03  2.19562631e-02 -1.26117663e-02 ...  9.19447653e-03\n",
      "   -3.47842393e-03 -5.11850929e-03]\n",
      "  [ 5.70299709e-03  1.57719310e-02 -1.08532431e-02 ...  8.00533127e-03\n",
      "   -4.02410020e-04 -4.09795158e-03]\n",
      "  ...\n",
      "  [ 0.00000000e+00  0.00000000e+00  0.00000000e+00 ...  0.00000000e+00\n",
      "    0.00000000e+00  0.00000000e+00]\n",
      "  [ 0.00000000e+00  0.00000000e+00  0.00000000e+00 ...  0.00000000e+00\n",
      "    0.00000000e+00  0.00000000e+00]\n",
      "  [ 0.00000000e+00  0.00000000e+00  0.00000000e+00 ...  0.00000000e+00\n",
      "    0.00000000e+00  0.00000000e+00]]], shape=(16, 14, 5744), dtype=float32) \n",
      "\n",
      "'decoder_hidden_state': \n",
      " tf.Tensor(\n",
      "[[-2.0010488e-03 -2.1448610e-02 -3.6139311e-03 ... -1.0937406e-02\n",
      "  -3.6570287e-04 -2.0890101e-03]\n",
      " [-6.9981846e-03 -1.4069556e-02 -1.1121216e-03 ... -1.0612632e-02\n",
      "   8.2287454e-04 -5.0991033e-03]\n",
      " [ 6.8824581e-04 -1.9170236e-02 -4.0729539e-03 ... -5.7574054e-03\n",
      "   3.9986274e-03 -6.0371282e-03]\n",
      " ...\n",
      " [-9.1941943e-03 -2.7915459e-02 -6.1962176e-03 ... -5.8129146e-03\n",
      "   1.5886834e-04 -2.0745455e-03]\n",
      " [-6.1481246e-03 -1.5213470e-02 -1.1491083e-03 ... -7.5329812e-03\n",
      "   2.5635762e-03  9.5530256e-04]\n",
      " [ 2.5806983e-03 -2.3151105e-02 -6.6287932e-03 ... -7.6351468e-03\n",
      "   6.6603464e-03 -9.6515090e-05]], shape=(16, 512), dtype=float32) \n",
      "\n",
      "'decoder_cell_state': \n",
      " tf.Tensor(\n",
      "[[-0.00395225 -0.04270846 -0.0072872  ... -0.02200695 -0.0007338\n",
      "  -0.00419815]\n",
      " [-0.01383735 -0.02800518 -0.00224268 ... -0.0213363   0.00164924\n",
      "  -0.01023689]\n",
      " [ 0.00135719 -0.03815094 -0.00823469 ... -0.01157818  0.00803355\n",
      "  -0.01214225]\n",
      " ...\n",
      " [-0.01819177 -0.05558348 -0.01254921 ... -0.01169048  0.00031951\n",
      "  -0.00417669]\n",
      " [-0.01213768 -0.03024334 -0.00231771 ... -0.01515029  0.0051548\n",
      "   0.00191886]\n",
      " [ 0.00509773 -0.0460109  -0.01341788 ... -0.01537189  0.01337411\n",
      "  -0.00019417]], shape=(16, 512), dtype=float32) \n",
      "\n"
     ]
    }
   ],
   "source": []
  },
  {
   "cell_type": "code",
   "execution_count": 45,
   "metadata": {
    "colab": {
     "base_uri": "https://localhost:8080/"
    },
    "id": "SvqqT_ET1ibl",
    "outputId": "b7a9bfd3-f5f0-4153-8cb6-0e3edddf8bee"
   },
   "outputs": [
    {
     "name": "stdout",
     "output_type": "stream",
     "text": [
      "Model: \"rnn_decoder\"\n",
      "_________________________________________________________________\n",
      "Layer (type)                 Output Shape              Param #   \n",
      "=================================================================\n",
      "embedding (Embedding)        multiple                  735232    \n",
      "_________________________________________________________________\n",
      "lstm_1 (LSTM)                multiple                  1312768   \n",
      "_________________________________________________________________\n",
      "dense (Dense)                multiple                  2946672   \n",
      "=================================================================\n",
      "Total params: 4,994,672\n",
      "Trainable params: 4,994,672\n",
      "Non-trainable params: 0\n",
      "_________________________________________________________________\n"
     ]
    }
   ],
   "source": []
  },
  {
   "cell_type": "markdown",
   "metadata": {
    "id": "pST9XGJ81ibo"
   },
   "source": [
    "## 6. Make a custom training loop\n",
    "You should now write a custom training loop to train your custom neural translation model.\n",
    "* Define a function that takes a Tensor batch of German data (as extracted from the training Dataset), and returns a tuple containing German inputs and outputs for the decoder model (refer to schematic diagram above).\n",
    "* Define a function that computes the forward and backward pass for your translation model. This function should take an English input, German input and German output as arguments, and should do the following:\n",
    "    * Pass the English input into the encoder, to get the hidden and cell states of the encoder LSTM.\n",
    "    * These hidden and cell states are then passed into the decoder, along with the German inputs, which returns a sequence of outputs (the hidden and cell state outputs of the decoder LSTM are unused in this function).\n",
    "    * The loss should then be computed between the decoder outputs and the German output function argument.\n",
    "    * The function returns the loss and gradients with respect to the encoder and decoder’s trainable variables.\n",
    "    * Decorate the function with `@tf.function`\n",
    "* Define and run a custom training loop for a number of epochs (for you to choose) that does the following:\n",
    "    * Iterates through the training dataset, and creates decoder inputs and outputs from the German sequences.\n",
    "    * Updates the parameters of the translation model using the gradients of the function above and an optimizer object.\n",
    "    * Every epoch, compute the validation loss on a number of batches from the validation and save the epoch training and validation losses.\n",
    "* Plot the learning curves for loss vs epoch for both training and validation sets.\n",
    "\n",
    "_Hint: This model is computationally demanding to train. The quality of the model or length of training is not a factor in the grading rubric. However, to obtain a better model we recommend using the GPU accelerator hardware on Colab._"
   ]
  },
  {
   "cell_type": "markdown",
   "metadata": {
    "id": "kZz50o8dhYqR"
   },
   "source": [
    "### Important Learning Point!\n",
    "* German input has to have a `<start>` token without an `<end>` token and german output has to not have a `<start>` token and has an `<end>` token.\n",
    "* The `loss_obj` has to be the following: \n",
    "```python\n",
    "loss_obj = tf.keras.losses.SparseCategoricalCrossentropy(from_logits = True, reduction = 'none') # CORRECT KEYWORD ARGUMENTS!\n",
    "```\n",
    "with such `from_logits` and `reduction` keywords parameters.\n",
    "* This `loss_obj` is wrong:\n",
    "```python\n",
    "loss_obj = tf.keras.losses.SparseCategoricalCrossentropy() # WRONG!\n",
    "```"
   ]
  },
  {
   "cell_type": "code",
   "execution_count": 46,
   "metadata": {
    "id": "7TIutpRWon2m"
   },
   "outputs": [],
   "source": []
  },
  {
   "cell_type": "code",
   "execution_count": 47,
   "metadata": {
    "id": "VH9I_ffwhu4w"
   },
   "outputs": [],
   "source": []
  },
  {
   "cell_type": "code",
   "execution_count": 48,
   "metadata": {
    "id": "7hJHbWqs1ibr"
   },
   "outputs": [],
   "source": []
  },
  {
   "cell_type": "code",
   "execution_count": 49,
   "metadata": {
    "colab": {
     "base_uri": "https://localhost:8080/"
    },
    "id": "UEUwZD7LgMuF",
    "outputId": "6608bbb1-b342-45a0-ccbf-fa2d684a21ee"
   },
   "outputs": [
    {
     "name": "stdout",
     "output_type": "stream",
     "text": [
      "[[   1    5   24   12  756    3    0    0    0    0    0    0    0    0]\n",
      " [   1   10    6  174  113    3    0    0    0    0    0    0    0    0]\n",
      " [   1    4   61   53 4877    3    0    0    0    0    0    0    0    0]\n",
      " [   1    4   39   11   91    3    0    0    0    0    0    0    0    0]\n",
      " [   1  202    6  539    3    0    0    0    0    0    0    0    0    0]\n",
      " [   1   15    4   33  139    7    0    0    0    0    0    0    0    0]\n",
      " [   1   27  197   31    3    0    0    0    0    0    0    0    0    0]\n",
      " [   1   42 1033    4   37    7    0    0    0    0    0    0    0    0]\n",
      " [   1   10    6  832    3    0    0    0    0    0    0    0    0    0]\n",
      " [   1    4   18    5   12 5602    3    0    0    0    0    0    0    0]\n",
      " [   1 2994   28    9    0    0    0    0    0    0    0    0    0    0]\n",
      " [   1    5    6 2773    3    0    0    0    0    0    0    0    0    0]\n",
      " [   1   13   58  458  692    3    0    0    0    0    0    0    0    0]\n",
      " [   1    5   48  504    3    0    0    0    0    0    0    0    0    0]\n",
      " [   1   42   59   10   52    7    0    0    0    0    0    0    0    0]\n",
      " [   1    5    6 3046    3    0    0    0    0    0    0    0    0    0]]\n",
      "[[   5   24   12  756    3    2    0    0    0    0    0    0    0    0]\n",
      " [  10    6  174  113    3    2    0    0    0    0    0    0    0    0]\n",
      " [   4   61   53 4877    3    2    0    0    0    0    0    0    0    0]\n",
      " [   4   39   11   91    3    2    0    0    0    0    0    0    0    0]\n",
      " [ 202    6  539    3    2    0    0    0    0    0    0    0    0    0]\n",
      " [  15    4   33  139    7    2    0    0    0    0    0    0    0    0]\n",
      " [  27  197   31    3    2    0    0    0    0    0    0    0    0    0]\n",
      " [  42 1033    4   37    7    2    0    0    0    0    0    0    0    0]\n",
      " [  10    6  832    3    2    0    0    0    0    0    0    0    0    0]\n",
      " [   4   18    5   12 5602    3    2    0    0    0    0    0    0    0]\n",
      " [2994   28    9    2    0    0    0    0    0    0    0    0    0    0]\n",
      " [   5    6 2773    3    2    0    0    0    0    0    0    0    0    0]\n",
      " [  13   58  458  692    3    2    0    0    0    0    0    0    0    0]\n",
      " [   5   48  504    3    2    0    0    0    0    0    0    0    0    0]\n",
      " [  42   59   10   52    7    2    0    0    0    0    0    0    0    0]\n",
      " [   5    6 3046    3    2    0    0    0    0    0    0    0    0    0]]\n"
     ]
    }
   ],
   "source": []
  },
  {
   "cell_type": "code",
   "execution_count": 50,
   "metadata": {
    "id": "e5DEnHiron2m"
   },
   "outputs": [],
   "source": [
    "@tf.function\n",
    "def forward_and_backward_pass(x, y, y_, loss = loss_obj):\n",
    "    ### Should not calculate output here then set up the tape context to compute loss and gradient,\n",
    "    ### calculate the output from the decoder under the tape's context.\n",
    "    with tf.GradientTape() as tape:\n",
    "        ### THESE TWO STATEMENTS BELOW MUST BE UNDER THE TAPE CONTEXT ###\n",
    "        encoder_hidden_state, encoder_cell_state = encoder_model(x)\n",
    "        output, decoder_hidden_state, decoder_cell_state = decoder_model(y,\n",
    "                                                                     hidden_state = encoder_hidden_state,\n",
    "                                                                     cell_state = encoder_cell_state)\n",
    "        ### ###\n",
    "        loss_value = loss_obj(y_true = y_, y_pred = output)\n",
    "\n",
    "        gradients = tape.gradient(loss_value,\n",
    "                              encoder_model.trainable_variables + decoder_model.trainable_variables)\n",
    "    \n",
    "    return loss_value, gradients"
   ]
  },
  {
   "cell_type": "code",
   "execution_count": 51,
   "metadata": {
    "colab": {
     "base_uri": "https://localhost:8080/"
    },
    "id": "h7w5NM1son2m",
    "outputId": "d5d7cd1d-089a-45cd-dae8-9143dea3c7c0"
   },
   "outputs": [
    {
     "name": "stdout",
     "output_type": "stream",
     "text": [
      "tf.Tensor(\n",
      "[[8.602377  8.643388  8.660964  8.6527    8.653989  8.662928  8.655911\n",
      "  8.655911  8.655911  8.655911  8.655911  8.655911  8.655911  8.655911 ]\n",
      " [8.638924  8.670136  8.668246  8.645257  8.656241  8.662652  8.655911\n",
      "  8.655911  8.655911  8.655911  8.655911  8.655911  8.655911  8.655911 ]\n",
      " [8.638462  8.640203  8.643456  8.65793   8.656377  8.664841  8.655911\n",
      "  8.655911  8.655911  8.655911  8.655911  8.655911  8.655911  8.655911 ]\n",
      " [8.636968  8.671409  8.639743  8.653181  8.6526575 8.66129   8.655911\n",
      "  8.655911  8.655911  8.655911  8.655911  8.655911  8.655911  8.655911 ]\n",
      " [8.645262  8.668385  8.652233  8.650972  8.6629    8.655911  8.655911\n",
      "  8.655911  8.655911  8.655911  8.655911  8.655911  8.655911  8.655911 ]\n",
      " [8.663971  8.642084  8.652777  8.664634  8.6559305 8.660184  8.655911\n",
      "  8.655911  8.655911  8.655911  8.655911  8.655911  8.655911  8.655911 ]\n",
      " [8.672995  8.66748   8.664106  8.652981  8.663468  8.655911  8.655911\n",
      "  8.655911  8.655911  8.655911  8.655911  8.655911  8.655911  8.655911 ]\n",
      " [8.6617565 8.650747  8.644783  8.6518345 8.653222  8.660238  8.655911\n",
      "  8.655911  8.655911  8.655911  8.655911  8.655911  8.655911  8.655911 ]\n",
      " [8.637425  8.667018  8.651607  8.651497  8.662664  8.655911  8.655911\n",
      "  8.655911  8.655911  8.655911  8.655911  8.655911  8.655911  8.655911 ]\n",
      " [8.635038  8.640848  8.628943  8.66126   8.646224  8.652541  8.660487\n",
      "  8.655911  8.655911  8.655911  8.655911  8.655911  8.655911  8.655911 ]\n",
      " [8.665659  8.687622  8.653323  8.664982  8.655911  8.655911  8.655911\n",
      "  8.655911  8.655911  8.655911  8.655911  8.655911  8.655911  8.655911 ]\n",
      " [8.606773  8.667835  8.632982  8.653296  8.664061  8.655911  8.655911\n",
      "  8.655911  8.655911  8.655911  8.655911  8.655911  8.655911  8.655911 ]\n",
      " [8.630621  8.684559  8.6773405 8.641293  8.655683  8.661904  8.655911\n",
      "  8.655911  8.655911  8.655911  8.655911  8.655911  8.655911  8.655911 ]\n",
      " [8.60874   8.662396  8.6597185 8.650668  8.665318  8.655911  8.655911\n",
      "  8.655911  8.655911  8.655911  8.655911  8.655911  8.655911  8.655911 ]\n",
      " [8.664257  8.630703  8.640272  8.662291  8.6559305 8.66179   8.655911\n",
      "  8.655911  8.655911  8.655911  8.655911  8.655911  8.655911  8.655911 ]\n",
      " [8.601257  8.667768  8.637848  8.65292   8.664358  8.655911  8.655911\n",
      "  8.655911  8.655911  8.655911  8.655911  8.655911  8.655911  8.655911 ]], shape=(16, 14), dtype=float32)\n",
      "gradients [<tf.Tensor: shape=(128,), dtype=float32, numpy=\n",
      "array([-3.75274159e-02, -3.39101851e-02, -1.17020654e-02,  2.18454655e-02,\n",
      "        4.22366001e-02, -9.44005232e-03,  2.97628995e-02,  1.41825844e-02,\n",
      "        1.87707916e-02,  2.33998802e-02, -3.20578255e-02,  7.34675163e-03,\n",
      "        1.29983993e-02,  2.51200199e-02,  2.85116062e-02,  3.35548036e-02,\n",
      "       -1.61912870e-02,  3.81345069e-03, -1.76310558e-02, -6.13828227e-02,\n",
      "       -3.78730074e-02,  8.59538559e-05, -2.97436062e-02,  1.28798326e-02,\n",
      "        3.94828767e-02, -3.96306068e-03,  1.08316150e-02, -2.06334088e-02,\n",
      "       -2.15793271e-02,  6.50559738e-03,  3.76447886e-02, -1.88180748e-02,\n",
      "       -9.96208284e-03,  1.21721085e-02,  3.18278908e-04,  2.33158357e-02,\n",
      "       -8.57197586e-03, -1.62116089e-03, -1.82579737e-02,  3.55856307e-02,\n",
      "       -2.31525470e-02,  1.74061619e-02,  1.69819780e-02, -6.70045987e-02,\n",
      "        1.51395127e-02, -1.72668230e-03, -6.78709662e-03, -1.96996108e-02,\n",
      "       -8.73691216e-03,  8.83243454e-04, -2.00392287e-02, -3.36526819e-02,\n",
      "        8.53832345e-03, -2.70910189e-02, -7.72424880e-03,  2.93767056e-03,\n",
      "        5.53565938e-03, -5.38537465e-03, -4.84715104e-02, -3.60128582e-02,\n",
      "        2.07268726e-02,  9.96276364e-03,  2.43495759e-02, -5.32538537e-03,\n",
      "       -1.74219143e-02, -1.23622473e-02,  2.32244488e-02, -4.36865687e-02,\n",
      "       -7.06174597e-03,  2.80183973e-03, -6.59719855e-03,  6.58767205e-03,\n",
      "        1.34999007e-02, -2.23957980e-03,  6.06018025e-03, -2.74992641e-02,\n",
      "       -1.60256808e-03, -2.00808365e-02,  1.57814883e-02, -6.39063492e-02,\n",
      "       -4.23422549e-04,  7.12181069e-03, -1.80437751e-02, -1.70948543e-02,\n",
      "       -9.90388263e-03, -3.68614085e-02,  8.34106281e-03, -3.91341634e-02,\n",
      "        1.01643968e-02, -4.54172194e-02, -1.15618911e-02,  6.47217408e-02,\n",
      "       -8.54900107e-03, -4.20706011e-02, -2.41476297e-02, -8.93950835e-03,\n",
      "       -4.03338969e-02,  9.10089072e-03,  2.92430334e-02,  4.04852033e-02,\n",
      "        2.08924040e-02,  1.02808513e-02, -6.03008270e-03,  1.89621188e-02,\n",
      "       -1.15872296e-02,  2.98375953e-02,  4.70293798e-02,  6.53517619e-03,\n",
      "        5.33928815e-03,  1.00057572e-04, -5.50033804e-03, -3.18819731e-02,\n",
      "       -1.94383450e-02, -6.22171257e-03,  3.02682053e-02,  2.96417028e-02,\n",
      "        2.08614711e-02, -2.18661446e-02,  2.60362104e-02,  2.63229385e-03,\n",
      "       -9.51572321e-04,  5.18266810e-04,  2.82659056e-03, -6.15570769e-02,\n",
      "        4.61588688e-02, -2.89259199e-02,  4.61957082e-02,  1.65602174e-02],\n",
      "      dtype=float32)>, <tf.Tensor: shape=(128, 2048), dtype=float32, numpy=\n",
      "array([[ 1.0370101e-03,  1.2379492e-03, -1.6876486e-03, ...,\n",
      "        -2.3536491e-05,  9.4833253e-05,  1.6098114e-04],\n",
      "       [-2.4422430e-03, -2.6085018e-03,  3.7073793e-03, ...,\n",
      "        -1.5356698e-05, -2.0591258e-04, -3.4304554e-04],\n",
      "       [ 6.0659371e-05,  1.2446071e-04, -1.9349597e-04, ...,\n",
      "        -2.1608860e-06, -1.1730974e-05,  8.7161307e-06],\n",
      "       ...,\n",
      "       [ 1.6867022e-03,  1.7342849e-03, -2.5065609e-03, ...,\n",
      "         2.7015514e-05,  1.4481295e-04,  2.3599096e-04],\n",
      "       [-4.8878475e-04, -5.0340965e-04,  7.7637157e-04, ...,\n",
      "        -1.0416756e-05, -3.4316956e-05, -6.1967330e-05],\n",
      "       [-6.2789266e-05, -4.8864214e-05,  1.1251112e-04, ...,\n",
      "         2.5587775e-07, -1.0881037e-06, -5.7835709e-06]], dtype=float32)>, <tf.Tensor: shape=(512, 2048), dtype=float32, numpy=\n",
      "array([[-5.8580144e-06, -9.0062247e-05,  2.9698102e-05, ...,\n",
      "         1.2786979e-06,  4.1002349e-07, -3.8685647e-07],\n",
      "       [ 5.7339316e-06, -7.8196739e-05,  7.9338233e-06, ...,\n",
      "         2.1549421e-07,  7.2386338e-06, -1.6218569e-06],\n",
      "       [ 9.6319968e-07,  5.6816993e-05, -2.5081241e-05, ...,\n",
      "        -7.6852706e-07, -2.9944079e-06, -3.3110989e-06],\n",
      "       ...,\n",
      "       [ 4.9555692e-06, -8.2002334e-05,  7.5036360e-06, ...,\n",
      "         1.4430822e-06,  4.4249867e-07, -3.2453938e-06],\n",
      "       [ 1.1778177e-05, -1.7306724e-05, -3.3223292e-05, ...,\n",
      "         2.4377971e-06, -8.3789257e-07, -5.6598481e-07],\n",
      "       [ 1.7440731e-06,  4.7187670e-05, -1.1119010e-05, ...,\n",
      "        -1.0473657e-06, -1.3531868e-06,  2.3291484e-07]], dtype=float32)>, <tf.Tensor: shape=(2048,), dtype=float32, numpy=\n",
      "array([-7.1613444e-04, -8.1597408e-04,  2.3822975e-03, ...,\n",
      "       -9.3241193e-05,  2.4646270e-04,  7.7214136e-05], dtype=float32)>, <tensorflow.python.framework.indexed_slices.IndexedSlices object at 0x7f27e77d1e90>, <tf.Tensor: shape=(128, 2048), dtype=float32, numpy=\n",
      "array([[-6.0888976e-07, -6.9028401e-06, -5.9647664e-07, ...,\n",
      "        -4.1039075e-06, -3.1890249e-05,  1.1746225e-07],\n",
      "       [ 2.3926315e-05, -1.5496325e-07,  2.4975950e-06, ...,\n",
      "         1.6408294e-05,  3.9341969e-05,  1.3666011e-06],\n",
      "       [ 4.3240245e-05,  2.3485152e-06, -2.7635072e-06, ...,\n",
      "         2.4088011e-05, -9.6707925e-05,  1.3584157e-05],\n",
      "       ...,\n",
      "       [ 2.0040559e-05,  1.4509392e-05,  9.4146544e-06, ...,\n",
      "        -9.5576097e-06, -5.7947105e-05, -2.0759239e-06],\n",
      "       [ 3.9586150e-05,  2.2373328e-05, -8.4607736e-06, ...,\n",
      "         4.2561125e-05, -2.0626285e-04, -7.8536950e-06],\n",
      "       [-2.2735236e-05,  1.6857728e-05,  1.0258453e-05, ...,\n",
      "        -1.1537810e-05,  4.0582410e-05, -1.0266709e-05]], dtype=float32)>, <tf.Tensor: shape=(512, 2048), dtype=float32, numpy=\n",
      "array([[ 1.8836765e-05,  1.6432223e-06, -1.4991836e-07, ...,\n",
      "        -7.4538561e-06,  1.7827642e-05,  6.6826728e-06],\n",
      "       [ 2.6088915e-04,  3.1999811e-05, -3.2678548e-05, ...,\n",
      "         2.1754006e-05, -5.5209493e-05, -3.1278039e-05],\n",
      "       [ 7.0404727e-05,  1.2132058e-05, -8.3120412e-06, ...,\n",
      "         1.1613170e-05, -7.9131596e-06, -1.6511278e-05],\n",
      "       ...,\n",
      "       [ 1.6097176e-05, -2.9248167e-06,  1.0062886e-06, ...,\n",
      "         6.2432770e-07, -9.5167270e-06,  8.7835178e-06],\n",
      "       [-1.5199024e-04, -2.2439748e-05,  2.0880285e-05, ...,\n",
      "        -3.9240735e-05,  1.7261136e-04,  8.6340015e-06],\n",
      "       [-4.6458375e-05, -1.5534210e-06,  5.9261433e-06, ...,\n",
      "        -2.0515403e-05,  8.3816776e-05,  7.1418121e-06]], dtype=float32)>, <tf.Tensor: shape=(2048,), dtype=float32, numpy=\n",
      "array([-0.00226792, -0.0005382 ,  0.00015157, ...,  0.00062858,\n",
      "       -0.00145073,  0.00032066], dtype=float32)>, <tf.Tensor: shape=(512, 5744), dtype=float32, numpy=\n",
      "array([[-1.26730360e-04, -1.28039464e-04,  6.79831132e-02, ...,\n",
      "        -1.26549930e-04, -1.25931372e-04, -1.25812745e-04],\n",
      "       [-1.10744243e-03, -1.12180971e-03,  5.08744955e-01, ...,\n",
      "        -1.10654789e-03, -1.10022724e-03, -1.09944888e-03],\n",
      "       [-2.68080825e-04, -2.71732541e-04,  9.07665119e-02, ...,\n",
      "        -2.67983240e-04, -2.66394636e-04, -2.66237475e-04],\n",
      "       ...,\n",
      "       [-1.21206074e-04, -1.22242098e-04,  1.48941740e-01, ...,\n",
      "        -1.21028810e-04, -1.20445802e-04, -1.20204080e-04],\n",
      "       [ 4.71713225e-04,  4.78775357e-04, -1.30521491e-01, ...,\n",
      "         4.71582083e-04,  4.68609651e-04,  4.68374667e-04],\n",
      "       [ 7.92553546e-05,  8.08838740e-05,  2.31196191e-02, ...,\n",
      "         7.93380241e-05,  7.86523597e-05,  7.87580720e-05]], dtype=float32)>, <tf.Tensor: shape=(5744,), dtype=float32, numpy=\n",
      "array([-1.3496080e+02,  3.9227717e-02, -1.5961107e+01, ...,\n",
      "        3.9059348e-02,  3.8987882e-02,  3.8963661e-02], dtype=float32)>]\n"
     ]
    }
   ],
   "source": [
    "for x, y in train_dataset_batch.take(1):\n",
    "    y_input, y_output = return_tuple(y)\n",
    "    loss_value, gradients = forward_and_backward_pass(x, y_input, y_output, loss = loss_obj)\n",
    "    print(loss_value)\n",
    "    print(\"gradients\", gradients)\n",
    "    optimizer_obj.apply_gradients(zip(gradients,\n",
    "                                      encoder_model.trainable_variables + decoder_model.trainable_variables))"
   ]
  },
  {
   "cell_type": "code",
   "execution_count": 52,
   "metadata": {
    "id": "wxxqrobOFAqa"
   },
   "outputs": [],
   "source": [
    "def train_RNN(encoder_model, decoder_model, num_epochs, train_dataset, validation_dataset , optimizer, loss, forward_and_backward_pass):\n",
    "\n",
    "    # Keep results for plotting\n",
    "    train_loss_results, validation_loss_results = [], []\n",
    "\n",
    "    for epoch in range(num_epochs): # Start the training\n",
    "        print(\"Epoch now is...\", epoch)\n",
    "        epoch_loss_avg = tf.keras.metrics.Mean()\n",
    "\n",
    "        # Training loop\n",
    "\n",
    "        for x_train, y_train in train_dataset:\n",
    "\n",
    "            y_train_input, y_train_output = return_tuple(y_train)\n",
    "            loss_value, gradients = forward_and_backward_pass(x_train, y_train_input, y_train_output, loss = loss)\n",
    "\n",
    "            optimizer_obj.apply_gradients(zip(gradients,\n",
    "                                              encoder_model.trainable_variables + decoder_model.trainable_variables))\n",
    "\n",
    "            # Compute current loss\n",
    "            epoch_loss_avg(loss_value)\n",
    "            train_loss = epoch_loss_avg.result()\n",
    "        \n",
    "        train_loss_results.append(train_loss)\n",
    "\n",
    "        # Validation loop\n",
    "        \n",
    "        for x_val, y_val in validation_dataset:\n",
    "\n",
    "            y_val_input, y_val_output = return_tuple(y_val)\n",
    "            loss_value, gradients = forward_and_backward_pass(x_val, y_val_input, y_val_output, loss = loss)\n",
    "\n",
    "            ### Skip the training and optimization ###\n",
    "            # trainableVariables = encoder_model.trainable_variables + decoder_model.trainable_variables\n",
    "            # optimizer_obj.apply_gradients(zip(gradients, trainableVariables))\n",
    "            ###\n",
    "            \n",
    "            # Compute current loss\n",
    "            epoch_loss_avg(loss_value)\n",
    "            val_loss = epoch_loss_avg.result()\n",
    "            \n",
    "        validation_loss_results.append(val_loss)\n",
    "\n",
    "        print(f\"Epoch: {epoch}, Training Loss: {train_loss}, Validation Loss: {val_loss}\")\n",
    "        \n",
    "    return train_loss_results, validation_loss_results"
   ]
  },
  {
   "cell_type": "code",
   "execution_count": 75,
   "metadata": {
    "colab": {
     "base_uri": "https://localhost:8080/"
    },
    "id": "Vl5H06811ibx",
    "outputId": "fecc33cf-e169-4222-d018-5632b9c3babc"
   },
   "outputs": [
    {
     "name": "stdout",
     "output_type": "stream",
     "text": [
      "Epoch now is... 0\n",
      "Epoch: 0, Training Loss: 1.6712983846664429, Validation Loss: 1.7209522724151611\n",
      "Epoch now is... 1\n",
      "Epoch: 1, Training Loss: 1.234226107597351, Validation Loss: 1.3215181827545166\n",
      "Epoch now is... 2\n",
      "Epoch: 2, Training Loss: 0.9874557256698608, Validation Loss: 1.1027288436889648\n",
      "Epoch now is... 3\n",
      "Epoch: 3, Training Loss: 0.8452062010765076, Validation Loss: 0.983309805393219\n",
      "Epoch now is... 4\n",
      "Epoch: 4, Training Loss: 0.7536570429801941, Validation Loss: 0.9091868996620178\n",
      "Epoch now is... 5\n",
      "Epoch: 5, Training Loss: 0.6894376277923584, Validation Loss: 0.860326886177063\n",
      "Epoch now is... 6\n",
      "Epoch: 6, Training Loss: 0.6386073231697083, Validation Loss: 0.8257377743721008\n",
      "Epoch now is... 7\n",
      "Epoch: 7, Training Loss: 0.6001792550086975, Validation Loss: 0.7989206314086914\n",
      "Epoch now is... 8\n",
      "Epoch: 8, Training Loss: 0.5664132237434387, Validation Loss: 0.7765232920646667\n",
      "Epoch now is... 9\n",
      "Epoch: 9, Training Loss: 0.5396527647972107, Validation Loss: 0.7616023421287537\n",
      "Epoch now is... 10\n",
      "Epoch: 10, Training Loss: 0.518426775932312, Validation Loss: 0.7486920952796936\n",
      "Epoch now is... 11\n",
      "Epoch: 11, Training Loss: 0.4990052580833435, Validation Loss: 0.7400411367416382\n",
      "Epoch now is... 12\n",
      "Epoch: 12, Training Loss: 0.48221924901008606, Validation Loss: 0.7320689558982849\n",
      "Epoch now is... 13\n",
      "Epoch: 13, Training Loss: 0.46577128767967224, Validation Loss: 0.725425660610199\n",
      "Epoch now is... 14\n",
      "Epoch: 14, Training Loss: 0.4500942528247833, Validation Loss: 0.718795657157898\n"
     ]
    }
   ],
   "source": [
    "train_loss_results, validation_loss_results= train_RNN(encoder_model = encoder_model,\n",
    "                                                    decoder_model = decoder_model,\n",
    "                                                    num_epochs = 15,\n",
    "                                                    train_dataset = train_dataset_batch,\n",
    "                                                    validation_dataset = validation_dataset_batch,\n",
    "                                                    optimizer = optimizer_obj,\n",
    "                                                    loss = loss_obj,\n",
    "                                                    forward_and_backward_pass = forward_and_backward_pass)"
   ]
  },
  {
   "cell_type": "code",
   "execution_count": 54,
   "metadata": {
    "colab": {
     "base_uri": "https://localhost:8080/"
    },
    "id": "tDlH3hO99VOm",
    "outputId": "a744a812-b375-4567-bac1-5d17fa053b2b"
   },
   "outputs": [
    {
     "data": {
      "text/plain": [
       "([<tf.Tensor: shape=(), dtype=float32, numpy=6.2270436>,\n",
       "  <tf.Tensor: shape=(), dtype=float32, numpy=5.069681>,\n",
       "  <tf.Tensor: shape=(), dtype=float32, numpy=4.099605>,\n",
       "  <tf.Tensor: shape=(), dtype=float32, numpy=3.1824899>,\n",
       "  <tf.Tensor: shape=(), dtype=float32, numpy=2.3447223>],\n",
       " [<tf.Tensor: shape=(), dtype=float32, numpy=6.1053624>,\n",
       "  <tf.Tensor: shape=(), dtype=float32, numpy=4.995848>,\n",
       "  <tf.Tensor: shape=(), dtype=float32, numpy=4.0498962>,\n",
       "  <tf.Tensor: shape=(), dtype=float32, numpy=3.1576228>,\n",
       "  <tf.Tensor: shape=(), dtype=float32, numpy=2.352297>])"
      ]
     },
     "execution_count": 54,
     "metadata": {
      "tags": []
     },
     "output_type": "execute_result"
    }
   ],
   "source": [
    "train_loss_results, validation_loss_results"
   ]
  },
  {
   "cell_type": "code",
   "execution_count": 77,
   "metadata": {
    "id": "9nafTVa1i4i1"
   },
   "outputs": [],
   "source": [
    "### RUN THIS IF TRAINING ###\n",
    "### DO NOT RUN THIS IF NOT TRAINING ###\n",
    "\n",
    "# np.savetxt('/content/gdrive/MyDrive/Colab Notebooks/Course 2/saved_models/train_loss_results.csv', np.array(train_loss_results))\n",
    "# np.savetxt('/content/gdrive/MyDrive/Colab Notebooks/Course 2/saved_models/validation_loss_results.csv', np.array(validation_loss_results))\n",
    "\n",
    "# encoder_model.save_weights('/content/gdrive/MyDrive/Colab Notebooks/Course 2/saved_models/encoder.h5')\n",
    "# decoder_model.save_weights('/content/gdrive/MyDrive/Colab Notebooks/Course 2/saved_models/decoder.h5')"
   ]
  },
  {
   "cell_type": "code",
   "execution_count": 53,
   "metadata": {
    "id": "R4OY2LuW6E8p"
   },
   "outputs": [],
   "source": [
    "decoder_model.load_weights('/content/gdrive/MyDrive/Colab Notebooks/Course 2/saved_models/decoder.h5')"
   ]
  },
  {
   "cell_type": "code",
   "execution_count": 52,
   "metadata": {
    "id": "UGizkMVw6LSu"
   },
   "outputs": [],
   "source": [
    "encoder_model.load_weights('/content/gdrive/MyDrive/Colab Notebooks/Course 2/saved_models/encoder.h5')"
   ]
  },
  {
   "cell_type": "code",
   "execution_count": 56,
   "metadata": {
    "id": "TRT_Fm_tur4J"
   },
   "outputs": [],
   "source": [
    "train_loss_results = np.genfromtxt('/content/gdrive/MyDrive/Colab Notebooks/Course 2/saved_models/train_loss_results.csv')\n",
    "validation_loss_results = np.genfromtxt('/content/gdrive/MyDrive/Colab Notebooks/Course 2/saved_models/validation_loss_results.csv')"
   ]
  },
  {
   "cell_type": "code",
   "execution_count": 75,
   "metadata": {
    "colab": {
     "base_uri": "https://localhost:8080/",
     "height": 520
    },
    "id": "6VSmBdwT1ib4",
    "outputId": "ffb5663c-8f48-4e69-8870-d6080b7d7ffc"
   },
   "outputs": [
    {
     "data": {
      "image/png": "[encoded data removed]",
      "text/plain": [
       "<Figure size 1152x648 with 1 Axes>"
      ]
     },
     "metadata": {
      "needs_background": "light",
      "tags": []
     },
     "output_type": "display_data"
    },
    {
     "data": {
      "text/plain": [
       "<Figure size 432x288 with 0 Axes>"
      ]
     },
     "metadata": {
      "tags": []
     },
     "output_type": "display_data"
    }
   ],
   "source": [
    "import matplotlib.pyplot as plt\n",
    "\n",
    "plt.figure(figsize = (16,9))\n",
    "plt.plot(train_loss_results, label = \"Training Loss\")\n",
    "plt.plot(validation_loss_results, label = \"Validation Loss\")\n",
    "plt.ylabel(\"Loss\")\n",
    "plt.xlabel(\"Epoch\")\n",
    "plt.legend()\n",
    "plt.show()\n",
    "plt.savefig('/content/gdrive/MyDrive/Colab Notebooks/Course 2/saved_models/train_val_losses', dpi=300)"
   ]
  },
  {
   "cell_type": "code",
   "execution_count": null,
   "metadata": {
    "id": "dpacst2F1ib7"
   },
   "outputs": [],
   "source": []
  },
  {
   "cell_type": "markdown",
   "metadata": {
    "id": "xM2gvBM11ib-"
   },
   "source": [
    "## 7. Use the model to translate\n",
    "Now it's time to put your model into practice! You should run your translation for five randomly sampled English sentences from the dataset. For each sentence, the process is as follows:\n",
    "* Preprocess and embed the English sentence according to the model requirements.\n",
    "* Pass the embedded sentence through the encoder to get the encoder hidden and cell states.\n",
    "* Starting with the special  `\"<start>\"` token, use this token and the final encoder hidden and cell states to get the one-step prediction from the decoder, as well as the decoder’s updated hidden and cell states.\n",
    "* Create a loop to get the next step prediction and updated hidden and cell states from the decoder, using the most recent hidden and cell states. Terminate the loop when the `\"<end>\"` token is emitted, or when the sentence has reached a maximum length.\n",
    "* Decode the output token sequence into German text and print the English text and the model's German translation."
   ]
  },
  {
   "cell_type": "code",
   "execution_count": 58,
   "metadata": {
    "colab": {
     "base_uri": "https://localhost:8080/"
    },
    "id": "bGnQtE7L1icA",
    "outputId": "2f61c908-b4e3-45fd-c371-e151ca4d7dfb"
   },
   "outputs": [
    {
     "data": {
      "text/plain": [
       "array([\"That's our fault.\", \"It's difficult.\", 'Do you know us?',\n",
       "       'Tom got caught.', 'I built it.'], dtype=object)"
      ]
     },
     "execution_count": 58,
     "metadata": {
      "tags": []
     },
     "output_type": "execute_result"
    }
   ],
   "source": [
    "five_random_english_texts = np.random.choice(english_sentences_numpy, 5)\n",
    "\n",
    "five_random_english_texts"
   ]
  },
  {
   "cell_type": "code",
   "execution_count": 59,
   "metadata": {
    "id": "PBIj0ANF9tS5"
   },
   "outputs": [],
   "source": [
    "five_random_english_texts = tf.constant(five_random_english_texts)\n",
    "five_random_english_texts_dataset = tf.data.Dataset.from_tensor_slices(five_random_english_texts)"
   ]
  },
  {
   "cell_type": "code",
   "execution_count": 60,
   "metadata": {
    "id": "ohleJRcJ1icD"
   },
   "outputs": [],
   "source": [
    "def split_at_spaces(dataset):\n",
    "    \n",
    "    def predicate(x):\n",
    "        return tf.strings.split(x)\n",
    "    \n",
    "    return dataset.map(predicate)\n",
    "\n",
    "def embed_using_layer(dataset):\n",
    "    \n",
    "    def predicate(x):\n",
    "        return embedding_layer(x)\n",
    "    \n",
    "    return dataset.map(predicate)\n",
    "\n",
    "def pad_the_dataset(dataset):\n",
    "    \n",
    "    def predicate(x):\n",
    "        padding = tf.concat(([[13-tf.shape(x)[0],0]], [[0,0]]), axis=0)\n",
    "        x = tf.pad(x, padding)\n",
    "        return x\n",
    "    \n",
    "    return dataset.map(predicate)"
   ]
  },
  {
   "cell_type": "code",
   "execution_count": 61,
   "metadata": {
    "colab": {
     "base_uri": "https://localhost:8080/"
    },
    "id": "Unk60cEy1icI",
    "outputId": "6d0446b9-9d4c-4e79-9ff6-b8d3bdf64209"
   },
   "outputs": [
    {
     "name": "stdout",
     "output_type": "stream",
     "text": [
      "tf.Tensor(\n",
      "[[[ 0.          0.          0.         ...  0.          0.\n",
      "    0.        ]\n",
      "  [ 0.          0.          0.         ...  0.          0.\n",
      "    0.        ]\n",
      "  [ 0.          0.          0.         ...  0.          0.\n",
      "    0.        ]\n",
      "  ...\n",
      "  [ 0.02267994  0.04535988 -0.05501911 ... -0.0143773  -0.00742926\n",
      "    0.01925044]\n",
      "  [ 0.17260592  0.08882307  0.07064182 ... -0.09832233  0.04810784\n",
      "   -0.02302268]\n",
      "  [-0.0960196  -0.09368432 -0.10576937 ...  0.18147296 -0.00172824\n",
      "   -0.08979956]]], shape=(1, 13, 128), dtype=float32)\n",
      "tf.Tensor(\n",
      "[[[ 0.          0.          0.         ...  0.          0.\n",
      "    0.        ]\n",
      "  [ 0.          0.          0.         ...  0.          0.\n",
      "    0.        ]\n",
      "  [ 0.          0.          0.         ...  0.          0.\n",
      "    0.        ]\n",
      "  ...\n",
      "  [ 0.          0.          0.         ...  0.          0.\n",
      "    0.        ]\n",
      "  [-0.03077477  0.00177951  0.00550857 ...  0.09689861 -0.07700594\n",
      "   -0.14280668]\n",
      "  [-0.14727084 -0.2523232  -0.20604686 ...  0.11952574  0.01830765\n",
      "    0.03693645]]], shape=(1, 13, 128), dtype=float32)\n",
      "tf.Tensor(\n",
      "[[[ 0.          0.          0.         ...  0.          0.\n",
      "    0.        ]\n",
      "  [ 0.          0.          0.         ...  0.          0.\n",
      "    0.        ]\n",
      "  [ 0.          0.          0.         ...  0.          0.\n",
      "    0.        ]\n",
      "  ...\n",
      "  [ 0.04845919 -0.04174736  0.25597653 ... -0.07194937 -0.07522539\n",
      "    0.04384695]\n",
      "  [ 0.15229782  0.10695879 -0.04037448 ... -0.07935174 -0.00801719\n",
      "   -0.04891816]\n",
      "  [-0.01075507  0.08881223 -0.02409298 ... -0.00149439  0.0308523\n",
      "   -0.06454446]]], shape=(1, 13, 128), dtype=float32)\n",
      "tf.Tensor(\n",
      "[[[ 0.          0.          0.         ...  0.          0.\n",
      "    0.        ]\n",
      "  [ 0.          0.          0.         ...  0.          0.\n",
      "    0.        ]\n",
      "  [ 0.          0.          0.         ...  0.          0.\n",
      "    0.        ]\n",
      "  ...\n",
      "  [ 0.04280555 -0.04174238 -0.1121044  ...  0.07126747  0.05806179\n",
      "    0.04433168]\n",
      "  [ 0.11688706  0.11261462 -0.0085485  ... -0.00621303  0.00071248\n",
      "   -0.12380049]\n",
      "  [ 0.01465956  0.16702943 -0.11551514 ... -0.09604105  0.02219053\n",
      "   -0.03497086]]], shape=(1, 13, 128), dtype=float32)\n",
      "tf.Tensor(\n",
      "[[[ 0.          0.          0.         ...  0.          0.\n",
      "    0.        ]\n",
      "  [ 0.          0.          0.         ...  0.          0.\n",
      "    0.        ]\n",
      "  [ 0.          0.          0.         ...  0.          0.\n",
      "    0.        ]\n",
      "  ...\n",
      "  [ 0.01783867 -0.04551457  0.1822003  ...  0.02034203 -0.0484761\n",
      "    0.07152364]\n",
      "  [ 0.05279386  0.03830406  0.08851055 ... -0.02145527  0.06465196\n",
      "   -0.04180225]\n",
      "  [ 0.14871997  0.08003504 -0.01656156 ... -0.0482883   0.05407189\n",
      "   -0.09819905]]], shape=(1, 13, 128), dtype=float32)\n"
     ]
    }
   ],
   "source": [
    "five_random_english_texts_dataset = split_at_spaces(five_random_english_texts_dataset)\n",
    "five_random_english_texts_dataset = embed_using_layer(five_random_english_texts_dataset)\n",
    "five_random_english_texts_dataset = pad_the_dataset(five_random_english_texts_dataset)\n",
    "five_random_english_texts_dataset = five_random_english_texts_dataset.batch(1)\n",
    "\n",
    "for x in five_random_english_texts_dataset:\n",
    "    print(x)"
   ]
  },
  {
   "cell_type": "code",
   "execution_count": 62,
   "metadata": {
    "id": "NwTzHrK1APwy"
   },
   "outputs": [],
   "source": [
    "start_token = tokenizer.texts_to_sequences(['<start>'])\n",
    "end_token = tokenizer.texts_to_sequences([\"<end>\"])"
   ]
  },
  {
   "cell_type": "code",
   "execution_count": 63,
   "metadata": {
    "id": "OakTo6cr-dxp"
   },
   "outputs": [],
   "source": [
    "result = [[] for _ in range(5)]\n",
    "i = 0\n",
    "for x in five_random_english_texts_dataset:\n",
    "    encoder_h_s, encoder_c_s = encoder_model(x)\n",
    "    decoded_output, decoded_hidden, decoded_cell = decoder_model(np.array(start_token),\n",
    "                                                           hidden_state=encoder_h_s,\n",
    "                                                           cell_state=encoder_c_s)\n",
    "    [pred] = tf.argmax(decoded_output, axis=2).numpy()\n",
    "    result[i].append(pred)\n",
    "    for _ in range(13):\n",
    "        decoded_output, decoded_hidden, decoded_cell = decoder_model(pred[np.newaxis, ...],\n",
    "                                                               hidden_state=decoded_hidden, cell_state=decoded_cell)\n",
    "        [pred] = tf.argmax(decoded_output, axis=2).numpy()\n",
    "        if pred == end_token:\n",
    "            break\n",
    "        result[i].append(pred)\n",
    "    i += 1"
   ]
  },
  {
   "cell_type": "code",
   "execution_count": 71,
   "metadata": {
    "colab": {
     "base_uri": "https://localhost:8080/"
    },
    "id": "mrxiEhcS-eDG",
    "outputId": "b2c3d02a-32c3-4bbc-a859-7fd09c4fe106"
   },
   "outputs": [
    {
     "name": "stdout",
     "output_type": "stream",
     "text": [
      "Original English Sentence:  b\"That's our fault.\"\n",
      "Translation:  ich habe kleine ohren .\n",
      "\n",
      "Original English Sentence:  b\"It's difficult.\"\n",
      "Translation:  tom ist launisch .\n",
      "\n",
      "Original English Sentence:  b'Do you know us?'\n",
      "Translation:  ich bin einfach nur neugierig .\n",
      "\n",
      "Original English Sentence:  b'Tom got caught.'\n",
      "Translation:  ich habe es kommen sehen .\n",
      "\n",
      "Original English Sentence:  b'I built it.'\n",
      "Translation:  ich habe kleine ohren .\n",
      "\n"
     ]
    }
   ],
   "source": [
    "for original_sentence,translation in zip(five_random_english_texts.numpy(), result):\n",
    "  print(\"Original English Sentence: \", original_sentence)\n",
    "  print(\"Translation: \",\" \".join(tokenizer.sequences_to_texts(translation)))\n",
    "  print()"
   ]
  },
  {
   "cell_type": "code",
   "execution_count": null,
   "metadata": {
    "id": "9VnZfAUKwEEO"
   },
   "outputs": [],
   "source": []
  }
 ],
 "metadata": {
  "accelerator": "GPU",
  "colab": {
   "collapsed_sections": [],
   "name": "C2 Capstone neural_translation COMPLETED.ipynb",
   "provenance": [],
   "toc_visible": true
  },
  "kernelspec": {
   "display_name": "Python 3",
   "language": "python",
   "name": "python3"
  },
  "language_info": {
   "codemirror_mode": {
    "name": "ipython",
    "version": 3
   },
   "file_extension": ".py",
   "mimetype": "text/x-python",
   "name": "python",
   "nbconvert_exporter": "python",
   "pygments_lexer": "ipython3",
   "version": "3.7.7"
  }
 },
 "nbformat": 4,
 "nbformat_minor": 1
}
